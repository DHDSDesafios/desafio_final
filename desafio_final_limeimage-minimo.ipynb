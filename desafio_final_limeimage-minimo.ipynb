{
 "cells": [
  {
   "cell_type": "markdown",
   "metadata": {},
   "source": [
    "# **DESAFIO 3 G2** \n",
    "# **Dataset Imagenes Covid-19 - Modelo de clasificacion supervisado.**\n",
    "---"
   ]
  },
  {
   "cell_type": "markdown",
   "metadata": {},
   "source": [
    "<a id=\"sec_imp\"></a> \n",
    "### Importaciones y carga de bibliotecas\n",
    "\n",
    "[volver a TOC](#section_toc)"
   ]
  },
  {
   "cell_type": "code",
   "execution_count": 1,
   "metadata": {},
   "outputs": [
    {
     "name": "stdout",
     "output_type": "stream",
     "text": [
      "Requirement already satisfied: opencv-python in /home/mauricio/anaconda3/envs/dhblend/lib/python3.7/site-packages (4.4.0.42)\n",
      "Requirement already satisfied: numpy>=1.14.5 in /home/mauricio/anaconda3/envs/dhblend/lib/python3.7/site-packages (from opencv-python) (1.18.1)\n",
      "Requirement already satisfied: scikit-image in /home/mauricio/anaconda3/envs/dhblend/lib/python3.7/site-packages (0.17.2)\n",
      "Requirement already satisfied: networkx>=2.0 in /home/mauricio/anaconda3/envs/dhblend/lib/python3.7/site-packages (from scikit-image) (2.5)\n",
      "Requirement already satisfied: tifffile>=2019.7.26 in /home/mauricio/anaconda3/envs/dhblend/lib/python3.7/site-packages (from scikit-image) (2020.10.1)\n",
      "Requirement already satisfied: PyWavelets>=1.1.1 in /home/mauricio/anaconda3/envs/dhblend/lib/python3.7/site-packages (from scikit-image) (1.1.1)\n",
      "Requirement already satisfied: matplotlib!=3.0.0,>=2.0.0 in /home/mauricio/anaconda3/envs/dhblend/lib/python3.7/site-packages (from scikit-image) (3.3.1)\n",
      "Requirement already satisfied: numpy>=1.15.1 in /home/mauricio/anaconda3/envs/dhblend/lib/python3.7/site-packages (from scikit-image) (1.18.1)\n",
      "Requirement already satisfied: pillow!=7.1.0,!=7.1.1,>=4.3.0 in /home/mauricio/anaconda3/envs/dhblend/lib/python3.7/site-packages (from scikit-image) (7.1.2)\n",
      "Requirement already satisfied: scipy>=1.0.1 in /home/mauricio/anaconda3/envs/dhblend/lib/python3.7/site-packages (from scikit-image) (1.4.1)\n",
      "Requirement already satisfied: imageio>=2.3.0 in /home/mauricio/anaconda3/envs/dhblend/lib/python3.7/site-packages (from scikit-image) (2.9.0)\n",
      "Requirement already satisfied: decorator>=4.3.0 in /home/mauricio/anaconda3/envs/dhblend/lib/python3.7/site-packages (from networkx>=2.0->scikit-image) (4.4.2)\n",
      "Requirement already satisfied: cycler>=0.10 in /home/mauricio/anaconda3/envs/dhblend/lib/python3.7/site-packages (from matplotlib!=3.0.0,>=2.0.0->scikit-image) (0.10.0)\n",
      "Requirement already satisfied: certifi>=2020.06.20 in /home/mauricio/anaconda3/envs/dhblend/lib/python3.7/site-packages (from matplotlib!=3.0.0,>=2.0.0->scikit-image) (2020.6.20)\n",
      "Requirement already satisfied: kiwisolver>=1.0.1 in /home/mauricio/anaconda3/envs/dhblend/lib/python3.7/site-packages (from matplotlib!=3.0.0,>=2.0.0->scikit-image) (1.2.0)\n",
      "Requirement already satisfied: python-dateutil>=2.1 in /home/mauricio/anaconda3/envs/dhblend/lib/python3.7/site-packages (from matplotlib!=3.0.0,>=2.0.0->scikit-image) (2.8.1)\n",
      "Requirement already satisfied: pyparsing!=2.0.4,!=2.1.2,!=2.1.6,>=2.0.3 in /home/mauricio/anaconda3/envs/dhblend/lib/python3.7/site-packages (from matplotlib!=3.0.0,>=2.0.0->scikit-image) (2.4.7)\n",
      "Requirement already satisfied: six in /home/mauricio/anaconda3/envs/dhblend/lib/python3.7/site-packages (from cycler>=0.10->matplotlib!=3.0.0,>=2.0.0->scikit-image) (1.14.0)\n"
     ]
    }
   ],
   "source": [
    "!pip install opencv-python\n",
    "!pip install scikit-image"
   ]
  },
  {
   "cell_type": "markdown",
   "metadata": {},
   "source": [
    "#### Importacion de bibliotecas generales"
   ]
  },
  {
   "cell_type": "code",
   "execution_count": 2,
   "metadata": {},
   "outputs": [],
   "source": [
    "import os\n",
    "import sys\n",
    "import re"
   ]
  },
  {
   "cell_type": "code",
   "execution_count": 3,
   "metadata": {},
   "outputs": [],
   "source": [
    "import pandas as pd\n",
    "import numpy as np"
   ]
  },
  {
   "cell_type": "code",
   "execution_count": 4,
   "metadata": {},
   "outputs": [],
   "source": [
    "import seaborn as sns\n",
    "import matplotlib.pyplot as plt"
   ]
  },
  {
   "cell_type": "code",
   "execution_count": 5,
   "metadata": {},
   "outputs": [],
   "source": [
    "import cv2\n",
    "import skimage\n",
    "import skimage.io\n",
    "import skimage.transform"
   ]
  },
  {
   "cell_type": "code",
   "execution_count": 6,
   "metadata": {},
   "outputs": [],
   "source": [
    "import pickle"
   ]
  },
  {
   "cell_type": "markdown",
   "metadata": {},
   "source": [
    "#### Importacion de librerias para armado y testeo de modelos"
   ]
  },
  {
   "cell_type": "code",
   "execution_count": 7,
   "metadata": {},
   "outputs": [],
   "source": [
    "# operaciones sobre variables\n",
    "from sklearn.model_selection import train_test_split, cross_val_score, StratifiedKFold, GridSearchCV\n",
    "from sklearn.metrics import confusion_matrix, classification_report, f1_score, accuracy_score, precision_score, make_scorer\n",
    "from sklearn.pipeline import Pipeline, make_pipeline, make_union\n",
    "\n",
    "# modelos de clasificacion\n",
    "from sklearn.linear_model import LogisticRegression\n",
    "from sklearn.neighbors import KNeighborsClassifier\n",
    "from sklearn.naive_bayes import GaussianNB, MultinomialNB\n",
    "from sklearn.ensemble import GradientBoostingClassifier\n",
    "\n",
    "# modelos de regresion\n",
    "from sklearn.linear_model import LinearRegression\n",
    "\n",
    "# normalizacion de variables\n",
    "from sklearn.preprocessing import StandardScaler, OneHotEncoder, RobustScaler"
   ]
  },
  {
   "cell_type": "code",
   "execution_count": 8,
   "metadata": {},
   "outputs": [],
   "source": [
    "with open('model_lr.pkl', 'rb') as lr_model:\n",
    "        logistic_regression = pickle.load(lr_model)"
   ]
  },
  {
   "cell_type": "code",
   "execution_count": 9,
   "metadata": {},
   "outputs": [
    {
     "name": "stdout",
     "output_type": "stream",
     "text": [
      "(2249, 2809, 3)\n",
      "(2249, 2809)\n"
     ]
    },
    {
     "data": {
      "text/plain": [
       "<matplotlib.image.AxesImage at 0x7f5aad4a3fd0>"
      ]
     },
     "metadata": {},
     "output_type": "display_data"
    },
    {
     "data": {
      "text/plain": [
       "<matplotlib.image.AxesImage at 0x7f5aba385e50>"
      ]
     },
     "metadata": {},
     "output_type": "display_data"
    },
    {
     "data": {
      "image/png": "[encoded data removed]",
      "text/plain": [
       "<Figure size 432x288 with 1 Axes>"
      ]
     },
     "metadata": {
      "needs_background": "light"
     },
     "output_type": "display_data"
    }
   ],
   "source": [
    "#### cargo imagen\n",
    "# imagen a color x defecto: np array de 3 dimensiones: (row/x/heigh,column/y/lengh,z/depth/RGB channels)\n",
    "Xi = skimage.io.imread('../data/7.jpg')\n",
    "print(Xi.shape)\n",
    "\n",
    "# one channel only. 2 dimension array\n",
    "Xi = skimage.color.rgb2gray(Xi)\n",
    "print(Xi.shape)\n",
    "display(skimage.io.imshow(Xi))\n",
    "\n",
    "# resize 2 dimensional array\n",
    "Xi = skimage.transform.resize(Xi, (100,100))\n",
    "display(skimage.io.imshow(Xi))"
   ]
  },
  {
   "cell_type": "code",
   "execution_count": 10,
   "metadata": {},
   "outputs": [
    {
     "data": {
      "text/plain": [
       "100"
      ]
     },
     "metadata": {},
     "output_type": "display_data"
    },
    {
     "data": {
      "text/plain": [
       "100"
      ]
     },
     "metadata": {},
     "output_type": "display_data"
    },
    {
     "data": {
      "text/plain": [
       "array([0.56122262, 0.57872426, 0.59799032, ..., 0.08377847, 0.10009279,\n",
       "       0.11272421])"
      ]
     },
     "metadata": {},
     "output_type": "display_data"
    },
    {
     "data": {
      "text/plain": [
       "<matplotlib.image.AxesImage at 0x7f5aad4662d0>"
      ]
     },
     "execution_count": 10,
     "metadata": {},
     "output_type": "execute_result"
    },
    {
     "data": {
      "image/png": "[encoded data removed]",
      "text/plain": [
       "<Figure size 432x288 with 1 Axes>"
      ]
     },
     "metadata": {
      "needs_background": "light"
     },
     "output_type": "display_data"
    }
   ],
   "source": [
    "## extraigo tamaño filas y columnas con np.shape\n",
    "rows,cols = Xi.shape\n",
    "# calculo longitud total para armar 1 dimension y aplico np.reshape\n",
    "img_size = rows*cols\n",
    "img_1D_vector = Xi.reshape(img_size)\n",
    "display(rows,cols)\n",
    "display(img_1D_vector)\n",
    "\n",
    "# recupero 2 dimensiones concatenando filas y columnas para re armar el array\n",
    "Xj = img_1D_vector.reshape(rows,cols)\n",
    "skimage.io.imshow(Xj)"
   ]
  },
  {
   "cell_type": "code",
   "execution_count": 11,
   "metadata": {},
   "outputs": [],
   "source": [
    "#Generate segmentation for image\n",
    "# NO USO QUICKSHIFT Y USO SLIC BASADO EN K MEANS porque trabaja con imagenes de 2 dimensiones como utilizamos nosotros.\n",
    "# https://scikit-image.org/docs/dev/api/skimage.segmentation.html#skimage.segmentation.slic\n",
    "# https://scikit-image.org/docs/stable/auto_examples/segmentation/plot_segmentations.html\n",
    "\n",
    "# analizar los parametros. Ni idea que hacen. compactness permite que los superpixeles no sean cuadrados perfectos y no termine siendo una grilla.\n",
    "import skimage.segmentation\n",
    "superpixels = skimage.segmentation.slic(Xj, n_segments=100, compactness=0.2, sigma=1, start_label=1)"
   ]
  },
  {
   "cell_type": "code",
   "execution_count": 12,
   "metadata": {},
   "outputs": [
    {
     "data": {
      "text/plain": [
       "(100, 100)"
      ]
     },
     "metadata": {},
     "output_type": "display_data"
    },
    {
     "data": {
      "text/plain": [
       "array([[ 1,  1,  1, ..., 10, 10, 10],\n",
       "       [ 1,  1,  1, ..., 10, 10, 10],\n",
       "       [ 1,  1,  1, ..., 10, 10, 10],\n",
       "       ...,\n",
       "       [91, 91, 91, ..., 92, 92, 92],\n",
       "       [91, 91, 91, ..., 92, 92, 92],\n",
       "       [91, 91, 91, ..., 92, 92, 92]])"
      ]
     },
     "metadata": {},
     "output_type": "display_data"
    }
   ],
   "source": [
    "display(superpixels.shape)\n",
    "display(superpixels)"
   ]
  },
  {
   "cell_type": "code",
   "execution_count": 13,
   "metadata": {},
   "outputs": [
    {
     "data": {
      "text/plain": [
       "<matplotlib.image.AxesImage at 0x7f5aaa496a90>"
      ]
     },
     "execution_count": 13,
     "metadata": {},
     "output_type": "execute_result"
    },
    {
     "data": {
      "image/png": "[encoded data removed]",
      "text/plain": [
       "<Figure size 432x288 with 1 Axes>"
      ]
     },
     "metadata": {
      "needs_background": "light"
     },
     "output_type": "display_data"
    }
   ],
   "source": [
    "num_superpixels = np.unique(superpixels).shape[0]\n",
    "skimage.io.imshow(skimage.segmentation.mark_boundaries(Xj, superpixels))"
   ]
  },
  {
   "cell_type": "code",
   "execution_count": 14,
   "metadata": {},
   "outputs": [
    {
     "data": {
      "text/plain": [
       "(1, 100)"
      ]
     },
     "metadata": {},
     "output_type": "display_data"
    },
    {
     "data": {
      "text/plain": [
       "(100, 100)"
      ]
     },
     "execution_count": 14,
     "metadata": {},
     "output_type": "execute_result"
    }
   ],
   "source": [
    "display((np.ones(np.unique(superpixels).shape[0])[np.newaxis,:]).shape)\n",
    "superpixels.shape"
   ]
  },
  {
   "cell_type": "code",
   "execution_count": 15,
   "metadata": {},
   "outputs": [
    {
     "data": {
      "text/plain": [
       "array([[0, 1, 0, ..., 0, 0, 0],\n",
       "       [1, 0, 1, ..., 0, 1, 1],\n",
       "       [1, 1, 1, ..., 1, 1, 0],\n",
       "       ...,\n",
       "       [0, 0, 0, ..., 1, 1, 1],\n",
       "       [1, 0, 1, ..., 1, 1, 0],\n",
       "       [1, 1, 1, ..., 0, 1, 0]])"
      ]
     },
     "execution_count": 15,
     "metadata": {},
     "output_type": "execute_result"
    }
   ],
   "source": [
    "#Generate perturbations\n",
    "num_perturb = 150 # numero de perturbaciones\n",
    "trial_prob = 0.5 # probabilidad de cada intento\n",
    "times_test = 1 # cantidad de intentos\n",
    "\n",
    "perturbations = np.random.binomial(times_test, trial_prob, size=(num_perturb, num_superpixels))\n",
    "perturbations"
   ]
  },
  {
   "cell_type": "code",
   "execution_count": 16,
   "metadata": {},
   "outputs": [
    {
     "data": {
      "text/plain": [
       "array([0, 1, 0, 0, 1, 0, 0, 0, 1, 0, 1, 1, 0, 1, 1, 0, 1, 1, 1, 1, 1, 0,\n",
       "       0, 1, 1, 0, 0, 1, 0, 1, 1, 1, 1, 1, 1, 0, 1, 0, 1, 1, 1, 1, 0, 0,\n",
       "       0, 0, 0, 0, 0, 0, 0, 0, 0, 0, 0, 0, 1, 0, 1, 0, 0, 1, 0, 1, 0, 1,\n",
       "       1, 0, 1, 1, 1, 1, 1, 0, 1, 1, 0, 0, 1, 1, 0, 1, 1, 0, 1, 0, 0, 1,\n",
       "       0, 1, 0, 0, 1, 0, 0, 0, 0, 0, 0, 0])"
      ]
     },
     "metadata": {},
     "output_type": "display_data"
    },
    {
     "data": {
      "text/plain": [
       "47"
      ]
     },
     "metadata": {},
     "output_type": "display_data"
    },
    {
     "data": {
      "text/plain": [
       "47"
      ]
     },
     "metadata": {},
     "output_type": "display_data"
    },
    {
     "data": {
      "text/plain": [
       "array([ 1,  4,  8, 10, 11, 13, 14, 16, 17, 18, 19, 20, 23, 24, 27, 29, 30,\n",
       "       31, 32, 33, 34, 36, 38, 39, 40, 41, 56, 58, 61, 63, 65, 66, 68, 69,\n",
       "       70, 71, 72, 74, 75, 78, 79, 81, 82, 84, 87, 89, 92])"
      ]
     },
     "execution_count": 16,
     "metadata": {},
     "output_type": "execute_result"
    }
   ],
   "source": [
    "display(perturbations[0]) # tomo la primera linea de permutaciones\n",
    "display(np.sum(perturbations[0] == 1)) # tomo aquellos valores de la primera linea de permutaciones que sean 1 y valculo cuantos valores son\n",
    "display(len(np.where(perturbations[0] == 1)[0])) # aplico funcion where para cambiar valores y verifico que sea la misma cantidad que los valores 1\n",
    "np.where(perturbations[0] == 1)[0]"
   ]
  },
  {
   "cell_type": "code",
   "execution_count": 17,
   "metadata": {},
   "outputs": [
    {
     "name": "stdout",
     "output_type": "stream",
     "text": [
      "[0 1 0 0 1 0 0 0 1 0 1 1 0 1 1 0 1 1 1 1 1 0 0 1 1 0 0 1 0 1 1 1 1 1 1 0 1\n",
      " 0 1 1 1 1 0 0 0 0 0 0 0 0 0 0 0 0 0 0 1 0 1 0 0 1 0 1 0 1 1 0 1 1 1 1 1 0\n",
      " 1 1 0 0 1 1 0 1 1 0 1 0 0 1 0 1 0 0 1 0 0 0 0 0 0 0]\n",
      "[[0.56122262 0.57872426 0.59799032 ... 0.33486231 0.318369   0.28806267]\n",
      " [0.59020082 0.59731809 0.61364776 ... 0.4045581  0.38751176 0.37663823]\n",
      " [0.61629907 0.61476292 0.61993366 ... 0.52471053 0.47530846 0.44196022]\n",
      " ...\n",
      " [0.         0.         0.         ... 0.08152384 0.09641962 0.11030837]\n",
      " [0.         0.         0.         ... 0.08270241 0.09796173 0.11158134]\n",
      " [0.         0.         0.         ... 0.08377847 0.10009279 0.11272421]]\n"
     ]
    },
    {
     "data": {
      "image/png": "[encoded data removed]",
      "text/plain": [
       "<Figure size 432x288 with 1 Axes>"
      ]
     },
     "metadata": {
      "needs_background": "light"
     },
     "output_type": "display_data"
    }
   ],
   "source": [
    "#Create function to apply perturbations to images\n",
    "import copy\n",
    "def perturb_image(img,perturbation,segments): \n",
    "  active_pixels = np.where(perturbation == 1)[0]\n",
    "  mask = np.zeros(segments.shape)\n",
    "  for active in active_pixels:\n",
    "      mask[segments == active] = 1 \n",
    "  perturbed_image = copy.deepcopy(img)\n",
    "  perturbed_image = perturbed_image*mask\n",
    "  return perturbed_image\n",
    "\n",
    "#Show example of perturbations\n",
    "print(perturbations[0]) \n",
    "skimage.io.imshow(perturb_image(Xi,perturbations[0],superpixels))\n",
    "print((perturb_image(Xi,perturbations[0],superpixels)))"
   ]
  },
  {
   "cell_type": "code",
   "execution_count": 18,
   "metadata": {},
   "outputs": [
    {
     "name": "stdout",
     "output_type": "stream",
     "text": [
      "(10000,)\n"
     ]
    },
    {
     "data": {
      "text/plain": [
       "array([[0.56122262, 0.57872426, 0.59799032, ..., 0.08377847, 0.10009279,\n",
       "        0.11272421]])"
      ]
     },
     "execution_count": 18,
     "metadata": {},
     "output_type": "execute_result"
    }
   ],
   "source": [
    "perturbed_img = perturb_image(Xi,perturbations[0],superpixels)\n",
    "print(perturbed_img.reshape(rows*cols).shape)\n",
    "perturbed_img.reshape(rows*cols).reshape(1,-1)"
   ]
  },
  {
   "cell_type": "code",
   "execution_count": 19,
   "metadata": {},
   "outputs": [],
   "source": [
    "## se arma una lista con las predicciones. \n",
    "# no usamos metodos de redes neuronales, sino regresion logistica, por eso el input tiene que ser una Serie de Panda o un np array de dos dimensiones.\n",
    "# como partimos de un vector falseamos la 2da dimension mediante .reshape(1,-1)\n",
    "\n",
    "predictions = []\n",
    "for pert in perturbations:\n",
    "    perturbed_img = perturb_image(Xi,pert,superpixels)\n",
    "    rows,cols = perturbed_img.shape\n",
    "    perturbed_img_1d = perturbed_img.reshape(rows*cols)\n",
    "    pred = logistic_regression.predict(perturbed_img_1d.reshape(1,-1))\n",
    "    predictions.append(pred)\n",
    "\n",
    "predictions = np.array(predictions)"
   ]
  },
  {
   "cell_type": "markdown",
   "metadata": {},
   "source": [
    "https://towardsdatascience.com/interpretable-machine-learning-for-image-classification-with-lime-ea947e82ca13"
   ]
  },
  {
   "cell_type": "code",
   "execution_count": 20,
   "metadata": {},
   "outputs": [
    {
     "name": "stdout",
     "output_type": "stream",
     "text": [
      "(150,)\n",
      "[0.31443454 0.28585716 0.31443454 0.27888974 0.25166852 0.31443454\n",
      " 0.28585716 0.25838015 0.28585716 0.36754447]\n",
      "(150,)\n",
      "[0.45341265 0.52011023 0.45341265 0.53674298 0.60248268 0.45341265\n",
      " 0.52011023 0.58620693 0.52011023 0.33935399]\n"
     ]
    }
   ],
   "source": [
    "#Compute distances to original image\n",
    "import sklearn.metrics\n",
    "original_image = np.ones(num_superpixels)[np.newaxis,:] #Perturbation with all superpixels enabled \n",
    "distances = sklearn.metrics.pairwise_distances(perturbations,original_image, metric='cosine').ravel()\n",
    "print(distances.shape)\n",
    "print(distances[0:10])\n",
    "\n",
    "#Transform distances to a value between 0 an 1 (weights) using a kernel function\n",
    "kernel_width = 0.25\n",
    "weights = np.sqrt(np.exp(-(distances**2)/kernel_width**2)) #Kernel function\n",
    "print(weights.shape)\n",
    "print(weights[0:10])"
   ]
  },
  {
   "cell_type": "code",
   "execution_count": 21,
   "metadata": {},
   "outputs": [],
   "source": [
    "simpler_model = LinearRegression()\n",
    "simpler_model.fit(X=perturbations, y=predictions, sample_weight=weights)\n",
    "coeff = simpler_model.coef_[0]\n",
    "#coeff"
   ]
  },
  {
   "cell_type": "code",
   "execution_count": 22,
   "metadata": {},
   "outputs": [
    {
     "data": {
      "text/plain": [
       "array([45, 59,  5, 27, 77, 69, 51, 26, 24, 61, 48, 28, 42, 34, 38, 56, 35,\n",
       "        8, 52, 13])"
      ]
     },
     "execution_count": 22,
     "metadata": {},
     "output_type": "execute_result"
    }
   ],
   "source": [
    "num_top_features = 20\n",
    "top_features = np.argsort(coeff)[-num_top_features:] \n",
    "top_features"
   ]
  },
  {
   "cell_type": "code",
   "execution_count": 23,
   "metadata": {},
   "outputs": [
    {
     "data": {
      "text/plain": [
       "<matplotlib.image.AxesImage at 0x7f5aa7a608d0>"
      ]
     },
     "execution_count": 23,
     "metadata": {},
     "output_type": "execute_result"
    },
    {
     "data": {
      "image/png": "[encoded data removed]",
      "text/plain": [
       "<Figure size 432x288 with 1 Axes>"
      ]
     },
     "metadata": {
      "needs_background": "light"
     },
     "output_type": "display_data"
    }
   ],
   "source": [
    "mask = np.zeros(num_superpixels) \n",
    "mask[top_features]= True #Activate top superpixels\n",
    "skimage.io.imshow(perturb_image(Xi,mask,superpixels) )"
   ]
  },
  {
   "cell_type": "markdown",
   "metadata": {},
   "source": [
    "---"
   ]
  },
  {
   "cell_type": "markdown",
   "metadata": {},
   "source": [
    "### Uso directamente los metodos y atributos desde lime"
   ]
  },
  {
   "cell_type": "code",
   "execution_count": 24,
   "metadata": {},
   "outputs": [
    {
     "data": {
      "text/plain": [
       "array([[0.56122262, 0.57872426, 0.59799032, ..., 0.33486231, 0.318369  ,\n",
       "        0.28806267],\n",
       "       [0.59020082, 0.59731809, 0.61364776, ..., 0.4045581 , 0.38751176,\n",
       "        0.37663823],\n",
       "       [0.61629907, 0.61476292, 0.61993366, ..., 0.52471053, 0.47530846,\n",
       "        0.44196022],\n",
       "       ...,\n",
       "       [0.08734949, 0.07590588, 0.15955459, ..., 0.08152384, 0.09641962,\n",
       "        0.11030837],\n",
       "       [0.09005292, 0.07646771, 0.14486391, ..., 0.08270241, 0.09796173,\n",
       "        0.11158134],\n",
       "       [0.09275268, 0.07837349, 0.13247177, ..., 0.08377847, 0.10009279,\n",
       "        0.11272421]])"
      ]
     },
     "execution_count": 24,
     "metadata": {},
     "output_type": "execute_result"
    }
   ],
   "source": [
    "Xi"
   ]
  },
  {
   "cell_type": "code",
   "execution_count": 25,
   "metadata": {},
   "outputs": [],
   "source": [
    "# alternativa - usar directamente metodos de libreria lime\n",
    "# https://marcotcr.github.io/lime/tutorials/Tutorial%20-%20images.html\n",
    "# https://www.inovex.de/blog/lime-machine-learning-interpretability/\n",
    "# https://github.com/marcotcr/lime/blob/master/doc/notebooks/Tutorial%20-%20Image%20Classification%20Keras.ipynb"
   ]
  },
  {
   "cell_type": "code",
   "execution_count": 26,
   "metadata": {},
   "outputs": [],
   "source": [
    "# Estudio de metodos de generacion de superpixeles\n",
    "# https://arxiv.org/pdf/1910.07856.pdf"
   ]
  },
  {
   "cell_type": "code",
   "execution_count": 27,
   "metadata": {},
   "outputs": [],
   "source": [
    "from lime import lime_image\n",
    "from skimage.segmentation import mark_boundaries"
   ]
  },
  {
   "cell_type": "code",
   "execution_count": 28,
   "metadata": {},
   "outputs": [
    {
     "ename": "NameError",
     "evalue": "name 'X_test' is not defined",
     "output_type": "error",
     "traceback": [
      "\u001b[0;31m---------------------------------------------------------------------------\u001b[0m",
      "\u001b[0;31mNameError\u001b[0m                                 Traceback (most recent call last)",
      "\u001b[0;32m<ipython-input-28-ae019c9dc131>\u001b[0m in \u001b[0;36m<module>\u001b[0;34m\u001b[0m\n\u001b[1;32m      2\u001b[0m \u001b[0;34m\u001b[0m\u001b[0m\n\u001b[1;32m      3\u001b[0m explanation = explainer.explain_instance(\n\u001b[0;32m----> 4\u001b[0;31m     \u001b[0mimage\u001b[0m\u001b[0;34m=\u001b[0m\u001b[0mX_test\u001b[0m\u001b[0;34m,\u001b[0m\u001b[0;34m\u001b[0m\u001b[0;34m\u001b[0m\u001b[0m\n\u001b[0m\u001b[1;32m      5\u001b[0m     \u001b[0mclassifier_fn\u001b[0m\u001b[0;34m=\u001b[0m\u001b[0mlogistic_regression\u001b[0m\u001b[0;34m.\u001b[0m\u001b[0mpredict_proba\u001b[0m\u001b[0;34m,\u001b[0m\u001b[0;34m\u001b[0m\u001b[0;34m\u001b[0m\u001b[0m\n\u001b[1;32m      6\u001b[0m     \u001b[0mtop_labels\u001b[0m\u001b[0;34m=\u001b[0m\u001b[0;36m1\u001b[0m\u001b[0;34m,\u001b[0m\u001b[0;34m\u001b[0m\u001b[0;34m\u001b[0m\u001b[0m\n",
      "\u001b[0;31mNameError\u001b[0m: name 'X_test' is not defined"
     ]
    }
   ],
   "source": [
    "explainer = lime_image.LimeImageExplainer()\n",
    " \n",
    "explanation = explainer.explain_instance(\n",
    "    image=X_test, \n",
    "    classifier_fn=logistic_regression.predict_proba, \n",
    "    top_labels=1, \n",
    "    hide_color=0, \n",
    "    num_features=20, \n",
    "    num_samples=500)"
   ]
  },
  {
   "cell_type": "code",
   "execution_count": null,
   "metadata": {},
   "outputs": [],
   "source": [
    "masked_image, boundaries = explanation.get_image_and_mask(\n",
    "    label=336, \n",
    "    positive_only=True, \n",
    "    num_features=6, \n",
    "    hide_rest=True)\n",
    " \n",
    "plt.imshow(mark_boundaries(masked_image / 2 + 0.5, boundaries))"
   ]
  }
 ],
 "metadata": {
  "kernelspec": {
   "display_name": "Python 3",
   "language": "python",
   "name": "python3"
  },
  "language_info": {
   "codemirror_mode": {
    "name": "ipython",
    "version": 3
   },
   "file_extension": ".py",
   "mimetype": "text/x-python",
   "name": "python",
   "nbconvert_exporter": "python",
   "pygments_lexer": "ipython3",
   "version": "3.7.7"
  }
 },
 "nbformat": 4,
 "nbformat_minor": 4
}
