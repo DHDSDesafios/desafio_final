{
 "cells": [
  {
   "cell_type": "markdown",
   "metadata": {},
   "source": [
    "# **DESAFIO 3 G2** \n",
    "# **Dataset Imagenes Covid-19 - Modelo de clasificacion supervisado.**\n",
    "---"
   ]
  },
  {
   "cell_type": "markdown",
   "metadata": {},
   "source": [
    "<a id=\"section_toc\"></a> \n",
    "## Tabla de Contenidos\n",
    "\n",
    "[Intro](#section_toc)\n",
    "\n",
    "Armado y presentacion de dataset\n",
    "\n",
    "$\\hspace{.5cm}$[Importaciones y carga de bibliotecas](#sec_imp)\n",
    "\n",
    "$\\hspace{.5cm}$[Alcance del trabajo y caracteristicas generales](#sec_alcance)\n",
    "\n",
    "$\\hspace{.5cm}$[Analisis previos y observacion de variables](#sec_apo)\n",
    "\n",
    "$\\hspace{.9cm}$[Inspeccion de variables](#sec_apo_ds)\n",
    "\n",
    "$\\hspace{.9cm}$[Caracteristicas generales del dataset](#sec_apo_nc)\n",
    "\n",
    "Implementacion de modelos de clasificacion supervisados\n",
    "\n",
    "$\\hspace{.5cm}$[Armado de set de entrenamiento y testing](#sec_set)\n",
    "  \n",
    "$\\hspace{.5cm}$[KNeighborsClassifier](#sec_knn)\n",
    "\n",
    "$\\hspace{.9cm}$[Analisis](#sec_knn_a)\n",
    "\n",
    "$\\hspace{.9cm}$[Optimizacion de hiperparametros mediante GridSearchCV](#sec_knn_gs)\n",
    "\n",
    "$\\hspace{.9cm}$[Metricas y evaluacion del modelo](#sec_knn_eval)\n",
    "\n",
    "$\\hspace{.5cm}$[Gaussian Naive Bayes](#sec_gnb)\n",
    "\n",
    "$\\hspace{.9cm}$[Analisis](#sec_gnb_a)\n",
    "\n",
    "$\\hspace{.9cm}$[Metricas y evaluacion del modelo](#sec_gnb_eval)\n",
    "\n",
    "$\\hspace{.5cm}$[Logistic Regression](#sec_lr)\n",
    "\n",
    "$\\hspace{.9cm}$[Analisis](#sec_lr_a)\n",
    "\n",
    "$\\hspace{.9cm}$[Optimizacion de hiperparametros mediante GridSearchCV](#sec_lr_gs)\n",
    "\n",
    "$\\hspace{.9cm}$[Metricas y evaluacion del modelo](#sec_lr_eval)\n",
    "\n",
    "Conclusiones\n",
    "\n",
    "$\\hspace{.5cm}$[Conclusiones](#sec_conclusiones)"
   ]
  },
  {
   "cell_type": "markdown",
   "metadata": {},
   "source": [
    "---"
   ]
  },
  {
   "cell_type": "markdown",
   "metadata": {},
   "source": [
    "## Armado y presentacion de dataset"
   ]
  },
  {
   "cell_type": "markdown",
   "metadata": {},
   "source": [
    "<a id=\"sec_imp\"></a> \n",
    "### Importaciones y carga de bibliotecas\n",
    "\n",
    "[volver a TOC](#section_toc)"
   ]
  },
  {
   "cell_type": "code",
   "execution_count": 1,
   "metadata": {},
   "outputs": [
    {
     "name": "stdout",
     "output_type": "stream",
     "text": [
      "Requirement already satisfied: opencv-python in c:\\users\\usuario\\anaconda3\\envs\\dhdsblend\\lib\\site-packages (4.4.0.42)\n",
      "Requirement already satisfied: numpy>=1.14.5 in c:\\users\\usuario\\anaconda3\\envs\\dhdsblend\\lib\\site-packages (from opencv-python) (1.18.1)\n"
     ]
    }
   ],
   "source": [
    "!pip install opencv-python"
   ]
  },
  {
   "cell_type": "markdown",
   "metadata": {},
   "source": [
    "#### Importacion de bibliotecas generales"
   ]
  },
  {
   "cell_type": "code",
   "execution_count": 2,
   "metadata": {},
   "outputs": [],
   "source": [
    "import os\n",
    "import sys\n",
    "import re"
   ]
  },
  {
   "cell_type": "code",
   "execution_count": 3,
   "metadata": {},
   "outputs": [],
   "source": [
    "import pandas as pd\n",
    "import numpy as np"
   ]
  },
  {
   "cell_type": "code",
   "execution_count": 4,
   "metadata": {},
   "outputs": [],
   "source": [
    "import seaborn as sns\n",
    "import matplotlib.pyplot as plt"
   ]
  },
  {
   "cell_type": "code",
   "execution_count": 5,
   "metadata": {},
   "outputs": [],
   "source": [
    "import cv2\n",
    "import skimage\n",
    "import skimage.io\n",
    "import skimage.transform"
   ]
  },
  {
   "cell_type": "code",
   "execution_count": 6,
   "metadata": {},
   "outputs": [],
   "source": [
    "import pickle"
   ]
  },
  {
   "cell_type": "markdown",
   "metadata": {},
   "source": [
    "#### Importacion de librerias para armado y testeo de modelos"
   ]
  },
  {
   "cell_type": "code",
   "execution_count": 7,
   "metadata": {},
   "outputs": [],
   "source": [
    "# operaciones sobre variables\n",
    "from sklearn.model_selection import train_test_split, cross_val_score, StratifiedKFold, GridSearchCV\n",
    "from sklearn.metrics import confusion_matrix, classification_report, f1_score, accuracy_score, precision_score, make_scorer\n",
    "from sklearn.pipeline import Pipeline, make_pipeline, make_union\n",
    "\n",
    "# modelos de clasificacion\n",
    "from sklearn.linear_model import LogisticRegression\n",
    "from sklearn.neighbors import KNeighborsClassifier\n",
    "from sklearn.naive_bayes import GaussianNB, MultinomialNB\n",
    "from sklearn.ensemble import GradientBoostingClassifier\n",
    "\n",
    "# normalizacion de variables\n",
    "from sklearn.preprocessing import StandardScaler, OneHotEncoder, RobustScaler\n",
    "\n",
    "# feature selection\n",
    "from sklearn.feature_selection import SelectKBest, f_classif, f_regression\n",
    "\n",
    "# Analisis de dimensiones\n",
    "from sklearn.decomposition import PCA\n",
    "from sklearn.manifold import Isomap\n",
    "from sklearn.manifold import TSNE"
   ]
  },
  {
   "cell_type": "markdown",
   "metadata": {},
   "source": [
    "#### Importacion de modelos de clasificacion entrenados"
   ]
  },
  {
   "cell_type": "code",
   "execution_count": 8,
   "metadata": {},
   "outputs": [],
   "source": [
    "# Modelo Regresion Logistica\n",
    "with open('../modelos/model_lr.pkl', 'rb') as lr_model:\n",
    "        model_logreg = pickle.load(lr_model)\n",
    "\n",
    "# Modelo Gaussian Naive Bayes\n",
    "# with open('../modelos/model_gnb.pkl', 'rb') as gnb_model:\n",
    "#         model_gnb = pickle.load(gnb_model)\n",
    "\n",
    "# # Modelo Regresion Logistica con ajuste de parametros e hiperparametros via Grid Search con Cross Validation\n",
    "# with open('../modelos/model_lr_gs.pkl', 'rb') as lr_gs_model:\n",
    "#         model_logreg_gs = pickle.load(lr_gs_model)\n",
    "\n",
    "# # Modelo KNeighborsClassifier\n",
    "# with open('../modelos/model_knn.pkl', 'rb') as knn_model:\n",
    "#         model_knn = pickle.load(knn_model)\n",
    "\n",
    "# # Modelo Regresion Logistica con ajuste de parametros e hiperparametros via Grid Search con Cross Validation\n",
    "# with open('../modelos/model_knn_gs.pkl', 'rb') as knn_gs_model:\n",
    "#         modelo_knn_gs = pickle.load(knn_gs_model)"
   ]
  },
  {
   "cell_type": "markdown",
   "metadata": {},
   "source": [
    "#### Comprobacion modelos"
   ]
  },
  {
   "cell_type": "code",
   "execution_count": 9,
   "metadata": {},
   "outputs": [
    {
     "data": {
      "text/plain": [
       "LogisticRegression(max_iter=1000)"
      ]
     },
     "execution_count": 9,
     "metadata": {},
     "output_type": "execute_result"
    }
   ],
   "source": [
    "model_logreg"
   ]
  },
  {
   "cell_type": "code",
   "execution_count": 10,
   "metadata": {},
   "outputs": [
    {
     "data": {
      "text/plain": [
       "GaussianNB()"
      ]
     },
     "execution_count": 10,
     "metadata": {},
     "output_type": "execute_result"
    }
   ],
   "source": [
    "model_gnb"
   ]
  },
  {
   "cell_type": "code",
   "execution_count": 11,
   "metadata": {},
   "outputs": [
    {
     "data": {
      "text/plain": [
       "GridSearchCV(cv=StratifiedKFold(n_splits=5, random_state=0, shuffle=True),\n",
       "             estimator=LogisticRegression(), n_jobs=-1,\n",
       "             param_grid={'C': [200, 300], 'max_iter': [1000],\n",
       "                         'solver': ['lbfgs']},\n",
       "             refit='accuracy', return_train_score=True,\n",
       "             scoring=['accuracy', 'precision_macro', 'recall_macro'])"
      ]
     },
     "execution_count": 11,
     "metadata": {},
     "output_type": "execute_result"
    }
   ],
   "source": [
    "model_logreg_gs"
   ]
  },
  {
   "cell_type": "code",
   "execution_count": 12,
   "metadata": {},
   "outputs": [
    {
     "data": {
      "text/plain": [
       "KNeighborsClassifier(n_neighbors=9)"
      ]
     },
     "execution_count": 12,
     "metadata": {},
     "output_type": "execute_result"
    }
   ],
   "source": [
    "model_knn"
   ]
  },
  {
   "cell_type": "code",
   "execution_count": 13,
   "metadata": {},
   "outputs": [
    {
     "data": {
      "text/plain": [
       "GridSearchCV(cv=StratifiedKFold(n_splits=5, random_state=0, shuffle=True),\n",
       "             estimator=KNeighborsClassifier(), n_jobs=-1,\n",
       "             param_grid={'metric': ['manhattan'], 'n_neighbors': [4, 5],\n",
       "                         'weights': ['distance']},\n",
       "             refit='accuracy', return_train_score=True,\n",
       "             scoring=['accuracy', 'precision_macro', 'recall_macro'])"
      ]
     },
     "execution_count": 13,
     "metadata": {},
     "output_type": "execute_result"
    }
   ],
   "source": [
    "modelo_knn_gs"
   ]
  },
  {
   "cell_type": "markdown",
   "metadata": {},
   "source": [
    "#### Variables globales"
   ]
  },
  {
   "cell_type": "code",
   "execution_count": 10,
   "metadata": {},
   "outputs": [],
   "source": [
    "# path relativo al repositorio de imagenes\n",
    "this_path = os.path.dirname('.')\n",
    "rel_dataset_path = '../../../data/xrays_dataset_completo/'\n",
    "\n",
    "# path absoluto al repositorio de imagenes\n",
    "abs_dataset_path = os.path.abspath(os.path.join(this_path, rel_dataset_path))\n",
    "\n",
    "# path absoluto a dataset de training y a dataset testing\n",
    "# photos1\n",
    "photos1_dataset_path = os.path.join(abs_dataset_path, \"photos1\")\n",
    "# photos2\n",
    "photos2_dataset_path = os.path.join(abs_dataset_path, \"photos2\")\n",
    "# photos3\n",
    "photos3_dataset_path = os.path.join(abs_dataset_path, \"photos3\")\n",
    "\n",
    "# expresion regular para buscar solamente imagenes\n",
    "pat = '(jpeg|jpg|png)$'\n",
    "reg = re.compile(pat, flags = re.IGNORECASE)"
   ]
  },
  {
   "cell_type": "markdown",
   "metadata": {},
   "source": [
    "<a id=\"sec_alcance\"></a> \n",
    "### Alcance de trabajo y caracteristicas generales\n",
    "\n",
    "[volver a TOC](#section_toc)\n",
    "\n",
    "#### **Rx de tórax en pacientes COVID-19**\n",
    "https://www.ncbi.nlm.nih.gov/pmc/articles/PMC7269964/\n",
    "\n",
    "Las radiografías de tórax son la modalidad de imagen más utilizada para casos de Covid-19 sospechosos y confirmados.\n",
    "Los hallazgos en las imágenes pueden variar según la etapa de la enfermedad (días desde los primeros síntomas) y según la gravedad de la misma. Ejemplo:\n",
    "\n",
    "<img src=\"https://github.com/DHDSDesafios/DH_DS_desafio_3/raw/master/data/severidad_covid19.jpg\" alt=\"Drawing\" style=\"width: 600px;\"/>\n",
    "\n",
    "La sensibilidad del método varía según los hallazgos y según la técnica: en promedio 69%, y la especificidad es baja, promedio 40%.\n",
    "\n",
    "TÉCNICA:\n",
    " * paciente en bipedestación \n",
    " * apoya el pecho al centro de chasis con las muñecas colocadas en las caderas y los hombros hacia delante.\n",
    " *  El rayo debe dirigirse horizontalmente al centro del chasis o hacia la altura de la sexta vértebra dorsal con distancia tubo-película de 1,80 y no debe ser menor a 1,5 m.\n",
    " *  en inspiración completa.\n",
    "\n",
    "<img src=\"https://github.com/DHDSDesafios/DH_DS_desafio_3/raw/master/data/radiografia_tecnica.png\" alt=\"Drawing\" style=\"width: 400px;\"/>\n"
   ]
  },
  {
   "cell_type": "markdown",
   "metadata": {},
   "source": [
    "##### **Hallazgos de RX de tórax en pacientes con COVID-19**\n",
    " https://pubs.rsna.org/doi/10.1148/radiol.2020201160\n",
    "\n",
    "Lo más frecuente que podemos encontrar son infiltrados en los campos pulmonares con distintos grados (desde vidrio esmerilado hasta consolidación del parénquima pulmonar),que suelen estar en zonas periféricas del pulmón.\n",
    "\n",
    "Ejemplo de grados:\n",
    "\n",
    "<img src=\"https://github.com/DHDSDesafios/DH_DS_desafio_3/raw/master/data/foto_grados_covid19.jpg\" alt=\"Drawing\" style=\"width: 600px;\"/>\n",
    "\n",
    "\n",
    "##### **Hallazgos de RX de tórax en pacientes con COVID-19** \n",
    " https://pubs.rsna.org/doi/10.1148/ryct.2020200280\n",
    "\n",
    "En este último cuadro podemos ver que pacientes con COVID + pueden tener RX normales.\n",
    "\n",
    "<img src=\"https://github.com/DHDSDesafios/DH_DS_desafio_3/raw/master/data/table2.jpg\" alt=\"Drawing\" style=\"width: 600px;\"/>\n",
    "<img src=\"https://github.com/DHDSDesafios/DH_DS_desafio_3/raw/master/data/table3.png\" alt=\"Drawing\" style=\"width: 600px;\"/>\n",
    "\n",
    "\n",
    "La tomografía de tórax tiene mayor sensibilidad y especificidad, de cualquier modo es difícil poder diferenciar. \n",
    "Excepto por una mayor prevalencia de distribución periférica, la afectación de los lóbulos superior y medio, la neumonía viral COVID-19 y no COVID presentaron hallazgos de TC de tórax superpuestos.\n",
    "\n",
    " * https://www.ncbi.nlm.nih.gov/pmc/articles/PMC7233414/\n",
    " * https://www.ncbi.nlm.nih.gov/pmc/articles/PMC7320914/\n",
    "\n",
    "**COMPARACIÓN CON OTRAS NEUMONÍAS VÍRICAS**\n",
    "\n",
    "Recientemente se ha publicado un estudio comparativo entre la neumonía por COVID y otras neumonías víricas. Las características más discriminatorias para la neumonía por COVID-19 incluyeron:\n",
    " * Distribución periférica (80% vs. 57%, p <0.001)\n",
    " * Opacidad de vidrio deslustrado (91% vs. 68%, p <0.001)\n",
    " * Engrosamiento vascular (58% frente a 22%, p <0,001).\n",
    "Pese a este estudio la opinión más extendida es que la neumonía por COVID-19 y otras neumonías víricas pueden ser indistinguibles, de aquí nace la dificultad diagnóstica.\n",
    "\n"
   ]
  },
  {
   "cell_type": "markdown",
   "metadata": {},
   "source": [
    "<a id=\"sec_apo\"></a> \n",
    "### Analisis previos y observacion de variables\n",
    "\n",
    "[volver a TOC](#section_toc)\n",
    "\n",
    "Fuente de repositorio de imagenes:\n",
    "\n",
    "* [Covid-19 Image Dataset](https://www.kaggle.com/pranavraikokte/covid19-image-dataset). Usability: 8.8\n",
    " * Dataset para deteccion de casos de Covid o Neumonia a traves de imagenes de radiografias de torax.\n",
    " * Las imagenes fueron liberadas por la Universidad de Montreal.\n",
    "\n",
    "\n",
    "* [COVID19 High quality images](https://www.kaggle.com/theroyakash/covid19). Usability: 5.0\n",
    " * Dataset para deteccion de casos de Covid o Neumonia a traves de imagenes de radiografias de torax.\n",
    " * Fuente no oficial. Imagenes extraidas desde sitios publicos mediante Web Scrapping.\n",
    "\n",
    "Ambos datasets se encuentran dispuestos en una estructura de directorios que comienza con la separacion de carpetas de training y testing. Luego a partir de estas carpetas se crean nuevas carpetas que identifican los casos de Covid, Neumonia y casos sin afecciones.\n",
    "\n",
    "Para poder distribuir de forma uniforme el set de datos utilizados para testing y training, unificamos ambos repositorios en la siguiente estructura de directorios:\n",
    "\n",
    "<code>\n",
    "$ tree -d .\n",
    "\n",
    ".\n",
    "├── photos1\n",
    "│   ├── Covid\n",
    "│   ├── Normal\n",
    "│   └── Viral Pneumonia\n",
    "├── photos2\n",
    "│   ├── Covid\n",
    "│   ├── Normal\n",
    "│   └── Viral Pneumonia\n",
    "└── photos3\n",
    "    ├── Covid\n",
    "    ├── Normal\n",
    "    └── Viral Pneumonia\n",
    "</code>\n",
    "\n",
    "Con el armado del dataset delegaremos luego en los metodos `train_test_split()` y `StratifiedKFold()` de la bilbioteca scikit-learn la distribucion del set de datos para training y testing."
   ]
  },
  {
   "cell_type": "markdown",
   "metadata": {},
   "source": [
    "**Comprobacion de carga de ruta de imagenes desde el sistema operativo**"
   ]
  },
  {
   "cell_type": "code",
   "execution_count": 11,
   "metadata": {},
   "outputs": [],
   "source": [
    "path_label = [path for path in os.listdir(photos1_dataset_path)]"
   ]
  },
  {
   "cell_type": "code",
   "execution_count": 16,
   "metadata": {},
   "outputs": [
    {
     "name": "stdout",
     "output_type": "stream",
     "text": [
      "['covid', 'normal', 'viral neumonia']\n"
     ]
    }
   ],
   "source": [
    "print(path_label)"
   ]
  },
  {
   "cell_type": "markdown",
   "metadata": {},
   "source": [
    "<a id=\"sec_apo_ds\"></a> \n",
    "### Caracteristicas generales del dataset.\n",
    "\n",
    "[volver a TOC](#section_toc)"
   ]
  },
  {
   "cell_type": "markdown",
   "metadata": {},
   "source": [
    "**Parametros de tratamiento general sobre las imagenes**\n",
    "\n",
    "Analisis segun las siguientes condiciones:\n",
    "   \n",
    " * Tamaño de imagenes ajustados a 100 pixeles x 100 pixeles.\n",
    " * Uso de escala de grises.\n",
    " * Uso de [**Biblioteca OpenCV**](https://opencv.org/)\n",
    " \n",
    "La biblioteca OpenCV permitio facilmente trabajar con el mapa de bits de cada pixel gracias a su integracion con Numpy. A traves de la utilizacion de metodos de OpenCV podemos generar una matriz de np.array con la distribucion de colores de cada pixel.\n",
    "A traves del metodo `flatten()` de OpenCV es posible transformar la matriz np.array en un vector. \n",
    "\n",
    "Entonces cada vector constituira una imangen de 100 x 100 pixeles distribuida en una sola dimension."
   ]
  },
  {
   "cell_type": "markdown",
   "metadata": {},
   "source": [
    "**Armado de dataset**\n",
    "\n",
    "La funcion `new_dataset()` se desarrollo para poder transformar los distintos repositorios de imagenes en una matriz que contenga una lista de vectores correspondiente a cada imagen a analizar."
   ]
  },
  {
   "cell_type": "code",
   "execution_count": 12,
   "metadata": {},
   "outputs": [],
   "source": [
    "def new_dataset(dataset_path):\n",
    "    '''\n",
    "    creacion de nuevo dataset a partir de repositorio de imagenes\n",
    "    dataset_path: ruta absoluta donde se encuentran las imagenes, test o train\n",
    "    salida: tupla con:\n",
    "        * matriz de dos dimensiones con mapa de bits de cada imagen (cada registro o lista de una dimension es una imagen) - Feature\n",
    "        * lista de una dimension con valores numericos que representan la clase a la que pertenece la imagen - Target\n",
    "        * lista de una dimension con las etiquetas de clase a la que pertenece cada imagen\n",
    "    '''\n",
    "    imgs_label = []\n",
    "    imgs = []\n",
    "    for pathlabel in os.listdir(dataset_path):\n",
    "        label = os.path.join(dataset_path, pathlabel)\n",
    "        for file in os.listdir(label):\n",
    "            if re.search(pat, file) is not None:\n",
    "                img = cv2.imread(os.path.join(label, file), cv2.IMREAD_COLOR)\n",
    "                img = cv2.cvtColor(img, cv2.COLOR_BGR2GRAY)\n",
    "                img = cv2.resize(img, (100,100))\n",
    "                img = img.flatten()\n",
    "                imgs.append(img)\n",
    "                imgs_label.append(pathlabel)\n",
    "                \n",
    "    label_to_id_dict = {v:i for i,v in enumerate(np.unique(imgs_label))}\n",
    "    label_ids = np.array([label_to_id_dict[x] for x in imgs_label])\n",
    "    \n",
    "    return np.array(imgs), label_ids, np.array(imgs_label)"
   ]
  },
  {
   "cell_type": "markdown",
   "metadata": {},
   "source": [
    "### Preparacion del dataset\n",
    "\n",
    "Unificacion de set de train y testing para aplicar una estrategia de separacion a traves de los metodos de scikit learn. Se busca mantener la proporcionalidad de la clases de la variable target."
   ]
  },
  {
   "cell_type": "code",
   "execution_count": 13,
   "metadata": {},
   "outputs": [],
   "source": [
    "photos1_X, photos1_y, photos1_labels = new_dataset(photos1_dataset_path)\n",
    "photos2_X, photos2_y, photos2_labels = new_dataset(photos2_dataset_path)\n",
    "photos3_X, photos3_y, photos3_labels = new_dataset(photos3_dataset_path)"
   ]
  },
  {
   "cell_type": "markdown",
   "metadata": {},
   "source": [
    "**Features**\n",
    "\n",
    "Matriz que contiene en cada vector la distribucion de colores por pixel de cada imagen."
   ]
  },
  {
   "cell_type": "code",
   "execution_count": 19,
   "metadata": {},
   "outputs": [
    {
     "data": {
      "text/plain": [
       "array([[ 12,   8,   4, ...,   9,  14,  13],\n",
       "       [ 53,  53,  53, ...,  93,  86,  81],\n",
       "       [163, 156, 153, ...,  36,  22,   4],\n",
       "       ...,\n",
       "       [  0,   0,   0, ...,   0,   0,   0],\n",
       "       [  0,   0,   0, ...,   0,   0,   0],\n",
       "       [  0,   0,   0, ...,   0,   0,   0]], dtype=uint8)"
      ]
     },
     "execution_count": 19,
     "metadata": {},
     "output_type": "execute_result"
    }
   ],
   "source": [
    "photos1_X"
   ]
  },
  {
   "cell_type": "markdown",
   "metadata": {},
   "source": [
    "**Target**\n",
    "\n",
    "Labels que hacen referencia a que clase pertenece cada vector.\n",
    "\n",
    "Entonces:\n",
    " * 0 - Corresponde a los enfermos con COVID: **_Covid_**.\n",
    " * 1 - Corresponde a los pacientes saludables: **_Normal_**.\n",
    " * 2 - Corresponde a los enfermos con Neumonía: **_Viral Pneumonia_**."
   ]
  },
  {
   "cell_type": "code",
   "execution_count": 20,
   "metadata": {},
   "outputs": [
    {
     "data": {
      "text/plain": [
       "array(['covid', 'covid', 'covid', 'covid', 'covid', 'covid', 'covid',\n",
       "       'covid', 'covid', 'covid', 'covid', 'covid', 'covid', 'covid',\n",
       "       'covid', 'covid', 'covid', 'covid', 'covid', 'covid', 'covid',\n",
       "       'covid', 'covid', 'covid', 'covid', 'covid', 'covid', 'covid',\n",
       "       'covid', 'covid', 'covid', 'covid', 'covid', 'covid', 'covid',\n",
       "       'covid', 'covid', 'covid', 'covid', 'covid', 'covid', 'covid',\n",
       "       'covid', 'covid', 'covid', 'covid', 'covid', 'covid', 'covid',\n",
       "       'covid', 'covid', 'covid', 'covid', 'covid', 'covid', 'covid',\n",
       "       'covid', 'covid', 'covid', 'covid', 'covid', 'covid', 'covid',\n",
       "       'covid', 'covid', 'covid', 'covid', 'covid', 'covid', 'covid',\n",
       "       'covid', 'covid', 'covid', 'covid', 'covid', 'covid', 'covid',\n",
       "       'covid', 'covid', 'covid', 'covid', 'covid', 'covid', 'covid',\n",
       "       'covid', 'covid', 'covid', 'covid', 'covid', 'covid', 'covid',\n",
       "       'covid', 'normal', 'normal', 'normal', 'normal', 'normal',\n",
       "       'normal', 'normal', 'normal', 'normal', 'normal', 'normal',\n",
       "       'normal', 'normal', 'normal', 'normal', 'normal', 'normal',\n",
       "       'normal', 'normal', 'normal', 'normal', 'normal', 'normal',\n",
       "       'normal', 'normal', 'normal', 'normal', 'normal', 'normal',\n",
       "       'normal', 'normal', 'normal', 'normal', 'normal', 'normal',\n",
       "       'normal', 'normal', 'normal', 'normal', 'normal', 'normal',\n",
       "       'normal', 'normal', 'normal', 'normal', 'normal', 'normal',\n",
       "       'normal', 'normal', 'normal', 'normal', 'normal', 'normal',\n",
       "       'normal', 'normal', 'normal', 'normal', 'normal', 'normal',\n",
       "       'normal', 'normal', 'normal', 'normal', 'normal', 'normal',\n",
       "       'normal', 'normal', 'normal', 'normal', 'normal', 'normal',\n",
       "       'normal', 'normal', 'normal', 'normal', 'normal', 'normal',\n",
       "       'normal', 'normal', 'normal', 'normal', 'normal', 'normal',\n",
       "       'normal', 'normal', 'normal', 'normal', 'normal', 'normal',\n",
       "       'normal', 'normal', 'normal', 'normal', 'normal', 'normal',\n",
       "       'normal', 'normal', 'normal', 'normal', 'normal', 'normal',\n",
       "       'normal', 'normal', 'normal', 'normal', 'normal', 'normal',\n",
       "       'normal', 'normal', 'normal', 'normal', 'normal', 'normal',\n",
       "       'normal', 'normal', 'normal', 'normal', 'normal', 'normal',\n",
       "       'normal', 'normal', 'normal', 'normal', 'normal', 'normal',\n",
       "       'normal', 'normal', 'normal', 'normal', 'normal', 'normal',\n",
       "       'normal', 'normal', 'normal', 'normal', 'normal', 'normal',\n",
       "       'normal', 'normal', 'normal', 'normal', 'viral neumonia',\n",
       "       'viral neumonia', 'viral neumonia', 'viral neumonia',\n",
       "       'viral neumonia', 'viral neumonia', 'viral neumonia',\n",
       "       'viral neumonia', 'viral neumonia', 'viral neumonia',\n",
       "       'viral neumonia', 'viral neumonia', 'viral neumonia',\n",
       "       'viral neumonia', 'viral neumonia', 'viral neumonia',\n",
       "       'viral neumonia', 'viral neumonia', 'viral neumonia',\n",
       "       'viral neumonia', 'viral neumonia', 'viral neumonia',\n",
       "       'viral neumonia', 'viral neumonia', 'viral neumonia',\n",
       "       'viral neumonia', 'viral neumonia', 'viral neumonia',\n",
       "       'viral neumonia', 'viral neumonia', 'viral neumonia',\n",
       "       'viral neumonia', 'viral neumonia', 'viral neumonia',\n",
       "       'viral neumonia', 'viral neumonia', 'viral neumonia',\n",
       "       'viral neumonia', 'viral neumonia', 'viral neumonia',\n",
       "       'viral neumonia', 'viral neumonia', 'viral neumonia',\n",
       "       'viral neumonia', 'viral neumonia', 'viral neumonia',\n",
       "       'viral neumonia', 'viral neumonia', 'viral neumonia',\n",
       "       'viral neumonia', 'viral neumonia', 'viral neumonia',\n",
       "       'viral neumonia', 'viral neumonia', 'viral neumonia',\n",
       "       'viral neumonia', 'viral neumonia', 'viral neumonia',\n",
       "       'viral neumonia', 'viral neumonia', 'viral neumonia',\n",
       "       'viral neumonia', 'viral neumonia', 'viral neumonia',\n",
       "       'viral neumonia', 'viral neumonia', 'viral neumonia',\n",
       "       'viral neumonia', 'viral neumonia', 'viral neumonia',\n",
       "       'viral neumonia', 'viral neumonia', 'viral neumonia',\n",
       "       'viral neumonia', 'viral neumonia', 'viral neumonia',\n",
       "       'viral neumonia', 'viral neumonia', 'viral neumonia',\n",
       "       'viral neumonia', 'viral neumonia', 'viral neumonia',\n",
       "       'viral neumonia', 'viral neumonia', 'viral neumonia',\n",
       "       'viral neumonia', 'viral neumonia', 'viral neumonia',\n",
       "       'viral neumonia', 'viral neumonia', 'viral neumonia',\n",
       "       'viral neumonia', 'viral neumonia', 'viral neumonia',\n",
       "       'viral neumonia', 'viral neumonia', 'viral neumonia',\n",
       "       'viral neumonia', 'viral neumonia', 'viral neumonia',\n",
       "       'viral neumonia', 'viral neumonia', 'viral neumonia',\n",
       "       'viral neumonia', 'viral neumonia', 'viral neumonia',\n",
       "       'viral neumonia', 'viral neumonia', 'viral neumonia',\n",
       "       'viral neumonia', 'viral neumonia', 'viral neumonia',\n",
       "       'viral neumonia', 'viral neumonia', 'viral neumonia',\n",
       "       'viral neumonia', 'viral neumonia', 'viral neumonia',\n",
       "       'viral neumonia', 'viral neumonia'], dtype='<U14')"
      ]
     },
     "execution_count": 20,
     "metadata": {},
     "output_type": "execute_result"
    }
   ],
   "source": [
    "photos1_labels"
   ]
  },
  {
   "cell_type": "code",
   "execution_count": 21,
   "metadata": {},
   "outputs": [
    {
     "data": {
      "text/plain": [
       "array([0, 0, 0, 0, 0, 0, 0, 0, 0, 0, 0, 0, 0, 0, 0, 0, 0, 0, 0, 0, 0, 0,\n",
       "       0, 0, 0, 0, 0, 0, 0, 0, 0, 0, 0, 0, 0, 0, 0, 0, 0, 0, 0, 0, 0, 0,\n",
       "       0, 0, 0, 0, 0, 0, 0, 0, 0, 0, 0, 0, 0, 0, 0, 0, 0, 0, 0, 0, 0, 0,\n",
       "       0, 0, 0, 0, 0, 0, 0, 0, 0, 0, 0, 0, 0, 0, 0, 0, 0, 0, 0, 0, 0, 0,\n",
       "       0, 0, 0, 0, 1, 1, 1, 1, 1, 1, 1, 1, 1, 1, 1, 1, 1, 1, 1, 1, 1, 1,\n",
       "       1, 1, 1, 1, 1, 1, 1, 1, 1, 1, 1, 1, 1, 1, 1, 1, 1, 1, 1, 1, 1, 1,\n",
       "       1, 1, 1, 1, 1, 1, 1, 1, 1, 1, 1, 1, 1, 1, 1, 1, 1, 1, 1, 1, 1, 1,\n",
       "       1, 1, 1, 1, 1, 1, 1, 1, 1, 1, 1, 1, 1, 1, 1, 1, 1, 1, 1, 1, 1, 1,\n",
       "       1, 1, 1, 1, 1, 1, 1, 1, 1, 1, 1, 1, 1, 1, 1, 1, 1, 1, 1, 1, 1, 1,\n",
       "       1, 1, 1, 1, 1, 1, 1, 1, 1, 1, 1, 1, 1, 1, 1, 1, 1, 1, 1, 1, 1, 1,\n",
       "       1, 1, 1, 1, 1, 1, 1, 1, 1, 1, 1, 1, 1, 2, 2, 2, 2, 2, 2, 2, 2, 2,\n",
       "       2, 2, 2, 2, 2, 2, 2, 2, 2, 2, 2, 2, 2, 2, 2, 2, 2, 2, 2, 2, 2, 2,\n",
       "       2, 2, 2, 2, 2, 2, 2, 2, 2, 2, 2, 2, 2, 2, 2, 2, 2, 2, 2, 2, 2, 2,\n",
       "       2, 2, 2, 2, 2, 2, 2, 2, 2, 2, 2, 2, 2, 2, 2, 2, 2, 2, 2, 2, 2, 2,\n",
       "       2, 2, 2, 2, 2, 2, 2, 2, 2, 2, 2, 2, 2, 2, 2, 2, 2, 2, 2, 2, 2, 2,\n",
       "       2, 2, 2, 2, 2, 2, 2, 2, 2, 2, 2, 2, 2, 2, 2, 2, 2, 2, 2, 2, 2, 2,\n",
       "       2])"
      ]
     },
     "execution_count": 21,
     "metadata": {},
     "output_type": "execute_result"
    }
   ],
   "source": [
    "photos1_y"
   ]
  },
  {
   "cell_type": "markdown",
   "metadata": {},
   "source": [
    "Estructura de cada set de imagenes cargado."
   ]
  },
  {
   "cell_type": "code",
   "execution_count": 22,
   "metadata": {},
   "outputs": [
    {
     "data": {
      "text/plain": [
       "(353, 10000)"
      ]
     },
     "metadata": {},
     "output_type": "display_data"
    },
    {
     "data": {
      "text/plain": [
       "(353,)"
      ]
     },
     "metadata": {},
     "output_type": "display_data"
    },
    {
     "data": {
      "text/plain": [
       "(353,)"
      ]
     },
     "metadata": {},
     "output_type": "display_data"
    },
    {
     "data": {
      "text/plain": [
       "(66, 10000)"
      ]
     },
     "metadata": {},
     "output_type": "display_data"
    },
    {
     "data": {
      "text/plain": [
       "(66,)"
      ]
     },
     "metadata": {},
     "output_type": "display_data"
    },
    {
     "data": {
      "text/plain": [
       "(66,)"
      ]
     },
     "metadata": {},
     "output_type": "display_data"
    },
    {
     "data": {
      "text/plain": [
       "(251, 10000)"
      ]
     },
     "metadata": {},
     "output_type": "display_data"
    },
    {
     "data": {
      "text/plain": [
       "(251,)"
      ]
     },
     "metadata": {},
     "output_type": "display_data"
    },
    {
     "data": {
      "text/plain": [
       "(251,)"
      ]
     },
     "metadata": {},
     "output_type": "display_data"
    }
   ],
   "source": [
    "display(photos1_X.shape, photos1_y.shape, photos1_labels.shape)\n",
    "display(photos2_X.shape, photos2_y.shape, photos2_labels.shape)\n",
    "display(photos3_X.shape, photos3_y.shape, photos3_labels.shape)"
   ]
  },
  {
   "cell_type": "markdown",
   "metadata": {},
   "source": [
    "**Features y target como objetos de pandas**\n",
    "\n",
    "La estructura final del dataset de features esta conformado por:\n",
    "\n",
    "* 670 imagenes estructuradas en vectores.\n",
    "* 10000 features correspondientes a la escala de colores de cada pixel representado entre 0 a 255."
   ]
  },
  {
   "cell_type": "code",
   "execution_count": 14,
   "metadata": {},
   "outputs": [],
   "source": [
    "numpy_append = np.append(photos1_X, photos2_X, axis=0)\n",
    "data_features = pd.DataFrame(np.append(numpy_append, photos3_X, axis=0))"
   ]
  },
  {
   "cell_type": "code",
   "execution_count": 24,
   "metadata": {},
   "outputs": [
    {
     "data": {
      "text/html": [
       "<div>\n",
       "<style scoped>\n",
       "    .dataframe tbody tr th:only-of-type {\n",
       "        vertical-align: middle;\n",
       "    }\n",
       "\n",
       "    .dataframe tbody tr th {\n",
       "        vertical-align: top;\n",
       "    }\n",
       "\n",
       "    .dataframe thead th {\n",
       "        text-align: right;\n",
       "    }\n",
       "</style>\n",
       "<table border=\"1\" class=\"dataframe\">\n",
       "  <thead>\n",
       "    <tr style=\"text-align: right;\">\n",
       "      <th></th>\n",
       "      <th>0</th>\n",
       "      <th>1</th>\n",
       "      <th>2</th>\n",
       "      <th>3</th>\n",
       "      <th>4</th>\n",
       "      <th>5</th>\n",
       "      <th>6</th>\n",
       "      <th>7</th>\n",
       "      <th>8</th>\n",
       "      <th>9</th>\n",
       "      <th>...</th>\n",
       "      <th>9990</th>\n",
       "      <th>9991</th>\n",
       "      <th>9992</th>\n",
       "      <th>9993</th>\n",
       "      <th>9994</th>\n",
       "      <th>9995</th>\n",
       "      <th>9996</th>\n",
       "      <th>9997</th>\n",
       "      <th>9998</th>\n",
       "      <th>9999</th>\n",
       "    </tr>\n",
       "  </thead>\n",
       "  <tbody>\n",
       "    <tr>\n",
       "      <th>0</th>\n",
       "      <td>12</td>\n",
       "      <td>8</td>\n",
       "      <td>4</td>\n",
       "      <td>7</td>\n",
       "      <td>7</td>\n",
       "      <td>5</td>\n",
       "      <td>0</td>\n",
       "      <td>2</td>\n",
       "      <td>2</td>\n",
       "      <td>3</td>\n",
       "      <td>...</td>\n",
       "      <td>0</td>\n",
       "      <td>0</td>\n",
       "      <td>0</td>\n",
       "      <td>3</td>\n",
       "      <td>1</td>\n",
       "      <td>7</td>\n",
       "      <td>9</td>\n",
       "      <td>9</td>\n",
       "      <td>14</td>\n",
       "      <td>13</td>\n",
       "    </tr>\n",
       "    <tr>\n",
       "      <th>1</th>\n",
       "      <td>53</td>\n",
       "      <td>53</td>\n",
       "      <td>53</td>\n",
       "      <td>73</td>\n",
       "      <td>74</td>\n",
       "      <td>82</td>\n",
       "      <td>71</td>\n",
       "      <td>73</td>\n",
       "      <td>79</td>\n",
       "      <td>83</td>\n",
       "      <td>...</td>\n",
       "      <td>125</td>\n",
       "      <td>121</td>\n",
       "      <td>112</td>\n",
       "      <td>112</td>\n",
       "      <td>114</td>\n",
       "      <td>107</td>\n",
       "      <td>102</td>\n",
       "      <td>93</td>\n",
       "      <td>86</td>\n",
       "      <td>81</td>\n",
       "    </tr>\n",
       "    <tr>\n",
       "      <th>2</th>\n",
       "      <td>163</td>\n",
       "      <td>156</td>\n",
       "      <td>153</td>\n",
       "      <td>148</td>\n",
       "      <td>149</td>\n",
       "      <td>147</td>\n",
       "      <td>144</td>\n",
       "      <td>145</td>\n",
       "      <td>143</td>\n",
       "      <td>141</td>\n",
       "      <td>...</td>\n",
       "      <td>109</td>\n",
       "      <td>112</td>\n",
       "      <td>124</td>\n",
       "      <td>99</td>\n",
       "      <td>91</td>\n",
       "      <td>77</td>\n",
       "      <td>53</td>\n",
       "      <td>36</td>\n",
       "      <td>22</td>\n",
       "      <td>4</td>\n",
       "    </tr>\n",
       "    <tr>\n",
       "      <th>3</th>\n",
       "      <td>74</td>\n",
       "      <td>88</td>\n",
       "      <td>91</td>\n",
       "      <td>100</td>\n",
       "      <td>84</td>\n",
       "      <td>91</td>\n",
       "      <td>80</td>\n",
       "      <td>52</td>\n",
       "      <td>56</td>\n",
       "      <td>64</td>\n",
       "      <td>...</td>\n",
       "      <td>1</td>\n",
       "      <td>1</td>\n",
       "      <td>1</td>\n",
       "      <td>1</td>\n",
       "      <td>1</td>\n",
       "      <td>1</td>\n",
       "      <td>1</td>\n",
       "      <td>1</td>\n",
       "      <td>1</td>\n",
       "      <td>1</td>\n",
       "    </tr>\n",
       "    <tr>\n",
       "      <th>4</th>\n",
       "      <td>0</td>\n",
       "      <td>0</td>\n",
       "      <td>0</td>\n",
       "      <td>0</td>\n",
       "      <td>0</td>\n",
       "      <td>0</td>\n",
       "      <td>0</td>\n",
       "      <td>0</td>\n",
       "      <td>0</td>\n",
       "      <td>0</td>\n",
       "      <td>...</td>\n",
       "      <td>220</td>\n",
       "      <td>219</td>\n",
       "      <td>218</td>\n",
       "      <td>212</td>\n",
       "      <td>209</td>\n",
       "      <td>210</td>\n",
       "      <td>204</td>\n",
       "      <td>197</td>\n",
       "      <td>186</td>\n",
       "      <td>159</td>\n",
       "    </tr>\n",
       "    <tr>\n",
       "      <th>...</th>\n",
       "      <td>...</td>\n",
       "      <td>...</td>\n",
       "      <td>...</td>\n",
       "      <td>...</td>\n",
       "      <td>...</td>\n",
       "      <td>...</td>\n",
       "      <td>...</td>\n",
       "      <td>...</td>\n",
       "      <td>...</td>\n",
       "      <td>...</td>\n",
       "      <td>...</td>\n",
       "      <td>...</td>\n",
       "      <td>...</td>\n",
       "      <td>...</td>\n",
       "      <td>...</td>\n",
       "      <td>...</td>\n",
       "      <td>...</td>\n",
       "      <td>...</td>\n",
       "      <td>...</td>\n",
       "      <td>...</td>\n",
       "      <td>...</td>\n",
       "    </tr>\n",
       "    <tr>\n",
       "      <th>665</th>\n",
       "      <td>77</td>\n",
       "      <td>118</td>\n",
       "      <td>121</td>\n",
       "      <td>34</td>\n",
       "      <td>48</td>\n",
       "      <td>76</td>\n",
       "      <td>33</td>\n",
       "      <td>53</td>\n",
       "      <td>50</td>\n",
       "      <td>41</td>\n",
       "      <td>...</td>\n",
       "      <td>198</td>\n",
       "      <td>178</td>\n",
       "      <td>125</td>\n",
       "      <td>143</td>\n",
       "      <td>62</td>\n",
       "      <td>41</td>\n",
       "      <td>29</td>\n",
       "      <td>10</td>\n",
       "      <td>5</td>\n",
       "      <td>0</td>\n",
       "    </tr>\n",
       "    <tr>\n",
       "      <th>666</th>\n",
       "      <td>40</td>\n",
       "      <td>38</td>\n",
       "      <td>32</td>\n",
       "      <td>28</td>\n",
       "      <td>33</td>\n",
       "      <td>48</td>\n",
       "      <td>56</td>\n",
       "      <td>79</td>\n",
       "      <td>38</td>\n",
       "      <td>22</td>\n",
       "      <td>...</td>\n",
       "      <td>136</td>\n",
       "      <td>111</td>\n",
       "      <td>71</td>\n",
       "      <td>48</td>\n",
       "      <td>26</td>\n",
       "      <td>19</td>\n",
       "      <td>9</td>\n",
       "      <td>3</td>\n",
       "      <td>0</td>\n",
       "      <td>0</td>\n",
       "    </tr>\n",
       "    <tr>\n",
       "      <th>667</th>\n",
       "      <td>14</td>\n",
       "      <td>22</td>\n",
       "      <td>89</td>\n",
       "      <td>62</td>\n",
       "      <td>50</td>\n",
       "      <td>47</td>\n",
       "      <td>53</td>\n",
       "      <td>52</td>\n",
       "      <td>62</td>\n",
       "      <td>84</td>\n",
       "      <td>...</td>\n",
       "      <td>166</td>\n",
       "      <td>121</td>\n",
       "      <td>105</td>\n",
       "      <td>76</td>\n",
       "      <td>29</td>\n",
       "      <td>7</td>\n",
       "      <td>0</td>\n",
       "      <td>0</td>\n",
       "      <td>0</td>\n",
       "      <td>0</td>\n",
       "    </tr>\n",
       "    <tr>\n",
       "      <th>668</th>\n",
       "      <td>7</td>\n",
       "      <td>7</td>\n",
       "      <td>7</td>\n",
       "      <td>7</td>\n",
       "      <td>7</td>\n",
       "      <td>7</td>\n",
       "      <td>4</td>\n",
       "      <td>0</td>\n",
       "      <td>0</td>\n",
       "      <td>0</td>\n",
       "      <td>...</td>\n",
       "      <td>11</td>\n",
       "      <td>0</td>\n",
       "      <td>0</td>\n",
       "      <td>0</td>\n",
       "      <td>0</td>\n",
       "      <td>0</td>\n",
       "      <td>0</td>\n",
       "      <td>0</td>\n",
       "      <td>0</td>\n",
       "      <td>0</td>\n",
       "    </tr>\n",
       "    <tr>\n",
       "      <th>669</th>\n",
       "      <td>48</td>\n",
       "      <td>45</td>\n",
       "      <td>43</td>\n",
       "      <td>41</td>\n",
       "      <td>38</td>\n",
       "      <td>30</td>\n",
       "      <td>10</td>\n",
       "      <td>12</td>\n",
       "      <td>35</td>\n",
       "      <td>50</td>\n",
       "      <td>...</td>\n",
       "      <td>12</td>\n",
       "      <td>5</td>\n",
       "      <td>45</td>\n",
       "      <td>48</td>\n",
       "      <td>50</td>\n",
       "      <td>22</td>\n",
       "      <td>16</td>\n",
       "      <td>16</td>\n",
       "      <td>18</td>\n",
       "      <td>18</td>\n",
       "    </tr>\n",
       "  </tbody>\n",
       "</table>\n",
       "<p>670 rows × 10000 columns</p>\n",
       "</div>"
      ],
      "text/plain": [
       "     0     1     2     3     4     5     6     7     8     9     ...  9990  \\\n",
       "0      12     8     4     7     7     5     0     2     2     3  ...     0   \n",
       "1      53    53    53    73    74    82    71    73    79    83  ...   125   \n",
       "2     163   156   153   148   149   147   144   145   143   141  ...   109   \n",
       "3      74    88    91   100    84    91    80    52    56    64  ...     1   \n",
       "4       0     0     0     0     0     0     0     0     0     0  ...   220   \n",
       "..    ...   ...   ...   ...   ...   ...   ...   ...   ...   ...  ...   ...   \n",
       "665    77   118   121    34    48    76    33    53    50    41  ...   198   \n",
       "666    40    38    32    28    33    48    56    79    38    22  ...   136   \n",
       "667    14    22    89    62    50    47    53    52    62    84  ...   166   \n",
       "668     7     7     7     7     7     7     4     0     0     0  ...    11   \n",
       "669    48    45    43    41    38    30    10    12    35    50  ...    12   \n",
       "\n",
       "     9991  9992  9993  9994  9995  9996  9997  9998  9999  \n",
       "0       0     0     3     1     7     9     9    14    13  \n",
       "1     121   112   112   114   107   102    93    86    81  \n",
       "2     112   124    99    91    77    53    36    22     4  \n",
       "3       1     1     1     1     1     1     1     1     1  \n",
       "4     219   218   212   209   210   204   197   186   159  \n",
       "..    ...   ...   ...   ...   ...   ...   ...   ...   ...  \n",
       "665   178   125   143    62    41    29    10     5     0  \n",
       "666   111    71    48    26    19     9     3     0     0  \n",
       "667   121   105    76    29     7     0     0     0     0  \n",
       "668     0     0     0     0     0     0     0     0     0  \n",
       "669     5    45    48    50    22    16    16    18    18  \n",
       "\n",
       "[670 rows x 10000 columns]"
      ]
     },
     "execution_count": 24,
     "metadata": {},
     "output_type": "execute_result"
    }
   ],
   "source": [
    "data_features"
   ]
  },
  {
   "cell_type": "markdown",
   "metadata": {},
   "source": [
    "**Target**"
   ]
  },
  {
   "cell_type": "code",
   "execution_count": 15,
   "metadata": {},
   "outputs": [],
   "source": [
    "numpy_append = np.append(photos1_y, photos2_y, axis=0)\n",
    "data_target = pd.Series(np.append(numpy_append, photos3_y, axis=0), name='target')"
   ]
  },
  {
   "cell_type": "markdown",
   "metadata": {},
   "source": [
    "**Dataset final**"
   ]
  },
  {
   "cell_type": "code",
   "execution_count": 26,
   "metadata": {},
   "outputs": [
    {
     "data": {
      "text/plain": [
       "((670, 10000), (670,))"
      ]
     },
     "execution_count": 26,
     "metadata": {},
     "output_type": "execute_result"
    }
   ],
   "source": [
    "data_features.shape, data_target.shape"
   ]
  },
  {
   "cell_type": "markdown",
   "metadata": {},
   "source": [
    "**Dataset unico**"
   ]
  },
  {
   "cell_type": "code",
   "execution_count": 16,
   "metadata": {},
   "outputs": [],
   "source": [
    "target = data_target.to_frame()"
   ]
  },
  {
   "cell_type": "code",
   "execution_count": 17,
   "metadata": {},
   "outputs": [
    {
     "data": {
      "text/html": [
       "<div>\n",
       "<style scoped>\n",
       "    .dataframe tbody tr th:only-of-type {\n",
       "        vertical-align: middle;\n",
       "    }\n",
       "\n",
       "    .dataframe tbody tr th {\n",
       "        vertical-align: top;\n",
       "    }\n",
       "\n",
       "    .dataframe thead th {\n",
       "        text-align: right;\n",
       "    }\n",
       "</style>\n",
       "<table border=\"1\" class=\"dataframe\">\n",
       "  <thead>\n",
       "    <tr style=\"text-align: right;\">\n",
       "      <th></th>\n",
       "      <th>target</th>\n",
       "    </tr>\n",
       "  </thead>\n",
       "  <tbody>\n",
       "    <tr>\n",
       "      <th>219</th>\n",
       "      <td>1</td>\n",
       "    </tr>\n",
       "    <tr>\n",
       "      <th>295</th>\n",
       "      <td>2</td>\n",
       "    </tr>\n",
       "    <tr>\n",
       "      <th>167</th>\n",
       "      <td>1</td>\n",
       "    </tr>\n",
       "  </tbody>\n",
       "</table>\n",
       "</div>"
      ],
      "text/plain": [
       "     target\n",
       "219       1\n",
       "295       2\n",
       "167       1"
      ]
     },
     "execution_count": 17,
     "metadata": {},
     "output_type": "execute_result"
    }
   ],
   "source": [
    "target.sample(3)"
   ]
  },
  {
   "cell_type": "code",
   "execution_count": 18,
   "metadata": {},
   "outputs": [],
   "source": [
    "data = data_features.join(data_target)"
   ]
  },
  {
   "cell_type": "code",
   "execution_count": 30,
   "metadata": {},
   "outputs": [
    {
     "data": {
      "text/html": [
       "<div>\n",
       "<style scoped>\n",
       "    .dataframe tbody tr th:only-of-type {\n",
       "        vertical-align: middle;\n",
       "    }\n",
       "\n",
       "    .dataframe tbody tr th {\n",
       "        vertical-align: top;\n",
       "    }\n",
       "\n",
       "    .dataframe thead th {\n",
       "        text-align: right;\n",
       "    }\n",
       "</style>\n",
       "<table border=\"1\" class=\"dataframe\">\n",
       "  <thead>\n",
       "    <tr style=\"text-align: right;\">\n",
       "      <th></th>\n",
       "      <th>0</th>\n",
       "      <th>1</th>\n",
       "      <th>2</th>\n",
       "      <th>3</th>\n",
       "      <th>4</th>\n",
       "      <th>5</th>\n",
       "      <th>6</th>\n",
       "      <th>7</th>\n",
       "      <th>8</th>\n",
       "      <th>9</th>\n",
       "      <th>...</th>\n",
       "      <th>9991</th>\n",
       "      <th>9992</th>\n",
       "      <th>9993</th>\n",
       "      <th>9994</th>\n",
       "      <th>9995</th>\n",
       "      <th>9996</th>\n",
       "      <th>9997</th>\n",
       "      <th>9998</th>\n",
       "      <th>9999</th>\n",
       "      <th>target</th>\n",
       "    </tr>\n",
       "  </thead>\n",
       "  <tbody>\n",
       "    <tr>\n",
       "      <th>221</th>\n",
       "      <td>31</td>\n",
       "      <td>32</td>\n",
       "      <td>31</td>\n",
       "      <td>27</td>\n",
       "      <td>29</td>\n",
       "      <td>28</td>\n",
       "      <td>27</td>\n",
       "      <td>29</td>\n",
       "      <td>27</td>\n",
       "      <td>29</td>\n",
       "      <td>...</td>\n",
       "      <td>25</td>\n",
       "      <td>28</td>\n",
       "      <td>29</td>\n",
       "      <td>31</td>\n",
       "      <td>31</td>\n",
       "      <td>31</td>\n",
       "      <td>38</td>\n",
       "      <td>34</td>\n",
       "      <td>34</td>\n",
       "      <td>1</td>\n",
       "    </tr>\n",
       "    <tr>\n",
       "      <th>606</th>\n",
       "      <td>29</td>\n",
       "      <td>39</td>\n",
       "      <td>40</td>\n",
       "      <td>49</td>\n",
       "      <td>44</td>\n",
       "      <td>56</td>\n",
       "      <td>118</td>\n",
       "      <td>138</td>\n",
       "      <td>121</td>\n",
       "      <td>122</td>\n",
       "      <td>...</td>\n",
       "      <td>150</td>\n",
       "      <td>74</td>\n",
       "      <td>18</td>\n",
       "      <td>6</td>\n",
       "      <td>0</td>\n",
       "      <td>0</td>\n",
       "      <td>0</td>\n",
       "      <td>0</td>\n",
       "      <td>0</td>\n",
       "      <td>2</td>\n",
       "    </tr>\n",
       "    <tr>\n",
       "      <th>111</th>\n",
       "      <td>159</td>\n",
       "      <td>158</td>\n",
       "      <td>160</td>\n",
       "      <td>158</td>\n",
       "      <td>163</td>\n",
       "      <td>171</td>\n",
       "      <td>163</td>\n",
       "      <td>159</td>\n",
       "      <td>150</td>\n",
       "      <td>172</td>\n",
       "      <td>...</td>\n",
       "      <td>163</td>\n",
       "      <td>113</td>\n",
       "      <td>97</td>\n",
       "      <td>62</td>\n",
       "      <td>40</td>\n",
       "      <td>14</td>\n",
       "      <td>0</td>\n",
       "      <td>0</td>\n",
       "      <td>0</td>\n",
       "      <td>1</td>\n",
       "    </tr>\n",
       "    <tr>\n",
       "      <th>503</th>\n",
       "      <td>15</td>\n",
       "      <td>18</td>\n",
       "      <td>13</td>\n",
       "      <td>21</td>\n",
       "      <td>16</td>\n",
       "      <td>27</td>\n",
       "      <td>14</td>\n",
       "      <td>18</td>\n",
       "      <td>22</td>\n",
       "      <td>23</td>\n",
       "      <td>...</td>\n",
       "      <td>206</td>\n",
       "      <td>191</td>\n",
       "      <td>193</td>\n",
       "      <td>194</td>\n",
       "      <td>184</td>\n",
       "      <td>175</td>\n",
       "      <td>114</td>\n",
       "      <td>87</td>\n",
       "      <td>106</td>\n",
       "      <td>0</td>\n",
       "    </tr>\n",
       "    <tr>\n",
       "      <th>282</th>\n",
       "      <td>66</td>\n",
       "      <td>99</td>\n",
       "      <td>95</td>\n",
       "      <td>108</td>\n",
       "      <td>103</td>\n",
       "      <td>70</td>\n",
       "      <td>61</td>\n",
       "      <td>73</td>\n",
       "      <td>79</td>\n",
       "      <td>84</td>\n",
       "      <td>...</td>\n",
       "      <td>185</td>\n",
       "      <td>170</td>\n",
       "      <td>112</td>\n",
       "      <td>88</td>\n",
       "      <td>44</td>\n",
       "      <td>3</td>\n",
       "      <td>0</td>\n",
       "      <td>0</td>\n",
       "      <td>0</td>\n",
       "      <td>2</td>\n",
       "    </tr>\n",
       "  </tbody>\n",
       "</table>\n",
       "<p>5 rows × 10001 columns</p>\n",
       "</div>"
      ],
      "text/plain": [
       "       0    1    2    3    4    5    6    7    8    9  ...  9991  9992  9993  \\\n",
       "221   31   32   31   27   29   28   27   29   27   29  ...    25    28    29   \n",
       "606   29   39   40   49   44   56  118  138  121  122  ...   150    74    18   \n",
       "111  159  158  160  158  163  171  163  159  150  172  ...   163   113    97   \n",
       "503   15   18   13   21   16   27   14   18   22   23  ...   206   191   193   \n",
       "282   66   99   95  108  103   70   61   73   79   84  ...   185   170   112   \n",
       "\n",
       "     9994  9995  9996  9997  9998  9999  target  \n",
       "221    31    31    31    38    34    34       1  \n",
       "606     6     0     0     0     0     0       2  \n",
       "111    62    40    14     0     0     0       1  \n",
       "503   194   184   175   114    87   106       0  \n",
       "282    88    44     3     0     0     0       2  \n",
       "\n",
       "[5 rows x 10001 columns]"
      ]
     },
     "execution_count": 30,
     "metadata": {},
     "output_type": "execute_result"
    }
   ],
   "source": [
    "data.sample(5)"
   ]
  },
  {
   "cell_type": "markdown",
   "metadata": {},
   "source": [
    "---"
   ]
  },
  {
   "cell_type": "markdown",
   "metadata": {},
   "source": [
    "<a id=\"sec_set\"></a> \n",
    "## Armado de set de entrenamiento y testing\n",
    "\n",
    "[volver a TOC](#section_toc)"
   ]
  },
  {
   "cell_type": "code",
   "execution_count": 19,
   "metadata": {},
   "outputs": [],
   "source": [
    "X_train, X_test, y_train, y_test = train_test_split(data_features, data_target, stratify=data_target, random_state=0)"
   ]
  },
  {
   "cell_type": "code",
   "execution_count": 32,
   "metadata": {},
   "outputs": [
    {
     "data": {
      "text/plain": [
       "((502, 10000), (168, 10000), (502,), (168,))"
      ]
     },
     "execution_count": 32,
     "metadata": {},
     "output_type": "execute_result"
    }
   ],
   "source": [
    "X_train.shape, X_test.shape, y_train.shape, y_test.shape"
   ]
  },
  {
   "cell_type": "code",
   "execution_count": 33,
   "metadata": {},
   "outputs": [
    {
     "data": {
      "text/plain": [
       "1    0.344622\n",
       "0    0.342629\n",
       "2    0.312749\n",
       "Name: target, dtype: float64"
      ]
     },
     "execution_count": 33,
     "metadata": {},
     "output_type": "execute_result"
    }
   ],
   "source": [
    "y_train.value_counts(normalize=True)"
   ]
  },
  {
   "cell_type": "code",
   "execution_count": 34,
   "metadata": {},
   "outputs": [
    {
     "data": {
      "text/plain": [
       "1    0.345238\n",
       "0    0.339286\n",
       "2    0.315476\n",
       "Name: target, dtype: float64"
      ]
     },
     "execution_count": 34,
     "metadata": {},
     "output_type": "execute_result"
    }
   ],
   "source": [
    "y_test.value_counts(normalize=True)"
   ]
  },
  {
   "cell_type": "markdown",
   "metadata": {},
   "source": [
    "**Escalado de valores**"
   ]
  },
  {
   "cell_type": "code",
   "execution_count": 20,
   "metadata": {},
   "outputs": [],
   "source": [
    "scaler = StandardScaler()\n",
    "X_train = scaler.fit_transform(X_train)\n",
    "X_test = scaler.transform(X_test)"
   ]
  },
  {
   "cell_type": "code",
   "execution_count": 36,
   "metadata": {},
   "outputs": [
    {
     "data": {
      "text/plain": [
       "array([[-0.68392619, -0.73942127,  1.46465195, ...,  0.84119272,\n",
       "        -0.56869356, -0.57080048],\n",
       "       [-0.22863262, -0.56884658, -0.68928595, ..., -0.21133833,\n",
       "        -0.23580624, -0.24520422],\n",
       "       [-0.52556321,  2.82369447, -0.74647014, ...,  1.99239855,\n",
       "         2.41064795,  1.31423047],\n",
       "       ...,\n",
       "       [ 0.62256842, -0.11398074, -0.70834735, ..., -0.58959167,\n",
       "        -0.56869356, -0.57080048],\n",
       "       [-0.68392619, -0.73942127, -0.78459294, ...,  2.65023045,\n",
       "         2.52715851,  2.15392607],\n",
       "       [ 4.32430318,  4.05562279,  4.0379406 , ...,  0.11757762,\n",
       "        -0.18587314, -0.27947751]])"
      ]
     },
     "execution_count": 36,
     "metadata": {},
     "output_type": "execute_result"
    }
   ],
   "source": [
    "X_train"
   ]
  },
  {
   "cell_type": "code",
   "execution_count": 37,
   "metadata": {},
   "outputs": [
    {
     "name": "stdout",
     "output_type": "stream",
     "text": [
      "Medias: [ 0.  0. -0. ...  0. -0.  0.]\n",
      "Desvio: [1. 1. 1. ... 1. 1. 1.]\n"
     ]
    }
   ],
   "source": [
    "# Comprobacion de variables para verificar que la media de cada valor sea cero (0) y el desvio estandar sea uno (1).\n",
    "print('Medias:', np.mean(X_train, axis=0).round(2))\n",
    "print('Desvio:', np.std(X_train, axis=0).round(2))"
   ]
  },
  {
   "cell_type": "markdown",
   "metadata": {},
   "source": [
    "---"
   ]
  },
  {
   "cell_type": "markdown",
   "metadata": {},
   "source": [
    "### PCA\n",
    "\n",
    "https://scikit-learn.org/stable/modules/generated/sklearn.decomposition.PCA.html\n",
    "https://scikit-learn.org/stable/modules/manifold.html\n",
    "\n",
    "<a id=\"sec_knn_a\"></a> \n",
    "#### Analisis\n",
    "\n",
    "[volver a TOC](#section_toc)"
   ]
  },
  {
   "cell_type": "code",
   "execution_count": 38,
   "metadata": {},
   "outputs": [],
   "source": [
    "data_features = data_features.rename(columns=lambda x: 'px_'+str(x), index=lambda y: 'img_'+str(y)) # prefijo px a columnas e img a filas"
   ]
  },
  {
   "cell_type": "code",
   "execution_count": 39,
   "metadata": {},
   "outputs": [
    {
     "data": {
      "text/html": [
       "<div>\n",
       "<style scoped>\n",
       "    .dataframe tbody tr th:only-of-type {\n",
       "        vertical-align: middle;\n",
       "    }\n",
       "\n",
       "    .dataframe tbody tr th {\n",
       "        vertical-align: top;\n",
       "    }\n",
       "\n",
       "    .dataframe thead th {\n",
       "        text-align: right;\n",
       "    }\n",
       "</style>\n",
       "<table border=\"1\" class=\"dataframe\">\n",
       "  <thead>\n",
       "    <tr style=\"text-align: right;\">\n",
       "      <th></th>\n",
       "      <th>px_0</th>\n",
       "      <th>px_1</th>\n",
       "      <th>px_2</th>\n",
       "      <th>px_3</th>\n",
       "      <th>px_4</th>\n",
       "      <th>px_5</th>\n",
       "      <th>px_6</th>\n",
       "      <th>px_7</th>\n",
       "      <th>px_8</th>\n",
       "      <th>px_9</th>\n",
       "      <th>...</th>\n",
       "      <th>px_9990</th>\n",
       "      <th>px_9991</th>\n",
       "      <th>px_9992</th>\n",
       "      <th>px_9993</th>\n",
       "      <th>px_9994</th>\n",
       "      <th>px_9995</th>\n",
       "      <th>px_9996</th>\n",
       "      <th>px_9997</th>\n",
       "      <th>px_9998</th>\n",
       "      <th>px_9999</th>\n",
       "    </tr>\n",
       "  </thead>\n",
       "  <tbody>\n",
       "    <tr>\n",
       "      <th>img_0</th>\n",
       "      <td>12</td>\n",
       "      <td>8</td>\n",
       "      <td>4</td>\n",
       "      <td>7</td>\n",
       "      <td>7</td>\n",
       "      <td>5</td>\n",
       "      <td>0</td>\n",
       "      <td>2</td>\n",
       "      <td>2</td>\n",
       "      <td>3</td>\n",
       "      <td>...</td>\n",
       "      <td>0</td>\n",
       "      <td>0</td>\n",
       "      <td>0</td>\n",
       "      <td>3</td>\n",
       "      <td>1</td>\n",
       "      <td>7</td>\n",
       "      <td>9</td>\n",
       "      <td>9</td>\n",
       "      <td>14</td>\n",
       "      <td>13</td>\n",
       "    </tr>\n",
       "    <tr>\n",
       "      <th>img_1</th>\n",
       "      <td>53</td>\n",
       "      <td>53</td>\n",
       "      <td>53</td>\n",
       "      <td>73</td>\n",
       "      <td>74</td>\n",
       "      <td>82</td>\n",
       "      <td>71</td>\n",
       "      <td>73</td>\n",
       "      <td>79</td>\n",
       "      <td>83</td>\n",
       "      <td>...</td>\n",
       "      <td>125</td>\n",
       "      <td>121</td>\n",
       "      <td>112</td>\n",
       "      <td>112</td>\n",
       "      <td>114</td>\n",
       "      <td>107</td>\n",
       "      <td>102</td>\n",
       "      <td>93</td>\n",
       "      <td>86</td>\n",
       "      <td>81</td>\n",
       "    </tr>\n",
       "    <tr>\n",
       "      <th>img_2</th>\n",
       "      <td>163</td>\n",
       "      <td>156</td>\n",
       "      <td>153</td>\n",
       "      <td>148</td>\n",
       "      <td>149</td>\n",
       "      <td>147</td>\n",
       "      <td>144</td>\n",
       "      <td>145</td>\n",
       "      <td>143</td>\n",
       "      <td>141</td>\n",
       "      <td>...</td>\n",
       "      <td>109</td>\n",
       "      <td>112</td>\n",
       "      <td>124</td>\n",
       "      <td>99</td>\n",
       "      <td>91</td>\n",
       "      <td>77</td>\n",
       "      <td>53</td>\n",
       "      <td>36</td>\n",
       "      <td>22</td>\n",
       "      <td>4</td>\n",
       "    </tr>\n",
       "    <tr>\n",
       "      <th>img_3</th>\n",
       "      <td>74</td>\n",
       "      <td>88</td>\n",
       "      <td>91</td>\n",
       "      <td>100</td>\n",
       "      <td>84</td>\n",
       "      <td>91</td>\n",
       "      <td>80</td>\n",
       "      <td>52</td>\n",
       "      <td>56</td>\n",
       "      <td>64</td>\n",
       "      <td>...</td>\n",
       "      <td>1</td>\n",
       "      <td>1</td>\n",
       "      <td>1</td>\n",
       "      <td>1</td>\n",
       "      <td>1</td>\n",
       "      <td>1</td>\n",
       "      <td>1</td>\n",
       "      <td>1</td>\n",
       "      <td>1</td>\n",
       "      <td>1</td>\n",
       "    </tr>\n",
       "    <tr>\n",
       "      <th>img_4</th>\n",
       "      <td>0</td>\n",
       "      <td>0</td>\n",
       "      <td>0</td>\n",
       "      <td>0</td>\n",
       "      <td>0</td>\n",
       "      <td>0</td>\n",
       "      <td>0</td>\n",
       "      <td>0</td>\n",
       "      <td>0</td>\n",
       "      <td>0</td>\n",
       "      <td>...</td>\n",
       "      <td>220</td>\n",
       "      <td>219</td>\n",
       "      <td>218</td>\n",
       "      <td>212</td>\n",
       "      <td>209</td>\n",
       "      <td>210</td>\n",
       "      <td>204</td>\n",
       "      <td>197</td>\n",
       "      <td>186</td>\n",
       "      <td>159</td>\n",
       "    </tr>\n",
       "  </tbody>\n",
       "</table>\n",
       "<p>5 rows × 10000 columns</p>\n",
       "</div>"
      ],
      "text/plain": [
       "       px_0  px_1  px_2  px_3  px_4  px_5  px_6  px_7  px_8  px_9  ...  \\\n",
       "img_0    12     8     4     7     7     5     0     2     2     3  ...   \n",
       "img_1    53    53    53    73    74    82    71    73    79    83  ...   \n",
       "img_2   163   156   153   148   149   147   144   145   143   141  ...   \n",
       "img_3    74    88    91   100    84    91    80    52    56    64  ...   \n",
       "img_4     0     0     0     0     0     0     0     0     0     0  ...   \n",
       "\n",
       "       px_9990  px_9991  px_9992  px_9993  px_9994  px_9995  px_9996  px_9997  \\\n",
       "img_0        0        0        0        3        1        7        9        9   \n",
       "img_1      125      121      112      112      114      107      102       93   \n",
       "img_2      109      112      124       99       91       77       53       36   \n",
       "img_3        1        1        1        1        1        1        1        1   \n",
       "img_4      220      219      218      212      209      210      204      197   \n",
       "\n",
       "       px_9998  px_9999  \n",
       "img_0       14       13  \n",
       "img_1       86       81  \n",
       "img_2       22        4  \n",
       "img_3        1        1  \n",
       "img_4      186      159  \n",
       "\n",
       "[5 rows x 10000 columns]"
      ]
     },
     "execution_count": 39,
     "metadata": {},
     "output_type": "execute_result"
    }
   ],
   "source": [
    "data_features.head(5)"
   ]
  },
  {
   "cell_type": "code",
   "execution_count": 40,
   "metadata": {},
   "outputs": [
    {
     "data": {
      "text/plain": [
       "(670, 10000)"
      ]
     },
     "execution_count": 40,
     "metadata": {},
     "output_type": "execute_result"
    }
   ],
   "source": [
    "data_features.shape"
   ]
  },
  {
   "cell_type": "code",
   "execution_count": 41,
   "metadata": {},
   "outputs": [
    {
     "data": {
      "text/plain": [
       "px_0       34.680597\n",
       "px_1       37.907463\n",
       "px_2       40.097015\n",
       "px_3       45.374627\n",
       "px_4       48.904478\n",
       "             ...    \n",
       "px_9995    44.532836\n",
       "px_9996    39.932836\n",
       "px_9997    35.337313\n",
       "px_9998    33.294030\n",
       "px_9999    32.192537\n",
       "Length: 10000, dtype: float64"
      ]
     },
     "execution_count": 41,
     "metadata": {},
     "output_type": "execute_result"
    }
   ],
   "source": [
    "data_features.mean(axis=0)"
   ]
  },
  {
   "cell_type": "code",
   "execution_count": 42,
   "metadata": {},
   "outputs": [
    {
     "data": {
      "text/plain": [
       "px_0       2615.990505\n",
       "px_1       2693.315789\n",
       "px_2       2639.104176\n",
       "px_3       2955.218189\n",
       "px_4       3032.203119\n",
       "              ...     \n",
       "px_9995    4181.436140\n",
       "px_9996    3955.503703\n",
       "px_9997    3571.924914\n",
       "px_9998    3384.814763\n",
       "px_9999    3153.928494\n",
       "Length: 10000, dtype: float64"
      ]
     },
     "execution_count": 42,
     "metadata": {},
     "output_type": "execute_result"
    }
   ],
   "source": [
    "data_features.var(axis=0)"
   ]
  },
  {
   "cell_type": "code",
   "execution_count": 43,
   "metadata": {},
   "outputs": [],
   "source": [
    "std = StandardScaler()"
   ]
  },
  {
   "cell_type": "code",
   "execution_count": 44,
   "metadata": {},
   "outputs": [],
   "source": [
    "features_std = pd.DataFrame(std.fit_transform(data_features), index=data_features.index, columns=data_features.columns)"
   ]
  },
  {
   "cell_type": "code",
   "execution_count": 45,
   "metadata": {},
   "outputs": [
    {
     "data": {
      "text/html": [
       "<div>\n",
       "<style scoped>\n",
       "    .dataframe tbody tr th:only-of-type {\n",
       "        vertical-align: middle;\n",
       "    }\n",
       "\n",
       "    .dataframe tbody tr th {\n",
       "        vertical-align: top;\n",
       "    }\n",
       "\n",
       "    .dataframe thead th {\n",
       "        text-align: right;\n",
       "    }\n",
       "</style>\n",
       "<table border=\"1\" class=\"dataframe\">\n",
       "  <thead>\n",
       "    <tr style=\"text-align: right;\">\n",
       "      <th></th>\n",
       "      <th>px_0</th>\n",
       "      <th>px_1</th>\n",
       "      <th>px_2</th>\n",
       "      <th>px_3</th>\n",
       "      <th>px_4</th>\n",
       "      <th>px_5</th>\n",
       "      <th>px_6</th>\n",
       "      <th>px_7</th>\n",
       "      <th>px_8</th>\n",
       "      <th>px_9</th>\n",
       "      <th>...</th>\n",
       "      <th>px_9990</th>\n",
       "      <th>px_9991</th>\n",
       "      <th>px_9992</th>\n",
       "      <th>px_9993</th>\n",
       "      <th>px_9994</th>\n",
       "      <th>px_9995</th>\n",
       "      <th>px_9996</th>\n",
       "      <th>px_9997</th>\n",
       "      <th>px_9998</th>\n",
       "      <th>px_9999</th>\n",
       "    </tr>\n",
       "  </thead>\n",
       "  <tbody>\n",
       "    <tr>\n",
       "      <th>img_280</th>\n",
       "      <td>1.493280</td>\n",
       "      <td>1.293764</td>\n",
       "      <td>1.244851</td>\n",
       "      <td>1.097642</td>\n",
       "      <td>1.001294</td>\n",
       "      <td>0.804566</td>\n",
       "      <td>0.941357</td>\n",
       "      <td>1.057007</td>\n",
       "      <td>1.205721</td>\n",
       "      <td>1.262454</td>\n",
       "      <td>...</td>\n",
       "      <td>1.042425</td>\n",
       "      <td>1.138512</td>\n",
       "      <td>0.753136</td>\n",
       "      <td>0.149219</td>\n",
       "      <td>-0.215266</td>\n",
       "      <td>-0.627290</td>\n",
       "      <td>-0.635409</td>\n",
       "      <td>-0.591707</td>\n",
       "      <td>-0.572695</td>\n",
       "      <td>-0.573659</td>\n",
       "    </tr>\n",
       "    <tr>\n",
       "      <th>img_419</th>\n",
       "      <td>-0.561170</td>\n",
       "      <td>-0.653847</td>\n",
       "      <td>-0.722662</td>\n",
       "      <td>-0.761664</td>\n",
       "      <td>-0.797910</td>\n",
       "      <td>-0.870901</td>\n",
       "      <td>-0.967972</td>\n",
       "      <td>-0.961316</td>\n",
       "      <td>-1.042303</td>\n",
       "      <td>-1.053607</td>\n",
       "      <td>...</td>\n",
       "      <td>-1.350645</td>\n",
       "      <td>-1.166696</td>\n",
       "      <td>-1.033765</td>\n",
       "      <td>-0.852871</td>\n",
       "      <td>-0.740005</td>\n",
       "      <td>-0.611814</td>\n",
       "      <td>-0.539938</td>\n",
       "      <td>-0.507984</td>\n",
       "      <td>-0.435086</td>\n",
       "      <td>-0.448921</td>\n",
       "    </tr>\n",
       "    <tr>\n",
       "      <th>img_170</th>\n",
       "      <td>-0.561170</td>\n",
       "      <td>-0.634564</td>\n",
       "      <td>-0.664221</td>\n",
       "      <td>-0.743255</td>\n",
       "      <td>-0.797910</td>\n",
       "      <td>-0.835628</td>\n",
       "      <td>-0.877910</td>\n",
       "      <td>-0.924949</td>\n",
       "      <td>-0.987024</td>\n",
       "      <td>-0.998022</td>\n",
       "      <td>...</td>\n",
       "      <td>-1.238030</td>\n",
       "      <td>-1.028659</td>\n",
       "      <td>-0.863584</td>\n",
       "      <td>-0.751210</td>\n",
       "      <td>-0.620065</td>\n",
       "      <td>-0.549910</td>\n",
       "      <td>-0.492202</td>\n",
       "      <td>-0.457751</td>\n",
       "      <td>-0.417885</td>\n",
       "      <td>-0.413282</td>\n",
       "    </tr>\n",
       "    <tr>\n",
       "      <th>img_616</th>\n",
       "      <td>-0.306810</td>\n",
       "      <td>-0.383881</td>\n",
       "      <td>-0.294095</td>\n",
       "      <td>-0.006896</td>\n",
       "      <td>0.365212</td>\n",
       "      <td>0.469473</td>\n",
       "      <td>0.599119</td>\n",
       "      <td>0.675163</td>\n",
       "      <td>0.560796</td>\n",
       "      <td>0.928941</td>\n",
       "      <td>...</td>\n",
       "      <td>0.591964</td>\n",
       "      <td>0.324097</td>\n",
       "      <td>0.029866</td>\n",
       "      <td>0.120173</td>\n",
       "      <td>-0.185281</td>\n",
       "      <td>-0.410625</td>\n",
       "      <td>-0.492202</td>\n",
       "      <td>-0.574962</td>\n",
       "      <td>-0.572695</td>\n",
       "      <td>-0.573659</td>\n",
       "    </tr>\n",
       "    <tr>\n",
       "      <th>img_362</th>\n",
       "      <td>-0.267677</td>\n",
       "      <td>-0.441731</td>\n",
       "      <td>-0.508378</td>\n",
       "      <td>-0.595984</td>\n",
       "      <td>-0.634346</td>\n",
       "      <td>-0.676899</td>\n",
       "      <td>-0.715797</td>\n",
       "      <td>-0.761302</td>\n",
       "      <td>-0.802760</td>\n",
       "      <td>-0.849794</td>\n",
       "      <td>...</td>\n",
       "      <td>-0.252649</td>\n",
       "      <td>-0.200441</td>\n",
       "      <td>-0.111951</td>\n",
       "      <td>-0.025058</td>\n",
       "      <td>-0.050348</td>\n",
       "      <td>-0.023722</td>\n",
       "      <td>-0.142139</td>\n",
       "      <td>-0.240072</td>\n",
       "      <td>-0.280276</td>\n",
       "      <td>-0.288545</td>\n",
       "    </tr>\n",
       "  </tbody>\n",
       "</table>\n",
       "<p>5 rows × 10000 columns</p>\n",
       "</div>"
      ],
      "text/plain": [
       "             px_0      px_1      px_2      px_3      px_4      px_5      px_6  \\\n",
       "img_280  1.493280  1.293764  1.244851  1.097642  1.001294  0.804566  0.941357   \n",
       "img_419 -0.561170 -0.653847 -0.722662 -0.761664 -0.797910 -0.870901 -0.967972   \n",
       "img_170 -0.561170 -0.634564 -0.664221 -0.743255 -0.797910 -0.835628 -0.877910   \n",
       "img_616 -0.306810 -0.383881 -0.294095 -0.006896  0.365212  0.469473  0.599119   \n",
       "img_362 -0.267677 -0.441731 -0.508378 -0.595984 -0.634346 -0.676899 -0.715797   \n",
       "\n",
       "             px_7      px_8      px_9  ...   px_9990   px_9991   px_9992  \\\n",
       "img_280  1.057007  1.205721  1.262454  ...  1.042425  1.138512  0.753136   \n",
       "img_419 -0.961316 -1.042303 -1.053607  ... -1.350645 -1.166696 -1.033765   \n",
       "img_170 -0.924949 -0.987024 -0.998022  ... -1.238030 -1.028659 -0.863584   \n",
       "img_616  0.675163  0.560796  0.928941  ...  0.591964  0.324097  0.029866   \n",
       "img_362 -0.761302 -0.802760 -0.849794  ... -0.252649 -0.200441 -0.111951   \n",
       "\n",
       "          px_9993   px_9994   px_9995   px_9996   px_9997   px_9998   px_9999  \n",
       "img_280  0.149219 -0.215266 -0.627290 -0.635409 -0.591707 -0.572695 -0.573659  \n",
       "img_419 -0.852871 -0.740005 -0.611814 -0.539938 -0.507984 -0.435086 -0.448921  \n",
       "img_170 -0.751210 -0.620065 -0.549910 -0.492202 -0.457751 -0.417885 -0.413282  \n",
       "img_616  0.120173 -0.185281 -0.410625 -0.492202 -0.574962 -0.572695 -0.573659  \n",
       "img_362 -0.025058 -0.050348 -0.023722 -0.142139 -0.240072 -0.280276 -0.288545  \n",
       "\n",
       "[5 rows x 10000 columns]"
      ]
     },
     "execution_count": 45,
     "metadata": {},
     "output_type": "execute_result"
    }
   ],
   "source": [
    "features_std.sample(5)"
   ]
  },
  {
   "cell_type": "code",
   "execution_count": 46,
   "metadata": {},
   "outputs": [
    {
     "data": {
      "text/plain": [
       "(670, 10000)"
      ]
     },
     "execution_count": 46,
     "metadata": {},
     "output_type": "execute_result"
    }
   ],
   "source": [
    "features_std.shape"
   ]
  },
  {
   "cell_type": "code",
   "execution_count": 47,
   "metadata": {},
   "outputs": [
    {
     "data": {
      "text/plain": [
       "px_0      -5.435122e-17\n",
       "px_1       1.491759e-16\n",
       "px_2      -6.870541e-17\n",
       "px_3       5.159637e-17\n",
       "px_4      -7.986978e-17\n",
       "               ...     \n",
       "px_9995    7.788132e-18\n",
       "px_9996   -1.670306e-16\n",
       "px_9997    1.209646e-17\n",
       "px_9998    3.146737e-16\n",
       "px_9999    1.345524e-16\n",
       "Length: 10000, dtype: float64"
      ]
     },
     "execution_count": 47,
     "metadata": {},
     "output_type": "execute_result"
    }
   ],
   "source": [
    "features_std.mean(axis=0)"
   ]
  },
  {
   "cell_type": "code",
   "execution_count": null,
   "metadata": {},
   "outputs": [],
   "source": [
    "pca_pixels = PCA()\n",
    "pca_pixels.fit(features_std)"
   ]
  },
  {
   "cell_type": "code",
   "execution_count": null,
   "metadata": {},
   "outputs": [],
   "source": [
    "pca_pixels.components_.shape"
   ]
  },
  {
   "cell_type": "code",
   "execution_count": null,
   "metadata": {},
   "outputs": [],
   "source": [
    "pca_pixels.components_[0:3]"
   ]
  },
  {
   "cell_type": "code",
   "execution_count": null,
   "metadata": {},
   "outputs": [],
   "source": [
    "pca_loadings = pd.DataFrame(pca_pixels.components_.T, index=data_features.columns, columns=data_features.index)"
   ]
  },
  {
   "cell_type": "code",
   "execution_count": null,
   "metadata": {},
   "outputs": [],
   "source": [
    "pca_loadings.T.dot(pca_loadings)"
   ]
  },
  {
   "cell_type": "code",
   "execution_count": null,
   "metadata": {},
   "outputs": [],
   "source": [
    "pca_transform = pca_pixels.fit_transform(features_std)"
   ]
  },
  {
   "cell_type": "code",
   "execution_count": null,
   "metadata": {},
   "outputs": [],
   "source": [
    "pca_transform.shape"
   ]
  },
  {
   "cell_type": "code",
   "execution_count": null,
   "metadata": {},
   "outputs": [],
   "source": [
    "df_pca = pd.DataFrame(pca_transform, index=features_std.index)\n",
    "df_pca"
   ]
  },
  {
   "cell_type": "code",
   "execution_count": null,
   "metadata": {},
   "outputs": [],
   "source": [
    "print(\"Media de los CP: \")\n",
    "print(df_pca.mean(axis=0))\n",
    "\n",
    "print('\\n')\n",
    "\n",
    "# Observamos la varianza de las variables:\n",
    "print(\"Varianza de los CPs: \")\n",
    "print(df_pca.var(axis=0))"
   ]
  },
  {
   "cell_type": "code",
   "execution_count": null,
   "metadata": {},
   "outputs": [],
   "source": [
    "pca_pixels.explained_variance_[0:10], pca_pixels.explained_variance_.shape"
   ]
  },
  {
   "cell_type": "code",
   "execution_count": null,
   "metadata": {},
   "outputs": [],
   "source": [
    "plt.figure(figsize=(20,15))\n",
    "\n",
    "plt.plot(np.arange(df_pca.shape[0]), pca_pixels.explained_variance_ratio_, '-o', label='Componente individual')\n",
    "plt.plot(np.arange(df_pca.shape[0]), np.cumsum(pca_pixels.explained_variance_ratio_), '-s', label='Acumulado')\n",
    "\n",
    "plt.ylabel('Porcentaje de Varianza Explicada')\n",
    "plt.xlabel('Componentes Principales')\n",
    "\n",
    "plt.xticks([df_pca.shape[0]])\n",
    "plt.legend(loc=2);"
   ]
  },
  {
   "cell_type": "markdown",
   "metadata": {},
   "source": [
    "## PCA para visualizar datos\n",
    "\n",
    "Vamos a proyectar los datos del dataset de digitos en las primeras dos componenetes principales, y vamos a usar esta proyección para visualizar los datos\n"
   ]
  },
  {
   "cell_type": "code",
   "execution_count": null,
   "metadata": {},
   "outputs": [],
   "source": [
    "pca_digits_vis = PCA(n_components=670)\n",
    "projected = pca_digits_vis.fit_transform(data_features)\n",
    "print(data_features.shape)\n",
    "print(data_features.shape)"
   ]
  },
  {
   "cell_type": "markdown",
   "metadata": {},
   "source": [
    "Definimos una función para plotear los dígitos en 2 dimensiones generados por PCA"
   ]
  },
  {
   "cell_type": "code",
   "execution_count": null,
   "metadata": {},
   "outputs": [],
   "source": [
    "def plot_digits_pca(projection, numbers):\n",
    "    \n",
    "    colors = [\"#476A2A\", \"#7851B8\", \"#BD3430\", \"#4A2D4E\", \"#875525\",\n",
    "          \"#A83683\", \"#4E655E\", \"#853541\", \"#3A3120\", \"#535D8E\"]\n",
    "    plt.figure(figsize=(10,10))\n",
    "    plt.xlim(projection[:,0].min(), projection[:,0].max())\n",
    "    plt.ylim(projection[:,1].min(), projection[:,1].max())\n",
    "\n",
    "    for i in range(len(projection)):\n",
    "        plt.text(projection[i,0], projection[i,1], str(numbers[i]),\n",
    "                color=colors[numbers[i]], fontdict={'weight':'bold', 'size':9})\n",
    "    plt.xlabel('Primer Componente Principal')\n",
    "    plt.ylabel('Segundo Componente Principal')"
   ]
  },
  {
   "cell_type": "markdown",
   "metadata": {},
   "source": [
    "Ploteamos los dígitos proyectados con PCA"
   ]
  },
  {
   "cell_type": "code",
   "execution_count": null,
   "metadata": {},
   "outputs": [],
   "source": [
    "plot_digits_pca(projected, data_target)"
   ]
  },
  {
   "cell_type": "markdown",
   "metadata": {},
   "source": [
    "Vemos que PCA logró encontrar alguna estructura en los datos pero no llegó a separar bien a la mayoría de los números. Por ejemplo, el segundo componente parece distinguir bien entre 0 y 1. \n",
    "\n",
    "Un punto importante a remarcar es que estamos ploteando usando las etiquetas de los registros. Es decir, tenemos más información que la que tendríamos en un problema típico de aprendizaje no supervisado. \n",
    "\n",
    "Veamos cuál sería el resultado del ploteo sin las etiquetas:"
   ]
  },
  {
   "cell_type": "code",
   "execution_count": null,
   "metadata": {},
   "outputs": [],
   "source": [
    "plt.figure(figsize=(10,10))\n",
    "plt.xlim(projected[:,0].min(), projected[:,0].max())\n",
    "plt.ylim(projected[:,1].min(), projected[:,1].max())\n",
    "\n",
    "for i in range(len(projected)):\n",
    "    plt.scatter(projected[i,0], projected[i,1], color='b', s=10)"
   ]
  },
  {
   "cell_type": "markdown",
   "metadata": {},
   "source": [
    "Podemos intuir algún tipo de estructura o separación entre grupos, pero evidentemente los datos son demasiado complejos y no lineales para que PCA pueda capturar correctamente la estructura y separarlos en grupos distintos (acorde a su etiqueta)."
   ]
  },
  {
   "cell_type": "markdown",
   "metadata": {},
   "source": [
    "---"
   ]
  },
  {
   "cell_type": "code",
   "execution_count": null,
   "metadata": {},
   "outputs": [],
   "source": [
    "data"
   ]
  },
  {
   "cell_type": "code",
   "execution_count": null,
   "metadata": {},
   "outputs": [],
   "source": [
    "target_covid_mask = data.target == 0\n",
    "target_normal_mask = data.target == 1\n",
    "target_pneumonia_mask = data.target == 2"
   ]
  },
  {
   "cell_type": "code",
   "execution_count": null,
   "metadata": {},
   "outputs": [],
   "source": [
    "data_features_covid = data.loc[target_covid_mask, data.columns.drop('target')]\n",
    "data_features_normal = data.loc[target_normal_mask, data.columns.drop('target')]\n",
    "data_features_pneumonia = data.loc[target_pneumonia_mask, data.columns.drop('target')]"
   ]
  },
  {
   "cell_type": "code",
   "execution_count": null,
   "metadata": {},
   "outputs": [],
   "source": [
    "img_test = np.array(data_features.iloc[1, :])\n",
    "img_test = img_test.reshape(100,100)\n",
    "plt.imshow(img_test)\n",
    "plt.show()"
   ]
  },
  {
   "cell_type": "code",
   "execution_count": null,
   "metadata": {},
   "outputs": [],
   "source": [
    "fig, ax = plt.subplots(5, 10, figsize=(10,10), subplot_kw=dict(xticks=[], yticks=[]))\n",
    "fig.suptitle('Covid Torax scans', y=0.9, fontsize=18)\n",
    "for i, axi in enumerate(ax.flat):\n",
    "    img_test = np.array(data_features_covid.iloc[i, :])\n",
    "    img_test = img_test.reshape(100,100)\n",
    "    axi.imshow(img_test, cmap='gray')"
   ]
  },
  {
   "cell_type": "code",
   "execution_count": null,
   "metadata": {},
   "outputs": [],
   "source": [
    "fig, ax = plt.subplots(5, 10, figsize=(10,10), subplot_kw=dict(xticks=[], yticks=[]))\n",
    "fig.suptitle('Normal Torax scans', y=0.9, fontsize=18)\n",
    "for i, axi in enumerate(ax.flat):\n",
    "    img_test = np.array(data_features_normal.iloc[i, :])\n",
    "    img_test = img_test.reshape(100,100)\n",
    "    axi.imshow(img_test, cmap='gray')"
   ]
  },
  {
   "cell_type": "code",
   "execution_count": null,
   "metadata": {},
   "outputs": [],
   "source": [
    "fig, ax = plt.subplots(5, 10, figsize=(10,10), subplot_kw=dict(xticks=[], yticks=[]))\n",
    "fig.suptitle('Pneumonia Torax scans', y=0.9, fontsize=18)\n",
    "for i, axi in enumerate(ax.flat):\n",
    "    img_test = np.array(data_features_pneumonia.iloc[i, :])\n",
    "    img_test = img_test.reshape(100,100)\n",
    "    axi.imshow(img_test, cmap='gray')"
   ]
  },
  {
   "cell_type": "code",
   "execution_count": null,
   "metadata": {},
   "outputs": [],
   "source": [
    "std_sclr = StandardScaler()\n",
    "X_std_pca = std_sclr.fit_transform(data_features)\n",
    "\n",
    "model_pca = PCA().fit(X_std_pca)\n",
    "\n",
    "explained_variance = model_pca.explained_variance_ratio_\n",
    "print(model_pca.explained_variance_ratio_.shape)\n",
    "\n",
    "#print(explained_variance)\n",
    "\n",
    "cumulative_explained_variance = np.cumsum(explained_variance)\n",
    "\n",
    "print(cumulative_explained_variance[0:10])\n",
    "\n",
    "plt.plot(cumulative_explained_variance)\n",
    "plt.xlabel('número de componentes')\n",
    "plt.ylabel('% de varianza explicada');"
   ]
  },
  {
   "cell_type": "code",
   "execution_count": null,
   "metadata": {},
   "outputs": [],
   "source": [
    "def plot_components(proj, ax=None, thumb_frac=0.05, cmap='gray'):\n",
    "    \n",
    "    fig, ax = plt.subplots(figsize=(15, 15))\n",
    "\n",
    "    # get axis from plot -  https://matplotlib.org/3.1.1/api/_as_gen/matplotlib.pyplot.gca.html\n",
    "    ax = ax or plt.gca()\n",
    "    \n",
    "    coord_x = proj[:, 0]\n",
    "    coord_y = proj[:, 1]\n",
    "    ax.plot(coord_x, coord_y, '.k')    \n",
    "    # símbolo . color k (black)"
   ]
  },
  {
   "cell_type": "code",
   "execution_count": null,
   "metadata": {},
   "outputs": [],
   "source": [
    "def visualize_scatter_with_images(X_2d_data, images, figsize=(45,45), image_zoom=1):\n",
    "    fig, ax = plt.subplots(figsize=figsize)\n",
    "    artists = []\n",
    "    for xy, i in zip(X_2d_data, images):\n",
    "        x0, y0 = xy\n",
    "        img = OffsetImage(i, zoom=image_zoom)\n",
    "        ab = AnnotationBbox(img, (x0, y0), xycoords='data', frameon=False)\n",
    "        artists.append(ax.add_artist(ab))\n",
    "    ax.update_datalim(X_2d_data)\n",
    "    ax.autoscale()\n",
    "    plt.show()"
   ]
  },
  {
   "cell_type": "code",
   "execution_count": null,
   "metadata": {},
   "outputs": [],
   "source": [
    "def plot_components_img(proj, images=None, ax=None, thumb_frac=0.05, numbers=None, cmap='gray'):\n",
    "    \n",
    "    colors = [\"#476A2A\", \"#7851B8\", \"#BD3430\", \"#4A2D4E\", \"#875525\",\n",
    "          \"#A83683\", \"#4E655E\", \"#853541\", \"#3A3120\", \"#535D8E\"]\n",
    "    \n",
    "    fig, ax = plt.subplots(figsize=(15, 15))\n",
    "\n",
    "    # get axis from plot -  https://matplotlib.org/3.1.1/api/_as_gen/matplotlib.pyplot.gca.html\n",
    "    ax = ax or plt.gca()\n",
    "    \n",
    "    coord_x = proj[:, 0]\n",
    "    coord_y = proj[:, 1]\n",
    "    ax.plot(coord_x, coord_y, '.k')    \n",
    "    # símbolo . color k (black)\n",
    "    \n",
    "    for i in range(len(proj)):\n",
    "        ax.text(proj[i,0], proj[i,1], str(numbers[i]))\n",
    "    \n",
    "    if images is not None:\n",
    "                \n",
    "        min_dist_2 = (thumb_frac * max(proj.max(0) - proj.min(0))) ** 2\n",
    "        shown_images = np.array([2 * proj.max(0)])\n",
    "        \n",
    "        for i in range(proj.shape[0]):\n",
    "            \n",
    "            dist = np.sum((proj[i] - shown_images) ** 2, 1)\n",
    "            \n",
    "            # don't show points that are too close\n",
    "            if np.min(dist) >= min_dist_2:                        \n",
    "                \n",
    "                #https://numpy.org/doc/stable/reference/generated/numpy.vstack.html\n",
    "                shown_images = np.vstack([shown_images, proj[i]])\n",
    "            \n",
    "                # grafica las thumbnails:\n",
    "                imagebox = offsetbox.AnnotationBbox(offsetbox.OffsetImage(images[i], zoom=0.25, cmap=cmap), proj[i])\n",
    "                ax.add_artist(imagebox)            "
   ]
  },
  {
   "cell_type": "code",
   "execution_count": null,
   "metadata": {},
   "outputs": [],
   "source": [
    "def plot_digits_tsne(projection, numbers, images):\n",
    "    \n",
    "    colors = [\"#476A2A\", \"#7851B8\", \"#BD3430\", \"#4A2D4E\", \"#875525\",\n",
    "          \"#A83683\", \"#4E655E\", \"#853541\", \"#3A3120\", \"#535D8E\"]\n",
    "    \n",
    "    fig, ax = plt.subplots(figsize=(20,20))\n",
    "    \n",
    "    for i in zip(range(len(projection)), images):\n",
    "        ax.text(projection[i,0], projection[i,1], str(numbers[i]))\n",
    "        ax.imshow(images)\n",
    "        \n",
    "    fig.xlabel('Primer Componente Principal')\n",
    "    fig.ylabel('Segundo Componente Principal')"
   ]
  },
  {
   "cell_type": "code",
   "execution_count": null,
   "metadata": {},
   "outputs": [],
   "source": [
    "data_features"
   ]
  },
  {
   "cell_type": "code",
   "execution_count": null,
   "metadata": {},
   "outputs": [],
   "source": [
    "pca_2cp = PCA(n_components=2)\n",
    "proj_pca = pca_2cp.fit_transform(X_std_pca)\n",
    "proj_pca"
   ]
  },
  {
   "cell_type": "code",
   "execution_count": null,
   "metadata": {},
   "outputs": [],
   "source": [
    "# list[<start>:<stop>:<step>]\n",
    "plot_components(proj_pca)\n",
    "#plot_components(proj_iso, images=faces.images[:, :, :])\n",
    "#plot_components(proj_iso, images=faces.images[:, ::3, ::3])"
   ]
  },
  {
   "cell_type": "markdown",
   "metadata": {},
   "source": [
    "## Ejercicio 5 - Isomap\n",
    "\n",
    "Proyectemos ahora los datos en 2 dimensiones usando Isomap y usemos `plot_components` para visualizar los resultados\n",
    "\n",
    "https://scikit-learn.org/stable/modules/generated/sklearn.manifold.Isomap.html#sklearn.manifold.Isomap"
   ]
  },
  {
   "cell_type": "code",
   "execution_count": null,
   "metadata": {},
   "outputs": [],
   "source": [
    "isomap_2cp = Isomap(n_components=2)\n",
    "proj_iso = isomap_2cp.fit_transform(data_features)\n",
    "\n",
    "plot_components(proj_iso)\n"
   ]
  },
  {
   "cell_type": "markdown",
   "metadata": {},
   "source": [
    "## Ejercicio 6 - TSNE\n",
    "\n",
    "Proyectemos ahora los datos en 2 dimensiones usando T-SNE y usemos `plot_components` para visualizar los resultados\n",
    "\n",
    "https://scikit-learn.org/stable/modules/generated/sklearn.manifold.TSNE.html#sklearn.manifold.TSNE"
   ]
  },
  {
   "cell_type": "code",
   "execution_count": null,
   "metadata": {},
   "outputs": [],
   "source": [
    "#tsne = TSNE(n_components=2, perplexity=10.0, random_state=42)\n",
    "#tsne_result = tsne.fit_transform(pca_result)\n",
    "#tsne_result_scaled = StandardScaler().fit_transform(tsne_result)\n",
    "#visualize_scatter(tsne_result_scaled, label_ids)"
   ]
  },
  {
   "cell_type": "code",
   "execution_count": null,
   "metadata": {},
   "outputs": [],
   "source": [
    "#tsne = TSNE(n_components=2, perplexity=10.0, random_state=42)\n",
    "\n",
    "#proj_tsne = tsne.fit_transform(features_std)\n",
    "\n",
    "#plot_components(proj_tsne, images=)"
   ]
  },
  {
   "cell_type": "code",
   "execution_count": null,
   "metadata": {},
   "outputs": [],
   "source": [
    "data_features"
   ]
  },
  {
   "cell_type": "code",
   "execution_count": null,
   "metadata": {},
   "outputs": [],
   "source": [
    "data_features.shape[0]"
   ]
  },
  {
   "cell_type": "code",
   "execution_count": null,
   "metadata": {},
   "outputs": [],
   "source": [
    "np.array(data_features)\n",
    "imgmatrix = [np.array(data_features)[x].reshape(100,100) for x in range(data_features.shape[0])]"
   ]
  },
  {
   "cell_type": "code",
   "execution_count": null,
   "metadata": {},
   "outputs": [],
   "source": [
    "imgmatrix = np.array(imgmatrix)\n",
    "imgmatrix.shape"
   ]
  },
  {
   "cell_type": "code",
   "execution_count": null,
   "metadata": {},
   "outputs": [],
   "source": [
    "imgmatrix[1]"
   ]
  },
  {
   "cell_type": "code",
   "execution_count": null,
   "metadata": {},
   "outputs": [],
   "source": [
    "plt.imshow(imgmatrix[1])\n",
    "plt.show()"
   ]
  },
  {
   "cell_type": "markdown",
   "metadata": {},
   "source": [
    "---"
   ]
  },
  {
   "cell_type": "markdown",
   "metadata": {},
   "source": [
    "### Regresion logistica - Prediccion con PCA"
   ]
  },
  {
   "cell_type": "code",
   "execution_count": null,
   "metadata": {},
   "outputs": [],
   "source": [
    "data_features.sample(4)"
   ]
  },
  {
   "cell_type": "code",
   "execution_count": null,
   "metadata": {},
   "outputs": [],
   "source": [
    "X_train, X_test, y_train, y_test = train_test_split(data_features, data_target, stratify=data_target, random_state=0)"
   ]
  },
  {
   "cell_type": "code",
   "execution_count": null,
   "metadata": {},
   "outputs": [],
   "source": [
    "logistic_regression = LogisticRegression(C=200, max_iter=1000, solver='lbfgs')\n",
    "logistic_regression.fit(X_train, y_train)"
   ]
  },
  {
   "cell_type": "code",
   "execution_count": null,
   "metadata": {},
   "outputs": [],
   "source": [
    "scaler = StandardScaler() \n",
    "X_train_sc = scaler.fit_transform(X_train) \n",
    "X_test_sc = scaler.transform(X_test) "
   ]
  },
  {
   "cell_type": "code",
   "execution_count": null,
   "metadata": {},
   "outputs": [],
   "source": [
    "X_train_sc.shape, y_train.shape, X_test_sc.shape, y_test.shape"
   ]
  },
  {
   "cell_type": "markdown",
   "metadata": {},
   "source": [
    "#### instanciacion modelo PCA"
   ]
  },
  {
   "cell_type": "code",
   "execution_count": null,
   "metadata": {},
   "outputs": [],
   "source": [
    "model_pca = PCA().fit(X_train_sc)\n",
    "X_train_PCA = model_pca.transform(X_train_sc)\n",
    "X_test_PCA = model_pca.transform(X_test_sc)"
   ]
  },
  {
   "cell_type": "code",
   "execution_count": null,
   "metadata": {},
   "outputs": [],
   "source": [
    "X_train_PCA.shape, X_test_PCA.shape"
   ]
  },
  {
   "cell_type": "code",
   "execution_count": null,
   "metadata": {},
   "outputs": [],
   "source": [
    "X_train_PCA"
   ]
  },
  {
   "cell_type": "code",
   "execution_count": null,
   "metadata": {},
   "outputs": [],
   "source": [
    "logistic_regression_PCA = LogisticRegression(C=200, max_iter=1000, solver='lbfgs')\n",
    "logistic_regression_PCA.fit(X_train_PCA, y_train)"
   ]
  },
  {
   "cell_type": "code",
   "execution_count": null,
   "metadata": {},
   "outputs": [],
   "source": [
    "y_pred_PCA = logistic_regression_PCA.predict(X_test_PCA)"
   ]
  },
  {
   "cell_type": "code",
   "execution_count": null,
   "metadata": {},
   "outputs": [],
   "source": [
    "y_pred = logistic_regression.predict(X_test_sc)"
   ]
  },
  {
   "cell_type": "code",
   "execution_count": null,
   "metadata": {},
   "outputs": [],
   "source": [
    "accuracy_score(y_pred, y_test)"
   ]
  },
  {
   "cell_type": "code",
   "execution_count": null,
   "metadata": {},
   "outputs": [],
   "source": [
    "accuracy_score(y_pred_PCA, y_test)"
   ]
  },
  {
   "cell_type": "code",
   "execution_count": null,
   "metadata": {},
   "outputs": [],
   "source": [
    "confusion_matrix(y_pred_PCA, y_test)"
   ]
  },
  {
   "cell_type": "code",
   "execution_count": null,
   "metadata": {},
   "outputs": [],
   "source": [
    "confusion_matrix(y_pred, y_test)"
   ]
  },
  {
   "cell_type": "code",
   "execution_count": null,
   "metadata": {},
   "outputs": [],
   "source": [
    "######################\n",
    "#Esto se puede aplicar pero con el modelo de gridsearch traido con pickle\n",
    "######################"
   ]
  },
  {
   "cell_type": "code",
   "execution_count": null,
   "metadata": {},
   "outputs": [],
   "source": [
    "skf = StratifiedKFold(n_splits=5, shuffle=True, random_state=0)"
   ]
  },
  {
   "cell_type": "code",
   "execution_count": null,
   "metadata": {},
   "outputs": [],
   "source": [
    "#Hiperparametros del modelo.\n",
    "c = [200]\n",
    "solver =  ['lbfgs']\n",
    "m_iter = [1000]\n",
    "\n",
    "# Metricas de evaluacion\n",
    "scoring = ['accuracy', 'precision_macro', 'recall_macro']"
   ]
  },
  {
   "cell_type": "code",
   "execution_count": null,
   "metadata": {},
   "outputs": [],
   "source": [
    "logreg=LogisticRegression()"
   ]
  },
  {
   "cell_type": "code",
   "execution_count": null,
   "metadata": {},
   "outputs": [],
   "source": [
    "logreg_grid = dict(max_iter=m_iter, solver=solver, C=c)\n",
    "print(logreg_grid)"
   ]
  },
  {
   "cell_type": "markdown",
   "metadata": {},
   "source": [
    "Creacion de la grilla de hiperparametros del modelo"
   ]
  },
  {
   "cell_type": "code",
   "execution_count": null,
   "metadata": {},
   "outputs": [],
   "source": [
    "logreg_cv = GridSearchCV(logreg, logreg_grid, refit='accuracy', n_jobs = -1, cv=skf, return_train_score=True, scoring=scoring)"
   ]
  },
  {
   "cell_type": "code",
   "execution_count": null,
   "metadata": {},
   "outputs": [],
   "source": [
    "logreg_cv.fit(X_train_sc, y_train)"
   ]
  },
  {
   "cell_type": "code",
   "execution_count": null,
   "metadata": {},
   "outputs": [],
   "source": [
    "logreg_cv.cv_results_.keys()"
   ]
  },
  {
   "cell_type": "code",
   "execution_count": null,
   "metadata": {},
   "outputs": [],
   "source": [
    "logreg_cv_results = pd.DataFrame(logreg_cv.cv_results_)\n",
    "pd.DataFrame(logreg_cv_results).sort_values(by='mean_test_accuracy', ascending=False).head(5)"
   ]
  },
  {
   "cell_type": "code",
   "execution_count": null,
   "metadata": {},
   "outputs": [],
   "source": [
    "logreg_cv_results.shape"
   ]
  },
  {
   "cell_type": "code",
   "execution_count": null,
   "metadata": {},
   "outputs": [],
   "source": [
    "print(logreg_cv.best_estimator_)\n",
    "print(logreg_cv.best_score_)\n",
    "print(logreg_cv.best_params_)"
   ]
  },
  {
   "cell_type": "code",
   "execution_count": null,
   "metadata": {},
   "outputs": [],
   "source": [
    "y_test_pred_cv = logreg_cv.predict(X_test)"
   ]
  },
  {
   "cell_type": "code",
   "execution_count": null,
   "metadata": {},
   "outputs": [],
   "source": [
    "confusion_matrix(y_test_pred_cv, y_test)"
   ]
  },
  {
   "cell_type": "code",
   "execution_count": null,
   "metadata": {},
   "outputs": [],
   "source": [
    "print(classification_report(y_test_pred_cv, y_test))"
   ]
  },
  {
   "cell_type": "markdown",
   "metadata": {},
   "source": [
    "---"
   ]
  },
  {
   "cell_type": "markdown",
   "metadata": {},
   "source": [
    "### Feature importance y Filter methods\n"
   ]
  },
  {
   "cell_type": "markdown",
   "metadata": {},
   "source": [
    "Vamos a seleccionar features por sus propiedades estadísticas y su relación con la variable objetivo.\n",
    "\n",
    "Utilizaremos el método kbest para determinar los 5000 mejores, y luego poder graficar en la radiografía de tórax."
   ]
  },
  {
   "cell_type": "code",
   "execution_count": 21,
   "metadata": {},
   "outputs": [
    {
     "data": {
      "text/html": [
       "<div>\n",
       "<style scoped>\n",
       "    .dataframe tbody tr th:only-of-type {\n",
       "        vertical-align: middle;\n",
       "    }\n",
       "\n",
       "    .dataframe tbody tr th {\n",
       "        vertical-align: top;\n",
       "    }\n",
       "\n",
       "    .dataframe thead th {\n",
       "        text-align: right;\n",
       "    }\n",
       "</style>\n",
       "<table border=\"1\" class=\"dataframe\">\n",
       "  <thead>\n",
       "    <tr style=\"text-align: right;\">\n",
       "      <th></th>\n",
       "      <th>F Score</th>\n",
       "      <th>P Value</th>\n",
       "      <th>Support</th>\n",
       "      <th>Attribute</th>\n",
       "    </tr>\n",
       "  </thead>\n",
       "  <tbody>\n",
       "    <tr>\n",
       "      <th>6403</th>\n",
       "      <td>496.335297</td>\n",
       "      <td>0.0</td>\n",
       "      <td>True</td>\n",
       "      <td>6403</td>\n",
       "    </tr>\n",
       "    <tr>\n",
       "      <th>6303</th>\n",
       "      <td>490.841614</td>\n",
       "      <td>0.0</td>\n",
       "      <td>True</td>\n",
       "      <td>6303</td>\n",
       "    </tr>\n",
       "    <tr>\n",
       "      <th>6203</th>\n",
       "      <td>490.669037</td>\n",
       "      <td>0.0</td>\n",
       "      <td>True</td>\n",
       "      <td>6203</td>\n",
       "    </tr>\n",
       "    <tr>\n",
       "      <th>6003</th>\n",
       "      <td>483.230774</td>\n",
       "      <td>0.0</td>\n",
       "      <td>True</td>\n",
       "      <td>6003</td>\n",
       "    </tr>\n",
       "    <tr>\n",
       "      <th>6103</th>\n",
       "      <td>483.122925</td>\n",
       "      <td>0.0</td>\n",
       "      <td>True</td>\n",
       "      <td>6103</td>\n",
       "    </tr>\n",
       "    <tr>\n",
       "      <th>6603</th>\n",
       "      <td>477.154419</td>\n",
       "      <td>0.0</td>\n",
       "      <td>True</td>\n",
       "      <td>6603</td>\n",
       "    </tr>\n",
       "    <tr>\n",
       "      <th>6503</th>\n",
       "      <td>474.675018</td>\n",
       "      <td>0.0</td>\n",
       "      <td>True</td>\n",
       "      <td>6503</td>\n",
       "    </tr>\n",
       "    <tr>\n",
       "      <th>6703</th>\n",
       "      <td>472.670959</td>\n",
       "      <td>0.0</td>\n",
       "      <td>True</td>\n",
       "      <td>6703</td>\n",
       "    </tr>\n",
       "    <tr>\n",
       "      <th>6202</th>\n",
       "      <td>466.372528</td>\n",
       "      <td>0.0</td>\n",
       "      <td>True</td>\n",
       "      <td>6202</td>\n",
       "    </tr>\n",
       "    <tr>\n",
       "      <th>6304</th>\n",
       "      <td>464.426788</td>\n",
       "      <td>0.0</td>\n",
       "      <td>True</td>\n",
       "      <td>6304</td>\n",
       "    </tr>\n",
       "    <tr>\n",
       "      <th>6803</th>\n",
       "      <td>463.961212</td>\n",
       "      <td>0.0</td>\n",
       "      <td>True</td>\n",
       "      <td>6803</td>\n",
       "    </tr>\n",
       "    <tr>\n",
       "      <th>6402</th>\n",
       "      <td>463.101776</td>\n",
       "      <td>0.0</td>\n",
       "      <td>True</td>\n",
       "      <td>6402</td>\n",
       "    </tr>\n",
       "    <tr>\n",
       "      <th>6302</th>\n",
       "      <td>461.959412</td>\n",
       "      <td>0.0</td>\n",
       "      <td>True</td>\n",
       "      <td>6302</td>\n",
       "    </tr>\n",
       "    <tr>\n",
       "      <th>6204</th>\n",
       "      <td>460.429535</td>\n",
       "      <td>0.0</td>\n",
       "      <td>True</td>\n",
       "      <td>6204</td>\n",
       "    </tr>\n",
       "    <tr>\n",
       "      <th>5903</th>\n",
       "      <td>460.315765</td>\n",
       "      <td>0.0</td>\n",
       "      <td>True</td>\n",
       "      <td>5903</td>\n",
       "    </tr>\n",
       "    <tr>\n",
       "      <th>6102</th>\n",
       "      <td>459.889252</td>\n",
       "      <td>0.0</td>\n",
       "      <td>True</td>\n",
       "      <td>6102</td>\n",
       "    </tr>\n",
       "    <tr>\n",
       "      <th>6404</th>\n",
       "      <td>459.586456</td>\n",
       "      <td>0.0</td>\n",
       "      <td>True</td>\n",
       "      <td>6404</td>\n",
       "    </tr>\n",
       "    <tr>\n",
       "      <th>6504</th>\n",
       "      <td>459.511993</td>\n",
       "      <td>0.0</td>\n",
       "      <td>True</td>\n",
       "      <td>6504</td>\n",
       "    </tr>\n",
       "    <tr>\n",
       "      <th>5404</th>\n",
       "      <td>457.400085</td>\n",
       "      <td>0.0</td>\n",
       "      <td>True</td>\n",
       "      <td>5404</td>\n",
       "    </tr>\n",
       "    <tr>\n",
       "      <th>5604</th>\n",
       "      <td>454.645233</td>\n",
       "      <td>0.0</td>\n",
       "      <td>True</td>\n",
       "      <td>5604</td>\n",
       "    </tr>\n",
       "    <tr>\n",
       "      <th>5403</th>\n",
       "      <td>450.067993</td>\n",
       "      <td>0.0</td>\n",
       "      <td>True</td>\n",
       "      <td>5403</td>\n",
       "    </tr>\n",
       "    <tr>\n",
       "      <th>6502</th>\n",
       "      <td>448.441772</td>\n",
       "      <td>0.0</td>\n",
       "      <td>True</td>\n",
       "      <td>6502</td>\n",
       "    </tr>\n",
       "    <tr>\n",
       "      <th>5802</th>\n",
       "      <td>446.934326</td>\n",
       "      <td>0.0</td>\n",
       "      <td>True</td>\n",
       "      <td>5802</td>\n",
       "    </tr>\n",
       "    <tr>\n",
       "      <th>5902</th>\n",
       "      <td>446.794006</td>\n",
       "      <td>0.0</td>\n",
       "      <td>True</td>\n",
       "      <td>5902</td>\n",
       "    </tr>\n",
       "    <tr>\n",
       "      <th>6903</th>\n",
       "      <td>446.013885</td>\n",
       "      <td>0.0</td>\n",
       "      <td>True</td>\n",
       "      <td>6903</td>\n",
       "    </tr>\n",
       "    <tr>\n",
       "      <th>6704</th>\n",
       "      <td>438.993408</td>\n",
       "      <td>0.0</td>\n",
       "      <td>True</td>\n",
       "      <td>6704</td>\n",
       "    </tr>\n",
       "    <tr>\n",
       "      <th>6604</th>\n",
       "      <td>438.420715</td>\n",
       "      <td>0.0</td>\n",
       "      <td>True</td>\n",
       "      <td>6604</td>\n",
       "    </tr>\n",
       "    <tr>\n",
       "      <th>5803</th>\n",
       "      <td>431.356506</td>\n",
       "      <td>0.0</td>\n",
       "      <td>True</td>\n",
       "      <td>5803</td>\n",
       "    </tr>\n",
       "    <tr>\n",
       "      <th>5304</th>\n",
       "      <td>431.227112</td>\n",
       "      <td>0.0</td>\n",
       "      <td>True</td>\n",
       "      <td>5304</td>\n",
       "    </tr>\n",
       "    <tr>\n",
       "      <th>6602</th>\n",
       "      <td>429.203888</td>\n",
       "      <td>0.0</td>\n",
       "      <td>True</td>\n",
       "      <td>6602</td>\n",
       "    </tr>\n",
       "    <tr>\n",
       "      <th>6002</th>\n",
       "      <td>428.380463</td>\n",
       "      <td>0.0</td>\n",
       "      <td>True</td>\n",
       "      <td>6002</td>\n",
       "    </tr>\n",
       "    <tr>\n",
       "      <th>6904</th>\n",
       "      <td>427.531830</td>\n",
       "      <td>0.0</td>\n",
       "      <td>True</td>\n",
       "      <td>6904</td>\n",
       "    </tr>\n",
       "    <tr>\n",
       "      <th>6004</th>\n",
       "      <td>427.137024</td>\n",
       "      <td>0.0</td>\n",
       "      <td>True</td>\n",
       "      <td>6004</td>\n",
       "    </tr>\n",
       "    <tr>\n",
       "      <th>6804</th>\n",
       "      <td>426.928070</td>\n",
       "      <td>0.0</td>\n",
       "      <td>True</td>\n",
       "      <td>6804</td>\n",
       "    </tr>\n",
       "    <tr>\n",
       "      <th>7003</th>\n",
       "      <td>426.501526</td>\n",
       "      <td>0.0</td>\n",
       "      <td>True</td>\n",
       "      <td>7003</td>\n",
       "    </tr>\n",
       "    <tr>\n",
       "      <th>5303</th>\n",
       "      <td>425.228821</td>\n",
       "      <td>0.0</td>\n",
       "      <td>True</td>\n",
       "      <td>5303</td>\n",
       "    </tr>\n",
       "    <tr>\n",
       "      <th>5603</th>\n",
       "      <td>424.715149</td>\n",
       "      <td>0.0</td>\n",
       "      <td>True</td>\n",
       "      <td>5603</td>\n",
       "    </tr>\n",
       "    <tr>\n",
       "      <th>5104</th>\n",
       "      <td>422.047943</td>\n",
       "      <td>0.0</td>\n",
       "      <td>True</td>\n",
       "      <td>5104</td>\n",
       "    </tr>\n",
       "    <tr>\n",
       "      <th>5702</th>\n",
       "      <td>421.488373</td>\n",
       "      <td>0.0</td>\n",
       "      <td>True</td>\n",
       "      <td>5702</td>\n",
       "    </tr>\n",
       "    <tr>\n",
       "      <th>6702</th>\n",
       "      <td>420.036407</td>\n",
       "      <td>0.0</td>\n",
       "      <td>True</td>\n",
       "      <td>6702</td>\n",
       "    </tr>\n",
       "    <tr>\n",
       "      <th>7004</th>\n",
       "      <td>417.410553</td>\n",
       "      <td>0.0</td>\n",
       "      <td>True</td>\n",
       "      <td>7004</td>\n",
       "    </tr>\n",
       "    <tr>\n",
       "      <th>5704</th>\n",
       "      <td>414.470306</td>\n",
       "      <td>0.0</td>\n",
       "      <td>True</td>\n",
       "      <td>5704</td>\n",
       "    </tr>\n",
       "    <tr>\n",
       "      <th>5504</th>\n",
       "      <td>411.809479</td>\n",
       "      <td>0.0</td>\n",
       "      <td>True</td>\n",
       "      <td>5504</td>\n",
       "    </tr>\n",
       "    <tr>\n",
       "      <th>7103</th>\n",
       "      <td>411.432892</td>\n",
       "      <td>0.0</td>\n",
       "      <td>True</td>\n",
       "      <td>7103</td>\n",
       "    </tr>\n",
       "    <tr>\n",
       "      <th>5602</th>\n",
       "      <td>410.153748</td>\n",
       "      <td>0.0</td>\n",
       "      <td>True</td>\n",
       "      <td>5602</td>\n",
       "    </tr>\n",
       "    <tr>\n",
       "      <th>5503</th>\n",
       "      <td>409.909637</td>\n",
       "      <td>0.0</td>\n",
       "      <td>True</td>\n",
       "      <td>5503</td>\n",
       "    </tr>\n",
       "    <tr>\n",
       "      <th>5502</th>\n",
       "      <td>406.495361</td>\n",
       "      <td>0.0</td>\n",
       "      <td>True</td>\n",
       "      <td>5502</td>\n",
       "    </tr>\n",
       "    <tr>\n",
       "      <th>5505</th>\n",
       "      <td>404.242828</td>\n",
       "      <td>0.0</td>\n",
       "      <td>True</td>\n",
       "      <td>5505</td>\n",
       "    </tr>\n",
       "    <tr>\n",
       "      <th>6005</th>\n",
       "      <td>401.237122</td>\n",
       "      <td>0.0</td>\n",
       "      <td>True</td>\n",
       "      <td>6005</td>\n",
       "    </tr>\n",
       "    <tr>\n",
       "      <th>5203</th>\n",
       "      <td>400.521790</td>\n",
       "      <td>0.0</td>\n",
       "      <td>True</td>\n",
       "      <td>5203</td>\n",
       "    </tr>\n",
       "    <tr>\n",
       "      <th>5605</th>\n",
       "      <td>398.660828</td>\n",
       "      <td>0.0</td>\n",
       "      <td>True</td>\n",
       "      <td>5605</td>\n",
       "    </tr>\n",
       "    <tr>\n",
       "      <th>5405</th>\n",
       "      <td>396.181091</td>\n",
       "      <td>0.0</td>\n",
       "      <td>True</td>\n",
       "      <td>5405</td>\n",
       "    </tr>\n",
       "    <tr>\n",
       "      <th>5904</th>\n",
       "      <td>396.147858</td>\n",
       "      <td>0.0</td>\n",
       "      <td>True</td>\n",
       "      <td>5904</td>\n",
       "    </tr>\n",
       "    <tr>\n",
       "      <th>6802</th>\n",
       "      <td>395.195312</td>\n",
       "      <td>0.0</td>\n",
       "      <td>True</td>\n",
       "      <td>6802</td>\n",
       "    </tr>\n",
       "    <tr>\n",
       "      <th>6902</th>\n",
       "      <td>392.233459</td>\n",
       "      <td>0.0</td>\n",
       "      <td>True</td>\n",
       "      <td>6902</td>\n",
       "    </tr>\n",
       "    <tr>\n",
       "      <th>7104</th>\n",
       "      <td>390.720215</td>\n",
       "      <td>0.0</td>\n",
       "      <td>True</td>\n",
       "      <td>7104</td>\n",
       "    </tr>\n",
       "    <tr>\n",
       "      <th>7203</th>\n",
       "      <td>390.111755</td>\n",
       "      <td>0.0</td>\n",
       "      <td>True</td>\n",
       "      <td>7203</td>\n",
       "    </tr>\n",
       "    <tr>\n",
       "      <th>6104</th>\n",
       "      <td>388.863190</td>\n",
       "      <td>0.0</td>\n",
       "      <td>True</td>\n",
       "      <td>6104</td>\n",
       "    </tr>\n",
       "    <tr>\n",
       "      <th>5402</th>\n",
       "      <td>388.734283</td>\n",
       "      <td>0.0</td>\n",
       "      <td>True</td>\n",
       "      <td>5402</td>\n",
       "    </tr>\n",
       "    <tr>\n",
       "      <th>5804</th>\n",
       "      <td>388.612183</td>\n",
       "      <td>0.0</td>\n",
       "      <td>True</td>\n",
       "      <td>5804</td>\n",
       "    </tr>\n",
       "  </tbody>\n",
       "</table>\n",
       "</div>"
      ],
      "text/plain": [
       "         F Score  P Value  Support Attribute\n",
       "6403  496.335297      0.0     True      6403\n",
       "6303  490.841614      0.0     True      6303\n",
       "6203  490.669037      0.0     True      6203\n",
       "6003  483.230774      0.0     True      6003\n",
       "6103  483.122925      0.0     True      6103\n",
       "6603  477.154419      0.0     True      6603\n",
       "6503  474.675018      0.0     True      6503\n",
       "6703  472.670959      0.0     True      6703\n",
       "6202  466.372528      0.0     True      6202\n",
       "6304  464.426788      0.0     True      6304\n",
       "6803  463.961212      0.0     True      6803\n",
       "6402  463.101776      0.0     True      6402\n",
       "6302  461.959412      0.0     True      6302\n",
       "6204  460.429535      0.0     True      6204\n",
       "5903  460.315765      0.0     True      5903\n",
       "6102  459.889252      0.0     True      6102\n",
       "6404  459.586456      0.0     True      6404\n",
       "6504  459.511993      0.0     True      6504\n",
       "5404  457.400085      0.0     True      5404\n",
       "5604  454.645233      0.0     True      5604\n",
       "5403  450.067993      0.0     True      5403\n",
       "6502  448.441772      0.0     True      6502\n",
       "5802  446.934326      0.0     True      5802\n",
       "5902  446.794006      0.0     True      5902\n",
       "6903  446.013885      0.0     True      6903\n",
       "6704  438.993408      0.0     True      6704\n",
       "6604  438.420715      0.0     True      6604\n",
       "5803  431.356506      0.0     True      5803\n",
       "5304  431.227112      0.0     True      5304\n",
       "6602  429.203888      0.0     True      6602\n",
       "6002  428.380463      0.0     True      6002\n",
       "6904  427.531830      0.0     True      6904\n",
       "6004  427.137024      0.0     True      6004\n",
       "6804  426.928070      0.0     True      6804\n",
       "7003  426.501526      0.0     True      7003\n",
       "5303  425.228821      0.0     True      5303\n",
       "5603  424.715149      0.0     True      5603\n",
       "5104  422.047943      0.0     True      5104\n",
       "5702  421.488373      0.0     True      5702\n",
       "6702  420.036407      0.0     True      6702\n",
       "7004  417.410553      0.0     True      7004\n",
       "5704  414.470306      0.0     True      5704\n",
       "5504  411.809479      0.0     True      5504\n",
       "7103  411.432892      0.0     True      7103\n",
       "5602  410.153748      0.0     True      5602\n",
       "5503  409.909637      0.0     True      5503\n",
       "5502  406.495361      0.0     True      5502\n",
       "5505  404.242828      0.0     True      5505\n",
       "6005  401.237122      0.0     True      6005\n",
       "5203  400.521790      0.0     True      5203\n",
       "5605  398.660828      0.0     True      5605\n",
       "5405  396.181091      0.0     True      5405\n",
       "5904  396.147858      0.0     True      5904\n",
       "6802  395.195312      0.0     True      6802\n",
       "6902  392.233459      0.0     True      6902\n",
       "7104  390.720215      0.0     True      7104\n",
       "7203  390.111755      0.0     True      7203\n",
       "6104  388.863190      0.0     True      6104\n",
       "5402  388.734283      0.0     True      5402\n",
       "5804  388.612183      0.0     True      5804"
      ]
     },
     "execution_count": 21,
     "metadata": {},
     "output_type": "execute_result"
    }
   ],
   "source": [
    "def select_kbest_reg(data_frame, target, k=2):\n",
    "    \"\"\"\n",
    "    Seleccionado K-Best features para regresión\n",
    "    :param data_frame: Un dataframe con datos\n",
    "    :param target: target en el dataframe\n",
    "    :param k: cantidad deseada de features\n",
    "    :devuelve un dataframe llamado feature_scores con los scores para cada feature\n",
    "    \"\"\"\n",
    "    feat_selector = SelectKBest(f_classif, k=k)    \n",
    "    _ = feat_selector.fit(data_frame.drop(target, axis=1), data_frame[target])\n",
    "    \n",
    "    feat_scores = pd.DataFrame()\n",
    "    feat_scores[\"F Score\"] = feat_selector.scores_\n",
    "    feat_scores[\"P Value\"] = feat_selector.pvalues_\n",
    "    feat_scores[\"Support\"] = feat_selector.get_support()\n",
    "    feat_scores[\"Attribute\"] = data_frame.drop(target, axis=1).columns\n",
    "    \n",
    "    return feat_scores\n",
    "\n",
    "kbest_feat = select_kbest_reg(data, \"target\", k=5000) # la mitad de scores\n",
    "kbest_feat = kbest_feat.sort_values([\"F Score\", \"P Value\"], ascending=[False, False])\n",
    "kbest_feat.head(60)"
   ]
  },
  {
   "cell_type": "code",
   "execution_count": 22,
   "metadata": {},
   "outputs": [
    {
     "data": {
      "text/plain": [
       "True     5000\n",
       "False    5000\n",
       "Name: Support, dtype: int64"
      ]
     },
     "execution_count": 22,
     "metadata": {},
     "output_type": "execute_result"
    }
   ],
   "source": [
    "kbest_feat.Support.value_counts()"
   ]
  },
  {
   "cell_type": "markdown",
   "metadata": {},
   "source": [
    "Realizamos una máscara con los \"peores\" features para, posteriormente, igualarlo a un valor determinado."
   ]
  },
  {
   "cell_type": "code",
   "execution_count": 23,
   "metadata": {},
   "outputs": [],
   "source": [
    "kbest_support_mask = kbest_feat.loc[kbest_feat.Support==False, \"Attribute\"].values"
   ]
  },
  {
   "cell_type": "code",
   "execution_count": 24,
   "metadata": {},
   "outputs": [
    {
     "data": {
      "text/plain": [
       "array([3563, 6673, 7928, ..., 5226, 706, 5026], dtype=object)"
      ]
     },
     "execution_count": 24,
     "metadata": {},
     "output_type": "execute_result"
    }
   ],
   "source": [
    "kbest_support_mask"
   ]
  },
  {
   "cell_type": "code",
   "execution_count": 25,
   "metadata": {},
   "outputs": [
    {
     "data": {
      "text/html": [
       "<div>\n",
       "<style scoped>\n",
       "    .dataframe tbody tr th:only-of-type {\n",
       "        vertical-align: middle;\n",
       "    }\n",
       "\n",
       "    .dataframe tbody tr th {\n",
       "        vertical-align: top;\n",
       "    }\n",
       "\n",
       "    .dataframe thead th {\n",
       "        text-align: right;\n",
       "    }\n",
       "</style>\n",
       "<table border=\"1\" class=\"dataframe\">\n",
       "  <thead>\n",
       "    <tr style=\"text-align: right;\">\n",
       "      <th></th>\n",
       "      <th>3563</th>\n",
       "      <th>6673</th>\n",
       "      <th>7928</th>\n",
       "      <th>2659</th>\n",
       "      <th>9187</th>\n",
       "      <th>2183</th>\n",
       "      <th>238</th>\n",
       "      <th>3319</th>\n",
       "      <th>3025</th>\n",
       "      <th>5688</th>\n",
       "      <th>...</th>\n",
       "      <th>9037</th>\n",
       "      <th>8935</th>\n",
       "      <th>9137</th>\n",
       "      <th>8255</th>\n",
       "      <th>9036</th>\n",
       "      <th>404</th>\n",
       "      <th>9257</th>\n",
       "      <th>5226</th>\n",
       "      <th>706</th>\n",
       "      <th>5026</th>\n",
       "    </tr>\n",
       "  </thead>\n",
       "  <tbody>\n",
       "    <tr>\n",
       "      <th>0</th>\n",
       "      <td>87</td>\n",
       "      <td>126</td>\n",
       "      <td>186</td>\n",
       "      <td>70</td>\n",
       "      <td>147</td>\n",
       "      <td>163</td>\n",
       "      <td>147</td>\n",
       "      <td>167</td>\n",
       "      <td>106</td>\n",
       "      <td>172</td>\n",
       "      <td>...</td>\n",
       "      <td>217</td>\n",
       "      <td>210</td>\n",
       "      <td>219</td>\n",
       "      <td>205</td>\n",
       "      <td>219</td>\n",
       "      <td>19</td>\n",
       "      <td>215</td>\n",
       "      <td>79</td>\n",
       "      <td>7</td>\n",
       "      <td>80</td>\n",
       "    </tr>\n",
       "    <tr>\n",
       "      <th>1</th>\n",
       "      <td>123</td>\n",
       "      <td>175</td>\n",
       "      <td>181</td>\n",
       "      <td>160</td>\n",
       "      <td>151</td>\n",
       "      <td>199</td>\n",
       "      <td>108</td>\n",
       "      <td>186</td>\n",
       "      <td>128</td>\n",
       "      <td>160</td>\n",
       "      <td>...</td>\n",
       "      <td>184</td>\n",
       "      <td>197</td>\n",
       "      <td>188</td>\n",
       "      <td>174</td>\n",
       "      <td>193</td>\n",
       "      <td>113</td>\n",
       "      <td>192</td>\n",
       "      <td>95</td>\n",
       "      <td>128</td>\n",
       "      <td>79</td>\n",
       "    </tr>\n",
       "    <tr>\n",
       "      <th>2</th>\n",
       "      <td>43</td>\n",
       "      <td>139</td>\n",
       "      <td>172</td>\n",
       "      <td>67</td>\n",
       "      <td>141</td>\n",
       "      <td>148</td>\n",
       "      <td>60</td>\n",
       "      <td>101</td>\n",
       "      <td>76</td>\n",
       "      <td>78</td>\n",
       "      <td>...</td>\n",
       "      <td>180</td>\n",
       "      <td>181</td>\n",
       "      <td>183</td>\n",
       "      <td>189</td>\n",
       "      <td>177</td>\n",
       "      <td>1</td>\n",
       "      <td>179</td>\n",
       "      <td>51</td>\n",
       "      <td>18</td>\n",
       "      <td>47</td>\n",
       "    </tr>\n",
       "    <tr>\n",
       "      <th>3</th>\n",
       "      <td>56</td>\n",
       "      <td>47</td>\n",
       "      <td>77</td>\n",
       "      <td>40</td>\n",
       "      <td>0</td>\n",
       "      <td>63</td>\n",
       "      <td>54</td>\n",
       "      <td>68</td>\n",
       "      <td>53</td>\n",
       "      <td>0</td>\n",
       "      <td>...</td>\n",
       "      <td>107</td>\n",
       "      <td>99</td>\n",
       "      <td>108</td>\n",
       "      <td>136</td>\n",
       "      <td>104</td>\n",
       "      <td>154</td>\n",
       "      <td>131</td>\n",
       "      <td>6</td>\n",
       "      <td>147</td>\n",
       "      <td>12</td>\n",
       "    </tr>\n",
       "    <tr>\n",
       "      <th>4</th>\n",
       "      <td>66</td>\n",
       "      <td>189</td>\n",
       "      <td>211</td>\n",
       "      <td>95</td>\n",
       "      <td>207</td>\n",
       "      <td>118</td>\n",
       "      <td>101</td>\n",
       "      <td>99</td>\n",
       "      <td>54</td>\n",
       "      <td>171</td>\n",
       "      <td>...</td>\n",
       "      <td>228</td>\n",
       "      <td>225</td>\n",
       "      <td>229</td>\n",
       "      <td>220</td>\n",
       "      <td>227</td>\n",
       "      <td>0</td>\n",
       "      <td>230</td>\n",
       "      <td>96</td>\n",
       "      <td>0</td>\n",
       "      <td>90</td>\n",
       "    </tr>\n",
       "    <tr>\n",
       "      <th>...</th>\n",
       "      <td>...</td>\n",
       "      <td>...</td>\n",
       "      <td>...</td>\n",
       "      <td>...</td>\n",
       "      <td>...</td>\n",
       "      <td>...</td>\n",
       "      <td>...</td>\n",
       "      <td>...</td>\n",
       "      <td>...</td>\n",
       "      <td>...</td>\n",
       "      <td>...</td>\n",
       "      <td>...</td>\n",
       "      <td>...</td>\n",
       "      <td>...</td>\n",
       "      <td>...</td>\n",
       "      <td>...</td>\n",
       "      <td>...</td>\n",
       "      <td>...</td>\n",
       "      <td>...</td>\n",
       "      <td>...</td>\n",
       "      <td>...</td>\n",
       "    </tr>\n",
       "    <tr>\n",
       "      <th>665</th>\n",
       "      <td>73</td>\n",
       "      <td>45</td>\n",
       "      <td>167</td>\n",
       "      <td>167</td>\n",
       "      <td>171</td>\n",
       "      <td>130</td>\n",
       "      <td>192</td>\n",
       "      <td>109</td>\n",
       "      <td>90</td>\n",
       "      <td>87</td>\n",
       "      <td>...</td>\n",
       "      <td>235</td>\n",
       "      <td>240</td>\n",
       "      <td>242</td>\n",
       "      <td>249</td>\n",
       "      <td>238</td>\n",
       "      <td>77</td>\n",
       "      <td>246</td>\n",
       "      <td>31</td>\n",
       "      <td>54</td>\n",
       "      <td>58</td>\n",
       "    </tr>\n",
       "    <tr>\n",
       "      <th>666</th>\n",
       "      <td>63</td>\n",
       "      <td>42</td>\n",
       "      <td>79</td>\n",
       "      <td>178</td>\n",
       "      <td>155</td>\n",
       "      <td>85</td>\n",
       "      <td>200</td>\n",
       "      <td>135</td>\n",
       "      <td>199</td>\n",
       "      <td>33</td>\n",
       "      <td>...</td>\n",
       "      <td>243</td>\n",
       "      <td>243</td>\n",
       "      <td>246</td>\n",
       "      <td>232</td>\n",
       "      <td>241</td>\n",
       "      <td>48</td>\n",
       "      <td>248</td>\n",
       "      <td>60</td>\n",
       "      <td>62</td>\n",
       "      <td>79</td>\n",
       "    </tr>\n",
       "    <tr>\n",
       "      <th>667</th>\n",
       "      <td>143</td>\n",
       "      <td>194</td>\n",
       "      <td>24</td>\n",
       "      <td>78</td>\n",
       "      <td>87</td>\n",
       "      <td>107</td>\n",
       "      <td>143</td>\n",
       "      <td>152</td>\n",
       "      <td>117</td>\n",
       "      <td>181</td>\n",
       "      <td>...</td>\n",
       "      <td>205</td>\n",
       "      <td>165</td>\n",
       "      <td>218</td>\n",
       "      <td>247</td>\n",
       "      <td>186</td>\n",
       "      <td>22</td>\n",
       "      <td>246</td>\n",
       "      <td>17</td>\n",
       "      <td>29</td>\n",
       "      <td>26</td>\n",
       "    </tr>\n",
       "    <tr>\n",
       "      <th>668</th>\n",
       "      <td>149</td>\n",
       "      <td>198</td>\n",
       "      <td>126</td>\n",
       "      <td>179</td>\n",
       "      <td>85</td>\n",
       "      <td>155</td>\n",
       "      <td>213</td>\n",
       "      <td>71</td>\n",
       "      <td>32</td>\n",
       "      <td>23</td>\n",
       "      <td>...</td>\n",
       "      <td>232</td>\n",
       "      <td>201</td>\n",
       "      <td>247</td>\n",
       "      <td>222</td>\n",
       "      <td>219</td>\n",
       "      <td>5</td>\n",
       "      <td>250</td>\n",
       "      <td>90</td>\n",
       "      <td>0</td>\n",
       "      <td>41</td>\n",
       "    </tr>\n",
       "    <tr>\n",
       "      <th>669</th>\n",
       "      <td>132</td>\n",
       "      <td>125</td>\n",
       "      <td>199</td>\n",
       "      <td>154</td>\n",
       "      <td>1</td>\n",
       "      <td>103</td>\n",
       "      <td>171</td>\n",
       "      <td>63</td>\n",
       "      <td>98</td>\n",
       "      <td>10</td>\n",
       "      <td>...</td>\n",
       "      <td>231</td>\n",
       "      <td>215</td>\n",
       "      <td>233</td>\n",
       "      <td>237</td>\n",
       "      <td>231</td>\n",
       "      <td>5</td>\n",
       "      <td>215</td>\n",
       "      <td>216</td>\n",
       "      <td>39</td>\n",
       "      <td>179</td>\n",
       "    </tr>\n",
       "  </tbody>\n",
       "</table>\n",
       "<p>670 rows × 5000 columns</p>\n",
       "</div>"
      ],
      "text/plain": [
       "     3563  6673  7928  2659  9187  2183  238   3319  3025  5688  ...  9037  \\\n",
       "0      87   126   186    70   147   163   147   167   106   172  ...   217   \n",
       "1     123   175   181   160   151   199   108   186   128   160  ...   184   \n",
       "2      43   139   172    67   141   148    60   101    76    78  ...   180   \n",
       "3      56    47    77    40     0    63    54    68    53     0  ...   107   \n",
       "4      66   189   211    95   207   118   101    99    54   171  ...   228   \n",
       "..    ...   ...   ...   ...   ...   ...   ...   ...   ...   ...  ...   ...   \n",
       "665    73    45   167   167   171   130   192   109    90    87  ...   235   \n",
       "666    63    42    79   178   155    85   200   135   199    33  ...   243   \n",
       "667   143   194    24    78    87   107   143   152   117   181  ...   205   \n",
       "668   149   198   126   179    85   155   213    71    32    23  ...   232   \n",
       "669   132   125   199   154     1   103   171    63    98    10  ...   231   \n",
       "\n",
       "     8935  9137  8255  9036  404   9257  5226  706   5026  \n",
       "0     210   219   205   219    19   215    79     7    80  \n",
       "1     197   188   174   193   113   192    95   128    79  \n",
       "2     181   183   189   177     1   179    51    18    47  \n",
       "3      99   108   136   104   154   131     6   147    12  \n",
       "4     225   229   220   227     0   230    96     0    90  \n",
       "..    ...   ...   ...   ...   ...   ...   ...   ...   ...  \n",
       "665   240   242   249   238    77   246    31    54    58  \n",
       "666   243   246   232   241    48   248    60    62    79  \n",
       "667   165   218   247   186    22   246    17    29    26  \n",
       "668   201   247   222   219     5   250    90     0    41  \n",
       "669   215   233   237   231     5   215   216    39   179  \n",
       "\n",
       "[670 rows x 5000 columns]"
      ]
     },
     "execution_count": 25,
     "metadata": {},
     "output_type": "execute_result"
    }
   ],
   "source": [
    "data.loc[:, kbest_support_mask]"
   ]
  },
  {
   "cell_type": "code",
   "execution_count": 26,
   "metadata": {},
   "outputs": [],
   "source": [
    "data.loc[:, kbest_support_mask] = 0"
   ]
  },
  {
   "cell_type": "markdown",
   "metadata": {},
   "source": [
    "Comprobamos que la máscara funciona con una imagen de prueba.\n",
    "De esta manera al graficar la imagen solo nos mostrará los 5000 features (pixeles) más relevantes."
   ]
  },
  {
   "cell_type": "code",
   "execution_count": 27,
   "metadata": {},
   "outputs": [],
   "source": [
    "img_ejemplo = data.loc[4, kbest_support_mask]"
   ]
  },
  {
   "cell_type": "code",
   "execution_count": 28,
   "metadata": {},
   "outputs": [
    {
     "data": {
      "text/plain": [
       "3563    0\n",
       "6673    0\n",
       "7928    0\n",
       "2659    0\n",
       "9187    0\n",
       "       ..\n",
       "404     0\n",
       "9257    0\n",
       "5226    0\n",
       "706     0\n",
       "5026    0\n",
       "Name: 4, Length: 5000, dtype: int64"
      ]
     },
     "execution_count": 28,
     "metadata": {},
     "output_type": "execute_result"
    }
   ],
   "source": [
    "img_ejemplo"
   ]
  },
  {
   "cell_type": "code",
   "execution_count": 29,
   "metadata": {},
   "outputs": [
    {
     "data": {
      "text/plain": [
       "array([0, 0, 0, ..., 0, 0, 0], dtype=int64)"
      ]
     },
     "execution_count": 29,
     "metadata": {},
     "output_type": "execute_result"
    }
   ],
   "source": [
    "np.array(img_ejemplo)"
   ]
  },
  {
   "cell_type": "code",
   "execution_count": 30,
   "metadata": {},
   "outputs": [
    {
     "data": {
      "text/html": [
       "<div>\n",
       "<style scoped>\n",
       "    .dataframe tbody tr th:only-of-type {\n",
       "        vertical-align: middle;\n",
       "    }\n",
       "\n",
       "    .dataframe tbody tr th {\n",
       "        vertical-align: top;\n",
       "    }\n",
       "\n",
       "    .dataframe thead th {\n",
       "        text-align: right;\n",
       "    }\n",
       "</style>\n",
       "<table border=\"1\" class=\"dataframe\">\n",
       "  <thead>\n",
       "    <tr style=\"text-align: right;\">\n",
       "      <th></th>\n",
       "      <th>0</th>\n",
       "      <th>1</th>\n",
       "      <th>2</th>\n",
       "      <th>3</th>\n",
       "      <th>4</th>\n",
       "      <th>5</th>\n",
       "      <th>6</th>\n",
       "      <th>7</th>\n",
       "      <th>8</th>\n",
       "      <th>9</th>\n",
       "      <th>...</th>\n",
       "      <th>9990</th>\n",
       "      <th>9991</th>\n",
       "      <th>9992</th>\n",
       "      <th>9993</th>\n",
       "      <th>9994</th>\n",
       "      <th>9995</th>\n",
       "      <th>9996</th>\n",
       "      <th>9997</th>\n",
       "      <th>9998</th>\n",
       "      <th>9999</th>\n",
       "    </tr>\n",
       "  </thead>\n",
       "  <tbody>\n",
       "    <tr>\n",
       "      <th>0</th>\n",
       "      <td>0</td>\n",
       "      <td>0</td>\n",
       "      <td>0</td>\n",
       "      <td>0</td>\n",
       "      <td>0</td>\n",
       "      <td>0</td>\n",
       "      <td>0</td>\n",
       "      <td>0</td>\n",
       "      <td>0</td>\n",
       "      <td>0</td>\n",
       "      <td>...</td>\n",
       "      <td>0</td>\n",
       "      <td>0</td>\n",
       "      <td>0</td>\n",
       "      <td>3</td>\n",
       "      <td>1</td>\n",
       "      <td>7</td>\n",
       "      <td>9</td>\n",
       "      <td>9</td>\n",
       "      <td>14</td>\n",
       "      <td>13</td>\n",
       "    </tr>\n",
       "    <tr>\n",
       "      <th>1</th>\n",
       "      <td>0</td>\n",
       "      <td>0</td>\n",
       "      <td>0</td>\n",
       "      <td>0</td>\n",
       "      <td>0</td>\n",
       "      <td>0</td>\n",
       "      <td>0</td>\n",
       "      <td>0</td>\n",
       "      <td>0</td>\n",
       "      <td>0</td>\n",
       "      <td>...</td>\n",
       "      <td>125</td>\n",
       "      <td>121</td>\n",
       "      <td>112</td>\n",
       "      <td>112</td>\n",
       "      <td>114</td>\n",
       "      <td>107</td>\n",
       "      <td>102</td>\n",
       "      <td>93</td>\n",
       "      <td>86</td>\n",
       "      <td>81</td>\n",
       "    </tr>\n",
       "    <tr>\n",
       "      <th>2</th>\n",
       "      <td>0</td>\n",
       "      <td>0</td>\n",
       "      <td>0</td>\n",
       "      <td>0</td>\n",
       "      <td>0</td>\n",
       "      <td>0</td>\n",
       "      <td>0</td>\n",
       "      <td>0</td>\n",
       "      <td>0</td>\n",
       "      <td>0</td>\n",
       "      <td>...</td>\n",
       "      <td>109</td>\n",
       "      <td>112</td>\n",
       "      <td>124</td>\n",
       "      <td>99</td>\n",
       "      <td>91</td>\n",
       "      <td>77</td>\n",
       "      <td>53</td>\n",
       "      <td>36</td>\n",
       "      <td>22</td>\n",
       "      <td>4</td>\n",
       "    </tr>\n",
       "    <tr>\n",
       "      <th>3</th>\n",
       "      <td>0</td>\n",
       "      <td>0</td>\n",
       "      <td>0</td>\n",
       "      <td>0</td>\n",
       "      <td>0</td>\n",
       "      <td>0</td>\n",
       "      <td>0</td>\n",
       "      <td>0</td>\n",
       "      <td>0</td>\n",
       "      <td>0</td>\n",
       "      <td>...</td>\n",
       "      <td>1</td>\n",
       "      <td>1</td>\n",
       "      <td>1</td>\n",
       "      <td>1</td>\n",
       "      <td>1</td>\n",
       "      <td>1</td>\n",
       "      <td>1</td>\n",
       "      <td>1</td>\n",
       "      <td>1</td>\n",
       "      <td>1</td>\n",
       "    </tr>\n",
       "    <tr>\n",
       "      <th>4</th>\n",
       "      <td>0</td>\n",
       "      <td>0</td>\n",
       "      <td>0</td>\n",
       "      <td>0</td>\n",
       "      <td>0</td>\n",
       "      <td>0</td>\n",
       "      <td>0</td>\n",
       "      <td>0</td>\n",
       "      <td>0</td>\n",
       "      <td>0</td>\n",
       "      <td>...</td>\n",
       "      <td>220</td>\n",
       "      <td>219</td>\n",
       "      <td>218</td>\n",
       "      <td>212</td>\n",
       "      <td>209</td>\n",
       "      <td>210</td>\n",
       "      <td>204</td>\n",
       "      <td>197</td>\n",
       "      <td>186</td>\n",
       "      <td>159</td>\n",
       "    </tr>\n",
       "    <tr>\n",
       "      <th>...</th>\n",
       "      <td>...</td>\n",
       "      <td>...</td>\n",
       "      <td>...</td>\n",
       "      <td>...</td>\n",
       "      <td>...</td>\n",
       "      <td>...</td>\n",
       "      <td>...</td>\n",
       "      <td>...</td>\n",
       "      <td>...</td>\n",
       "      <td>...</td>\n",
       "      <td>...</td>\n",
       "      <td>...</td>\n",
       "      <td>...</td>\n",
       "      <td>...</td>\n",
       "      <td>...</td>\n",
       "      <td>...</td>\n",
       "      <td>...</td>\n",
       "      <td>...</td>\n",
       "      <td>...</td>\n",
       "      <td>...</td>\n",
       "      <td>...</td>\n",
       "    </tr>\n",
       "    <tr>\n",
       "      <th>665</th>\n",
       "      <td>0</td>\n",
       "      <td>0</td>\n",
       "      <td>0</td>\n",
       "      <td>0</td>\n",
       "      <td>0</td>\n",
       "      <td>0</td>\n",
       "      <td>0</td>\n",
       "      <td>0</td>\n",
       "      <td>0</td>\n",
       "      <td>0</td>\n",
       "      <td>...</td>\n",
       "      <td>198</td>\n",
       "      <td>178</td>\n",
       "      <td>125</td>\n",
       "      <td>143</td>\n",
       "      <td>62</td>\n",
       "      <td>41</td>\n",
       "      <td>29</td>\n",
       "      <td>10</td>\n",
       "      <td>5</td>\n",
       "      <td>0</td>\n",
       "    </tr>\n",
       "    <tr>\n",
       "      <th>666</th>\n",
       "      <td>0</td>\n",
       "      <td>0</td>\n",
       "      <td>0</td>\n",
       "      <td>0</td>\n",
       "      <td>0</td>\n",
       "      <td>0</td>\n",
       "      <td>0</td>\n",
       "      <td>0</td>\n",
       "      <td>0</td>\n",
       "      <td>0</td>\n",
       "      <td>...</td>\n",
       "      <td>136</td>\n",
       "      <td>111</td>\n",
       "      <td>71</td>\n",
       "      <td>48</td>\n",
       "      <td>26</td>\n",
       "      <td>19</td>\n",
       "      <td>9</td>\n",
       "      <td>3</td>\n",
       "      <td>0</td>\n",
       "      <td>0</td>\n",
       "    </tr>\n",
       "    <tr>\n",
       "      <th>667</th>\n",
       "      <td>0</td>\n",
       "      <td>0</td>\n",
       "      <td>0</td>\n",
       "      <td>0</td>\n",
       "      <td>0</td>\n",
       "      <td>0</td>\n",
       "      <td>0</td>\n",
       "      <td>0</td>\n",
       "      <td>0</td>\n",
       "      <td>0</td>\n",
       "      <td>...</td>\n",
       "      <td>166</td>\n",
       "      <td>121</td>\n",
       "      <td>105</td>\n",
       "      <td>76</td>\n",
       "      <td>29</td>\n",
       "      <td>7</td>\n",
       "      <td>0</td>\n",
       "      <td>0</td>\n",
       "      <td>0</td>\n",
       "      <td>0</td>\n",
       "    </tr>\n",
       "    <tr>\n",
       "      <th>668</th>\n",
       "      <td>0</td>\n",
       "      <td>0</td>\n",
       "      <td>0</td>\n",
       "      <td>0</td>\n",
       "      <td>0</td>\n",
       "      <td>0</td>\n",
       "      <td>0</td>\n",
       "      <td>0</td>\n",
       "      <td>0</td>\n",
       "      <td>0</td>\n",
       "      <td>...</td>\n",
       "      <td>11</td>\n",
       "      <td>0</td>\n",
       "      <td>0</td>\n",
       "      <td>0</td>\n",
       "      <td>0</td>\n",
       "      <td>0</td>\n",
       "      <td>0</td>\n",
       "      <td>0</td>\n",
       "      <td>0</td>\n",
       "      <td>0</td>\n",
       "    </tr>\n",
       "    <tr>\n",
       "      <th>669</th>\n",
       "      <td>0</td>\n",
       "      <td>0</td>\n",
       "      <td>0</td>\n",
       "      <td>0</td>\n",
       "      <td>0</td>\n",
       "      <td>0</td>\n",
       "      <td>0</td>\n",
       "      <td>0</td>\n",
       "      <td>0</td>\n",
       "      <td>0</td>\n",
       "      <td>...</td>\n",
       "      <td>12</td>\n",
       "      <td>5</td>\n",
       "      <td>45</td>\n",
       "      <td>48</td>\n",
       "      <td>50</td>\n",
       "      <td>22</td>\n",
       "      <td>16</td>\n",
       "      <td>16</td>\n",
       "      <td>18</td>\n",
       "      <td>18</td>\n",
       "    </tr>\n",
       "  </tbody>\n",
       "</table>\n",
       "<p>670 rows × 10000 columns</p>\n",
       "</div>"
      ],
      "text/plain": [
       "     0     1     2     3     4     5     6     7     8     9     ...  9990  \\\n",
       "0       0     0     0     0     0     0     0     0     0     0  ...     0   \n",
       "1       0     0     0     0     0     0     0     0     0     0  ...   125   \n",
       "2       0     0     0     0     0     0     0     0     0     0  ...   109   \n",
       "3       0     0     0     0     0     0     0     0     0     0  ...     1   \n",
       "4       0     0     0     0     0     0     0     0     0     0  ...   220   \n",
       "..    ...   ...   ...   ...   ...   ...   ...   ...   ...   ...  ...   ...   \n",
       "665     0     0     0     0     0     0     0     0     0     0  ...   198   \n",
       "666     0     0     0     0     0     0     0     0     0     0  ...   136   \n",
       "667     0     0     0     0     0     0     0     0     0     0  ...   166   \n",
       "668     0     0     0     0     0     0     0     0     0     0  ...    11   \n",
       "669     0     0     0     0     0     0     0     0     0     0  ...    12   \n",
       "\n",
       "     9991  9992  9993  9994  9995  9996  9997  9998  9999  \n",
       "0       0     0     3     1     7     9     9    14    13  \n",
       "1     121   112   112   114   107   102    93    86    81  \n",
       "2     112   124    99    91    77    53    36    22     4  \n",
       "3       1     1     1     1     1     1     1     1     1  \n",
       "4     219   218   212   209   210   204   197   186   159  \n",
       "..    ...   ...   ...   ...   ...   ...   ...   ...   ...  \n",
       "665   178   125   143    62    41    29    10     5     0  \n",
       "666   111    71    48    26    19     9     3     0     0  \n",
       "667   121   105    76    29     7     0     0     0     0  \n",
       "668     0     0     0     0     0     0     0     0     0  \n",
       "669     5    45    48    50    22    16    16    18    18  \n",
       "\n",
       "[670 rows x 10000 columns]"
      ]
     },
     "execution_count": 30,
     "metadata": {},
     "output_type": "execute_result"
    }
   ],
   "source": [
    "data.iloc[: , :-1]"
   ]
  },
  {
   "cell_type": "code",
   "execution_count": 31,
   "metadata": {},
   "outputs": [
    {
     "data": {
      "text/plain": [
       "array([  0,   0,   0, ..., 197, 186, 159], dtype=int64)"
      ]
     },
     "execution_count": 31,
     "metadata": {},
     "output_type": "execute_result"
    }
   ],
   "source": [
    "np.array(data.iloc[4 , :-1])"
   ]
  },
  {
   "cell_type": "code",
   "execution_count": 32,
   "metadata": {},
   "outputs": [],
   "source": [
    "img_ej = np.array(data.iloc[4 , :-1]).reshape(100,100)"
   ]
  },
  {
   "cell_type": "code",
   "execution_count": 33,
   "metadata": {},
   "outputs": [
    {
     "data": {
      "text/plain": [
       "array([[  0,   0,   0, ...,   0,   0,   0],\n",
       "       [  0,   0,   0, ...,   0,   0,   0],\n",
       "       [  0,   0,   0, ...,   0,   0,   0],\n",
       "       ...,\n",
       "       [227, 223, 222, ..., 190, 175, 153],\n",
       "       [219, 224, 222, ..., 194, 180, 156],\n",
       "       [219, 226, 224, ..., 197, 186, 159]], dtype=int64)"
      ]
     },
     "execution_count": 33,
     "metadata": {},
     "output_type": "execute_result"
    }
   ],
   "source": [
    "img_ej"
   ]
  },
  {
   "cell_type": "code",
   "execution_count": 35,
   "metadata": {},
   "outputs": [
    {
     "data": {
      "image/png": "[encoded data removed]",
      "text/plain": [
       "<Figure size 432x288 with 2 Axes>"
      ]
     },
     "metadata": {
      "needs_background": "light"
     },
     "output_type": "display_data"
    }
   ],
   "source": [
    "plt.subplot(1, 2, 1)\n",
    "plt.imshow(img_ej, cmap=\"gray\")\n",
    "plt.subplot(1, 2, 2)\n",
    "plt.imshow(img_ej)\n",
    "plt.show()"
   ]
  },
  {
   "cell_type": "markdown",
   "metadata": {},
   "source": [
    "En la imagen vemos que utiliza pixeles no relevantes para el diagnóstico (partes blandas del tórax, mediastino), y algunos pixeles que sí son importantes y tenidos en cuenta para el diagnóstico de la enfermedad (bases pulmonares y sectores apicales del pulmón)."
   ]
  },
  {
   "cell_type": "code",
   "execution_count": 45,
   "metadata": {},
   "outputs": [],
   "source": [
    "imgnue = cv2.imread('../img_prediccion/7.jpg', cv2.COLOR_BGR2GRAY)"
   ]
  },
  {
   "cell_type": "code",
   "execution_count": 48,
   "metadata": {},
   "outputs": [
    {
     "data": {
      "text/plain": [
       "(2249, 2809, 3)"
      ]
     },
     "execution_count": 48,
     "metadata": {},
     "output_type": "execute_result"
    }
   ],
   "source": [
    "imgnue.shape"
   ]
  },
  {
   "cell_type": "code",
   "execution_count": 51,
   "metadata": {},
   "outputs": [
    {
     "data": {
      "image/png": "[encoded data removed]",
      "text/plain": [
       "<Figure size 432x288 with 2 Axes>"
      ]
     },
     "metadata": {
      "needs_background": "light"
     },
     "output_type": "display_data"
    }
   ],
   "source": [
    "plt.subplot(1, 2, 1)\n",
    "plt.imshow(imgnue, cmap=\"gray\")\n",
    "plt.subplot(1, 2, 2)\n",
    "plt.imshow(img_ej)\n",
    "plt.show()"
   ]
  },
  {
   "cell_type": "code",
   "execution_count": 52,
   "metadata": {},
   "outputs": [
    {
     "data": {
      "text/plain": [
       "(2249, 2809, 3)"
      ]
     },
     "execution_count": 52,
     "metadata": {},
     "output_type": "execute_result"
    }
   ],
   "source": [
    "imgnue.shape"
   ]
  },
  {
   "cell_type": "code",
   "execution_count": 56,
   "metadata": {},
   "outputs": [],
   "source": []
  },
  {
   "cell_type": "code",
   "execution_count": null,
   "metadata": {},
   "outputs": [],
   "source": [
    "\n"
   ]
  },
  {
   "cell_type": "code",
   "execution_count": 47,
   "metadata": {},
   "outputs": [],
   "source": [
    "from lime import lime_image"
   ]
  },
  {
   "cell_type": "code",
   "execution_count": 49,
   "metadata": {},
   "outputs": [
    {
     "ename": "ValueError",
     "evalue": "Found array with dim 4. Estimator expected <= 2.",
     "output_type": "error",
     "traceback": [
      "\u001b[1;31m---------------------------------------------------------------------------\u001b[0m",
      "\u001b[1;31mValueError\u001b[0m                                Traceback (most recent call last)",
      "\u001b[1;32m<ipython-input-49-58c1306b728a>\u001b[0m in \u001b[0;36m<module>\u001b[1;34m\u001b[0m\n\u001b[0;32m      7\u001b[0m     \u001b[0mhide_color\u001b[0m\u001b[1;33m=\u001b[0m\u001b[1;36m0\u001b[0m\u001b[1;33m,\u001b[0m\u001b[1;33m\u001b[0m\u001b[1;33m\u001b[0m\u001b[0m\n\u001b[0;32m      8\u001b[0m     \u001b[0mnum_features\u001b[0m\u001b[1;33m=\u001b[0m\u001b[1;36m20\u001b[0m\u001b[1;33m,\u001b[0m\u001b[1;33m\u001b[0m\u001b[1;33m\u001b[0m\u001b[0m\n\u001b[1;32m----> 9\u001b[1;33m     num_samples=500)\n\u001b[0m",
      "\u001b[1;32m~\\anaconda3\\envs\\dhdsblend\\lib\\site-packages\\lime\\lime_image.py\u001b[0m in \u001b[0;36mexplain_instance\u001b[1;34m(self, image, classifier_fn, labels, hide_color, top_labels, num_features, num_samples, batch_size, segmentation_fn, distance_metric, model_regressor, random_seed)\u001b[0m\n\u001b[0;32m    185\u001b[0m         data, labels = self.data_labels(image, fudged_image, segments,\n\u001b[0;32m    186\u001b[0m                                         \u001b[0mclassifier_fn\u001b[0m\u001b[1;33m,\u001b[0m \u001b[0mnum_samples\u001b[0m\u001b[1;33m,\u001b[0m\u001b[1;33m\u001b[0m\u001b[1;33m\u001b[0m\u001b[0m\n\u001b[1;32m--> 187\u001b[1;33m                                         batch_size=batch_size)\n\u001b[0m\u001b[0;32m    188\u001b[0m \u001b[1;33m\u001b[0m\u001b[0m\n\u001b[0;32m    189\u001b[0m         distances = sklearn.metrics.pairwise_distances(\n",
      "\u001b[1;32m~\\anaconda3\\envs\\dhdsblend\\lib\\site-packages\\lime\\lime_image.py\u001b[0m in \u001b[0;36mdata_labels\u001b[1;34m(self, image, fudged_image, segments, classifier_fn, num_samples, batch_size)\u001b[0m\n\u001b[0;32m    246\u001b[0m             \u001b[0mimgs\u001b[0m\u001b[1;33m.\u001b[0m\u001b[0mappend\u001b[0m\u001b[1;33m(\u001b[0m\u001b[0mtemp\u001b[0m\u001b[1;33m)\u001b[0m\u001b[1;33m\u001b[0m\u001b[1;33m\u001b[0m\u001b[0m\n\u001b[0;32m    247\u001b[0m             \u001b[1;32mif\u001b[0m \u001b[0mlen\u001b[0m\u001b[1;33m(\u001b[0m\u001b[0mimgs\u001b[0m\u001b[1;33m)\u001b[0m \u001b[1;33m==\u001b[0m \u001b[0mbatch_size\u001b[0m\u001b[1;33m:\u001b[0m\u001b[1;33m\u001b[0m\u001b[1;33m\u001b[0m\u001b[0m\n\u001b[1;32m--> 248\u001b[1;33m                 \u001b[0mpreds\u001b[0m \u001b[1;33m=\u001b[0m \u001b[0mclassifier_fn\u001b[0m\u001b[1;33m(\u001b[0m\u001b[0mnp\u001b[0m\u001b[1;33m.\u001b[0m\u001b[0marray\u001b[0m\u001b[1;33m(\u001b[0m\u001b[0mimgs\u001b[0m\u001b[1;33m)\u001b[0m\u001b[1;33m)\u001b[0m\u001b[1;33m\u001b[0m\u001b[1;33m\u001b[0m\u001b[0m\n\u001b[0m\u001b[0;32m    249\u001b[0m                 \u001b[0mlabels\u001b[0m\u001b[1;33m.\u001b[0m\u001b[0mextend\u001b[0m\u001b[1;33m(\u001b[0m\u001b[0mpreds\u001b[0m\u001b[1;33m)\u001b[0m\u001b[1;33m\u001b[0m\u001b[1;33m\u001b[0m\u001b[0m\n\u001b[0;32m    250\u001b[0m                 \u001b[0mimgs\u001b[0m \u001b[1;33m=\u001b[0m \u001b[1;33m[\u001b[0m\u001b[1;33m]\u001b[0m\u001b[1;33m\u001b[0m\u001b[1;33m\u001b[0m\u001b[0m\n",
      "\u001b[1;32m~\\anaconda3\\envs\\dhdsblend\\lib\\site-packages\\sklearn\\linear_model\\_logistic.py\u001b[0m in \u001b[0;36mpredict_proba\u001b[1;34m(self, X)\u001b[0m\n\u001b[0;32m   1468\u001b[0m             \u001b[1;32mreturn\u001b[0m \u001b[0msuper\u001b[0m\u001b[1;33m(\u001b[0m\u001b[1;33m)\u001b[0m\u001b[1;33m.\u001b[0m\u001b[0m_predict_proba_lr\u001b[0m\u001b[1;33m(\u001b[0m\u001b[0mX\u001b[0m\u001b[1;33m)\u001b[0m\u001b[1;33m\u001b[0m\u001b[1;33m\u001b[0m\u001b[0m\n\u001b[0;32m   1469\u001b[0m         \u001b[1;32melse\u001b[0m\u001b[1;33m:\u001b[0m\u001b[1;33m\u001b[0m\u001b[1;33m\u001b[0m\u001b[0m\n\u001b[1;32m-> 1470\u001b[1;33m             \u001b[0mdecision\u001b[0m \u001b[1;33m=\u001b[0m \u001b[0mself\u001b[0m\u001b[1;33m.\u001b[0m\u001b[0mdecision_function\u001b[0m\u001b[1;33m(\u001b[0m\u001b[0mX\u001b[0m\u001b[1;33m)\u001b[0m\u001b[1;33m\u001b[0m\u001b[1;33m\u001b[0m\u001b[0m\n\u001b[0m\u001b[0;32m   1471\u001b[0m             \u001b[1;32mif\u001b[0m \u001b[0mdecision\u001b[0m\u001b[1;33m.\u001b[0m\u001b[0mndim\u001b[0m \u001b[1;33m==\u001b[0m \u001b[1;36m1\u001b[0m\u001b[1;33m:\u001b[0m\u001b[1;33m\u001b[0m\u001b[1;33m\u001b[0m\u001b[0m\n\u001b[0;32m   1472\u001b[0m                 \u001b[1;31m# Workaround for multi_class=\"multinomial\" and binary outcomes\u001b[0m\u001b[1;33m\u001b[0m\u001b[1;33m\u001b[0m\u001b[1;33m\u001b[0m\u001b[0m\n",
      "\u001b[1;32m~\\anaconda3\\envs\\dhdsblend\\lib\\site-packages\\sklearn\\linear_model\\_base.py\u001b[0m in \u001b[0;36mdecision_function\u001b[1;34m(self, X)\u001b[0m\n\u001b[0;32m    280\u001b[0m         \u001b[0mcheck_is_fitted\u001b[0m\u001b[1;33m(\u001b[0m\u001b[0mself\u001b[0m\u001b[1;33m)\u001b[0m\u001b[1;33m\u001b[0m\u001b[1;33m\u001b[0m\u001b[0m\n\u001b[0;32m    281\u001b[0m \u001b[1;33m\u001b[0m\u001b[0m\n\u001b[1;32m--> 282\u001b[1;33m         \u001b[0mX\u001b[0m \u001b[1;33m=\u001b[0m \u001b[0mcheck_array\u001b[0m\u001b[1;33m(\u001b[0m\u001b[0mX\u001b[0m\u001b[1;33m,\u001b[0m \u001b[0maccept_sparse\u001b[0m\u001b[1;33m=\u001b[0m\u001b[1;34m'csr'\u001b[0m\u001b[1;33m)\u001b[0m\u001b[1;33m\u001b[0m\u001b[1;33m\u001b[0m\u001b[0m\n\u001b[0m\u001b[0;32m    283\u001b[0m \u001b[1;33m\u001b[0m\u001b[0m\n\u001b[0;32m    284\u001b[0m         \u001b[0mn_features\u001b[0m \u001b[1;33m=\u001b[0m \u001b[0mself\u001b[0m\u001b[1;33m.\u001b[0m\u001b[0mcoef_\u001b[0m\u001b[1;33m.\u001b[0m\u001b[0mshape\u001b[0m\u001b[1;33m[\u001b[0m\u001b[1;36m1\u001b[0m\u001b[1;33m]\u001b[0m\u001b[1;33m\u001b[0m\u001b[1;33m\u001b[0m\u001b[0m\n",
      "\u001b[1;32m~\\anaconda3\\envs\\dhdsblend\\lib\\site-packages\\sklearn\\utils\\validation.py\u001b[0m in \u001b[0;36minner_f\u001b[1;34m(*args, **kwargs)\u001b[0m\n\u001b[0;32m     71\u001b[0m                           FutureWarning)\n\u001b[0;32m     72\u001b[0m         \u001b[0mkwargs\u001b[0m\u001b[1;33m.\u001b[0m\u001b[0mupdate\u001b[0m\u001b[1;33m(\u001b[0m\u001b[1;33m{\u001b[0m\u001b[0mk\u001b[0m\u001b[1;33m:\u001b[0m \u001b[0marg\u001b[0m \u001b[1;32mfor\u001b[0m \u001b[0mk\u001b[0m\u001b[1;33m,\u001b[0m \u001b[0marg\u001b[0m \u001b[1;32min\u001b[0m \u001b[0mzip\u001b[0m\u001b[1;33m(\u001b[0m\u001b[0msig\u001b[0m\u001b[1;33m.\u001b[0m\u001b[0mparameters\u001b[0m\u001b[1;33m,\u001b[0m \u001b[0margs\u001b[0m\u001b[1;33m)\u001b[0m\u001b[1;33m}\u001b[0m\u001b[1;33m)\u001b[0m\u001b[1;33m\u001b[0m\u001b[1;33m\u001b[0m\u001b[0m\n\u001b[1;32m---> 73\u001b[1;33m         \u001b[1;32mreturn\u001b[0m \u001b[0mf\u001b[0m\u001b[1;33m(\u001b[0m\u001b[1;33m**\u001b[0m\u001b[0mkwargs\u001b[0m\u001b[1;33m)\u001b[0m\u001b[1;33m\u001b[0m\u001b[1;33m\u001b[0m\u001b[0m\n\u001b[0m\u001b[0;32m     74\u001b[0m     \u001b[1;32mreturn\u001b[0m \u001b[0minner_f\u001b[0m\u001b[1;33m\u001b[0m\u001b[1;33m\u001b[0m\u001b[0m\n\u001b[0;32m     75\u001b[0m \u001b[1;33m\u001b[0m\u001b[0m\n",
      "\u001b[1;32m~\\anaconda3\\envs\\dhdsblend\\lib\\site-packages\\sklearn\\utils\\validation.py\u001b[0m in \u001b[0;36mcheck_array\u001b[1;34m(array, accept_sparse, accept_large_sparse, dtype, order, copy, force_all_finite, ensure_2d, allow_nd, ensure_min_samples, ensure_min_features, estimator)\u001b[0m\n\u001b[0;32m    640\u001b[0m         \u001b[1;32mif\u001b[0m \u001b[1;32mnot\u001b[0m \u001b[0mallow_nd\u001b[0m \u001b[1;32mand\u001b[0m \u001b[0marray\u001b[0m\u001b[1;33m.\u001b[0m\u001b[0mndim\u001b[0m \u001b[1;33m>=\u001b[0m \u001b[1;36m3\u001b[0m\u001b[1;33m:\u001b[0m\u001b[1;33m\u001b[0m\u001b[1;33m\u001b[0m\u001b[0m\n\u001b[0;32m    641\u001b[0m             raise ValueError(\"Found array with dim %d. %s expected <= 2.\"\n\u001b[1;32m--> 642\u001b[1;33m                              % (array.ndim, estimator_name))\n\u001b[0m\u001b[0;32m    643\u001b[0m \u001b[1;33m\u001b[0m\u001b[0m\n\u001b[0;32m    644\u001b[0m         \u001b[1;32mif\u001b[0m \u001b[0mforce_all_finite\u001b[0m\u001b[1;33m:\u001b[0m\u001b[1;33m\u001b[0m\u001b[1;33m\u001b[0m\u001b[0m\n",
      "\u001b[1;31mValueError\u001b[0m: Found array with dim 4. Estimator expected <= 2."
     ]
    }
   ],
   "source": [
    "\n",
    "explainer = lime_image.LimeImageExplainer()\n",
    "\n",
    "explanation = explainer.explain_instance(\n",
    "    image=imgnue, \n",
    "    classifier_fn=model_logreg.predict_proba, \n",
    "    top_labels=1, \n",
    "    hide_color=0, \n",
    "    num_features=20, \n",
    "    num_samples=500)\n"
   ]
  },
  {
   "cell_type": "code",
   "execution_count": null,
   "metadata": {},
   "outputs": [],
   "source": [
    "masked_image, boundaries = explanation.get_image_and_mask(\n",
    "    label=336, \n",
    "    positive_only=True, \n",
    "    num_features=6, \n",
    "    hide_rest=True)\n",
    "\n",
    "plt.imshow(mark_boundaries(masked_image / 2 + 0.5, boundaries))\n"
   ]
  }
 ],
 "metadata": {
  "kernelspec": {
   "display_name": "Python 3",
   "language": "python",
   "name": "python3"
  },
  "language_info": {
   "codemirror_mode": {
    "name": "ipython",
    "version": 3
   },
   "file_extension": ".py",
   "mimetype": "text/x-python",
   "name": "python",
   "nbconvert_exporter": "python",
   "pygments_lexer": "ipython3",
   "version": "3.7.7"
  }
 },
 "nbformat": 4,
 "nbformat_minor": 4
}
